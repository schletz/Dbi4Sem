{
 "cells": [
  {
   "cell_type": "markdown",
   "metadata": {},
   "source": [
    "# Unsere erste Auswertung\n",
    "## Inhalt der Tabelle Station\n",
    "Wir lesen direkt von der SQL Server Datenbank. Das Kennwort ist hier gespeichert, das sollte natürlich\n",
    "nicht veröffentlicht werden."
   ]
  },
  {
   "cell_type": "code",
   "execution_count": 3,
   "metadata": {},
   "outputs": [
    {
     "name": "stdout",
     "output_type": "stream",
     "text": [
      "1000 Meidling 48.175000000000000\n",
      "1001 Westbahnhof 48.196666666666667\n",
      "1002 Längenfeldgasse 48.185000000000000\n",
      "1003 Praterstern 48.218333333333333\n"
     ]
    }
   ],
   "source": [
    "import pyodbc\n",
    "import sqlalchemy\n",
    "\n",
    "connection_url = sqlalchemy.engine.URL.create(\n",
    "    \"mssql+pyodbc\",\n",
    "    username=\"sa\",\n",
    "    password=\"1234\",\n",
    "    host=\".\\SQLSERVER2019\",\n",
    "    database=\"Fahrkarten\",\n",
    "    query={\n",
    "        \"driver\": \"ODBC Driver 17 for SQL Server\"\n",
    "    },\n",
    ")\n",
    "\n",
    "engine = sqlalchemy.create_engine(connection_url)\n",
    "with engine.connect() as conn:\n",
    "    result = conn.execute(\"SELECT * FROM Station\")\n",
    "    records = result.fetchall()\n",
    "    for row in records:\n",
    "        print(row[0], row[1], row[2])\n"
   ]
  },
  {
   "cell_type": "markdown",
   "metadata": {},
   "source": [
    "## Der Dataframe\n",
    "Wir können die Daten auch in eine spezielle Struktur lesen: dem Dataframe."
   ]
  },
  {
   "cell_type": "code",
   "execution_count": 4,
   "metadata": {},
   "outputs": [
    {
     "name": "stdout",
     "output_type": "stream",
     "text": [
      "   StationId             Name   Latitude  Longitude\n",
      "0       1000         Meidling  48.175000  16.335000\n",
      "1       1001      Westbahnhof  48.196667  16.338333\n",
      "2       1002  Längenfeldgasse  48.185000  16.335000\n",
      "3       1003      Praterstern  48.218333  16.391667\n"
     ]
    }
   ],
   "source": [
    "import pandas as pd\n",
    "with engine.connect() as conn:\n",
    "    stations = pd.read_sql(\"SELECT * FROM Station\", conn)\n",
    "print(stations)"
   ]
  },
  {
   "cell_type": "markdown",
   "metadata": {},
   "source": [
    "Der Dataframe ist eine Collection, die einen flexiblen Zugriff auf die Daten ermöglicht. So können\n",
    "wir nur eine Spalte ausgeben. Da das folgende Statement das letzte Statement ist, wird es automatisch\n",
    "ausgegeben:"
   ]
  },
  {
   "cell_type": "code",
   "execution_count": 5,
   "metadata": {},
   "outputs": [
    {
     "data": {
      "text/plain": [
       "0           Meidling\n",
       "1        Westbahnhof\n",
       "2    Längenfeldgasse\n",
       "3        Praterstern\n",
       "Name: Name, dtype: object"
      ]
     },
     "execution_count": 5,
     "metadata": {},
     "output_type": "execute_result"
    }
   ],
   "source": [
    "stations[\"Name\"]  # oder stations.Name"
   ]
  },
  {
   "cell_type": "markdown",
   "metadata": {},
   "source": [
    "### Filtern im Dataframe\n",
    "Die einfachste Filterung ist eine Auswahl der Datensätze. So werden die ersten 2 Datensätze\n",
    "ausgegeben. Achtung: Es wird bei 0 begonnen zu wählen. Der 2. Index (hier ist er 2) ist *exklusice*.\n",
    "Das ist die sog. *slice syntax*."
   ]
  },
  {
   "cell_type": "code",
   "execution_count": 6,
   "metadata": {},
   "outputs": [
    {
     "data": {
      "text/html": [
       "<div>\n",
       "<style scoped>\n",
       "    .dataframe tbody tr th:only-of-type {\n",
       "        vertical-align: middle;\n",
       "    }\n",
       "\n",
       "    .dataframe tbody tr th {\n",
       "        vertical-align: top;\n",
       "    }\n",
       "\n",
       "    .dataframe thead th {\n",
       "        text-align: right;\n",
       "    }\n",
       "</style>\n",
       "<table border=\"1\" class=\"dataframe\">\n",
       "  <thead>\n",
       "    <tr style=\"text-align: right;\">\n",
       "      <th></th>\n",
       "      <th>StationId</th>\n",
       "      <th>Name</th>\n",
       "      <th>Latitude</th>\n",
       "      <th>Longitude</th>\n",
       "    </tr>\n",
       "  </thead>\n",
       "  <tbody>\n",
       "    <tr>\n",
       "      <th>0</th>\n",
       "      <td>1000</td>\n",
       "      <td>Meidling</td>\n",
       "      <td>48.175000</td>\n",
       "      <td>16.335000</td>\n",
       "    </tr>\n",
       "    <tr>\n",
       "      <th>1</th>\n",
       "      <td>1001</td>\n",
       "      <td>Westbahnhof</td>\n",
       "      <td>48.196667</td>\n",
       "      <td>16.338333</td>\n",
       "    </tr>\n",
       "  </tbody>\n",
       "</table>\n",
       "</div>"
      ],
      "text/plain": [
       "   StationId         Name   Latitude  Longitude\n",
       "0       1000     Meidling  48.175000  16.335000\n",
       "1       1001  Westbahnhof  48.196667  16.338333"
      ]
     },
     "execution_count": 6,
     "metadata": {},
     "output_type": "execute_result"
    }
   ],
   "source": [
    "stations[0:2]"
   ]
  },
  {
   "cell_type": "markdown",
   "metadata": {},
   "source": [
    "Wir können auch einen Ausdruck in die eckicken Klammern schreiben."
   ]
  },
  {
   "cell_type": "code",
   "execution_count": 7,
   "metadata": {},
   "outputs": [
    {
     "data": {
      "text/html": [
       "<div>\n",
       "<style scoped>\n",
       "    .dataframe tbody tr th:only-of-type {\n",
       "        vertical-align: middle;\n",
       "    }\n",
       "\n",
       "    .dataframe tbody tr th {\n",
       "        vertical-align: top;\n",
       "    }\n",
       "\n",
       "    .dataframe thead th {\n",
       "        text-align: right;\n",
       "    }\n",
       "</style>\n",
       "<table border=\"1\" class=\"dataframe\">\n",
       "  <thead>\n",
       "    <tr style=\"text-align: right;\">\n",
       "      <th></th>\n",
       "      <th>StationId</th>\n",
       "      <th>Name</th>\n",
       "      <th>Latitude</th>\n",
       "      <th>Longitude</th>\n",
       "    </tr>\n",
       "  </thead>\n",
       "  <tbody>\n",
       "    <tr>\n",
       "      <th>1</th>\n",
       "      <td>1001</td>\n",
       "      <td>Westbahnhof</td>\n",
       "      <td>48.196667</td>\n",
       "      <td>16.338333</td>\n",
       "    </tr>\n",
       "    <tr>\n",
       "      <th>2</th>\n",
       "      <td>1002</td>\n",
       "      <td>Längenfeldgasse</td>\n",
       "      <td>48.185000</td>\n",
       "      <td>16.335000</td>\n",
       "    </tr>\n",
       "    <tr>\n",
       "      <th>3</th>\n",
       "      <td>1003</td>\n",
       "      <td>Praterstern</td>\n",
       "      <td>48.218333</td>\n",
       "      <td>16.391667</td>\n",
       "    </tr>\n",
       "  </tbody>\n",
       "</table>\n",
       "</div>"
      ],
      "text/plain": [
       "   StationId             Name   Latitude  Longitude\n",
       "1       1001      Westbahnhof  48.196667  16.338333\n",
       "2       1002  Längenfeldgasse  48.185000  16.335000\n",
       "3       1003      Praterstern  48.218333  16.391667"
      ]
     },
     "execution_count": 7,
     "metadata": {},
     "output_type": "execute_result"
    }
   ],
   "source": [
    "stations[stations[\"Latitude\"] > 48.18]"
   ]
  },
  {
   "cell_type": "markdown",
   "metadata": {},
   "source": [
    "Sehen wir uns den folgenden Ausdruck genauer an. Er liefert eine Liste mit\n",
    "*False, True, True, True*. Der > Operator ist also \"überladen\", denn stations[\"Latitude\"] ist eine\n",
    "Liste an Werten. Diese Liste wird verglichen und liefert eine Liste zurück."
   ]
  },
  {
   "cell_type": "code",
   "execution_count": 8,
   "metadata": {},
   "outputs": [
    {
     "data": {
      "text/plain": [
       "0    False\n",
       "1     True\n",
       "2     True\n",
       "3     True\n",
       "Name: Latitude, dtype: bool"
      ]
     },
     "execution_count": 8,
     "metadata": {},
     "output_type": "execute_result"
    }
   ],
   "source": [
    "\n",
    "stations[\"Latitude\"] > 48.18"
   ]
  },
  {
   "cell_type": "markdown",
   "metadata": {},
   "source": [
    "Mehrere Filter können wir mit & kombinieren. Wichtig ist die Klammerung."
   ]
  },
  {
   "cell_type": "code",
   "execution_count": 9,
   "metadata": {},
   "outputs": [
    {
     "data": {
      "text/html": [
       "<div>\n",
       "<style scoped>\n",
       "    .dataframe tbody tr th:only-of-type {\n",
       "        vertical-align: middle;\n",
       "    }\n",
       "\n",
       "    .dataframe tbody tr th {\n",
       "        vertical-align: top;\n",
       "    }\n",
       "\n",
       "    .dataframe thead th {\n",
       "        text-align: right;\n",
       "    }\n",
       "</style>\n",
       "<table border=\"1\" class=\"dataframe\">\n",
       "  <thead>\n",
       "    <tr style=\"text-align: right;\">\n",
       "      <th></th>\n",
       "      <th>StationId</th>\n",
       "      <th>Name</th>\n",
       "      <th>Latitude</th>\n",
       "      <th>Longitude</th>\n",
       "    </tr>\n",
       "  </thead>\n",
       "  <tbody>\n",
       "    <tr>\n",
       "      <th>3</th>\n",
       "      <td>1003</td>\n",
       "      <td>Praterstern</td>\n",
       "      <td>48.218333</td>\n",
       "      <td>16.391667</td>\n",
       "    </tr>\n",
       "  </tbody>\n",
       "</table>\n",
       "</div>"
      ],
      "text/plain": [
       "   StationId         Name   Latitude  Longitude\n",
       "3       1003  Praterstern  48.218333  16.391667"
      ]
     },
     "execution_count": 9,
     "metadata": {},
     "output_type": "execute_result"
    }
   ],
   "source": [
    "stations[(stations[\"Latitude\"] > 48.18) & (stations[\"Longitude\"] > 16.35)]"
   ]
  },
  {
   "cell_type": "markdown",
   "metadata": {},
   "source": [
    "Das folgende Beispiel funktioniert jedoch nicht. startswith ist eine Methode, die für Strings\n",
    "definiert ist. Stations.Name (wir können auch mit Punkt auf eine Spalte zugreifen) ist eine Liste\n",
    "(genau genommen der Typ Series)."
   ]
  },
  {
   "cell_type": "code",
   "execution_count": 10,
   "metadata": {},
   "outputs": [],
   "source": [
    "# stations[stations.Name.startswith(\"N\")]"
   ]
  },
  {
   "cell_type": "markdown",
   "metadata": {},
   "source": [
    "Deswegen gibt es in Pandas für Reihen (Series) das Property str. Es liefert eine Stringliste\n",
    "zurück, die Filterfunktionen anbietet. Siehe https://pandas.pydata.org/docs/reference/api/pandas.Series.str.html"
   ]
  },
  {
   "cell_type": "code",
   "execution_count": 11,
   "metadata": {},
   "outputs": [
    {
     "data": {
      "text/html": [
       "<div>\n",
       "<style scoped>\n",
       "    .dataframe tbody tr th:only-of-type {\n",
       "        vertical-align: middle;\n",
       "    }\n",
       "\n",
       "    .dataframe tbody tr th {\n",
       "        vertical-align: top;\n",
       "    }\n",
       "\n",
       "    .dataframe thead th {\n",
       "        text-align: right;\n",
       "    }\n",
       "</style>\n",
       "<table border=\"1\" class=\"dataframe\">\n",
       "  <thead>\n",
       "    <tr style=\"text-align: right;\">\n",
       "      <th></th>\n",
       "      <th>StationId</th>\n",
       "      <th>Name</th>\n",
       "      <th>Latitude</th>\n",
       "      <th>Longitude</th>\n",
       "    </tr>\n",
       "  </thead>\n",
       "  <tbody>\n",
       "    <tr>\n",
       "      <th>0</th>\n",
       "      <td>1000</td>\n",
       "      <td>Meidling</td>\n",
       "      <td>48.175</td>\n",
       "      <td>16.335</td>\n",
       "    </tr>\n",
       "  </tbody>\n",
       "</table>\n",
       "</div>"
      ],
      "text/plain": [
       "   StationId      Name  Latitude  Longitude\n",
       "0       1000  Meidling    48.175     16.335"
      ]
     },
     "execution_count": 11,
     "metadata": {},
     "output_type": "execute_result"
    }
   ],
   "source": [
    "stations[stations.Name.str.startswith(\"M\")]"
   ]
  },
  {
   "cell_type": "markdown",
   "metadata": {},
   "source": [
    "Möchten wir auch die zurückgegebenen Spalten festlegen, können wir die Funktion *loc* verwenden.\n",
    "Als zweiten Parameter geben wir eine Liste von Spalten, die wir ausgeben möchten, an. In Python gibt es\n",
    "keine \"klassischen\" Arrays. Mit der eckigen Klammer können wir eine Liste definieren."
   ]
  },
  {
   "cell_type": "code",
   "execution_count": 12,
   "metadata": {},
   "outputs": [
    {
     "data": {
      "text/html": [
       "<div>\n",
       "<style scoped>\n",
       "    .dataframe tbody tr th:only-of-type {\n",
       "        vertical-align: middle;\n",
       "    }\n",
       "\n",
       "    .dataframe tbody tr th {\n",
       "        vertical-align: top;\n",
       "    }\n",
       "\n",
       "    .dataframe thead th {\n",
       "        text-align: right;\n",
       "    }\n",
       "</style>\n",
       "<table border=\"1\" class=\"dataframe\">\n",
       "  <thead>\n",
       "    <tr style=\"text-align: right;\">\n",
       "      <th></th>\n",
       "      <th>Name</th>\n",
       "      <th>Latitude</th>\n",
       "    </tr>\n",
       "  </thead>\n",
       "  <tbody>\n",
       "    <tr>\n",
       "      <th>1</th>\n",
       "      <td>Westbahnhof</td>\n",
       "      <td>48.196667</td>\n",
       "    </tr>\n",
       "    <tr>\n",
       "      <th>2</th>\n",
       "      <td>Längenfeldgasse</td>\n",
       "      <td>48.185000</td>\n",
       "    </tr>\n",
       "    <tr>\n",
       "      <th>3</th>\n",
       "      <td>Praterstern</td>\n",
       "      <td>48.218333</td>\n",
       "    </tr>\n",
       "  </tbody>\n",
       "</table>\n",
       "</div>"
      ],
      "text/plain": [
       "              Name   Latitude\n",
       "1      Westbahnhof  48.196667\n",
       "2  Längenfeldgasse  48.185000\n",
       "3      Praterstern  48.218333"
      ]
     },
     "execution_count": 12,
     "metadata": {},
     "output_type": "execute_result"
    }
   ],
   "source": [
    "stations.loc[stations[\"Latitude\"] > 48.18, [\"Name\", \"Latitude\"]]"
   ]
  },
  {
   "cell_type": "markdown",
   "metadata": {},
   "source": [
    "Da ein Subset eines Dataframes wieder ein Dataframe ist, können wir einen Filter mit den\n",
    "Methoden max(), min(), ... kombinieren. Sie liefern das Maximum, Minimum, ... jeder Spalte.\n",
    "Da wir jede Zeile ausgeben möchten, brauchen wir print."
   ]
  },
  {
   "cell_type": "code",
   "execution_count": 13,
   "metadata": {},
   "outputs": [
    {
     "name": "stdout",
     "output_type": "stream",
     "text": [
      "Latitude     48.185\n",
      "Longitude    16.335\n",
      "dtype: float64\n",
      "Latitude     48.200\n",
      "Longitude    16.355\n",
      "dtype: float64\n",
      "Latitude     48.218333\n",
      "Longitude    16.391667\n",
      "dtype: float64\n"
     ]
    }
   ],
   "source": [
    "print(stations.loc[stations[\"Latitude\"] > 48.18, [\"Latitude\", \"Longitude\"]].min())\n",
    "print(stations.loc[stations[\"Latitude\"] > 48.18, [\"Latitude\", \"Longitude\"]].mean())\n",
    "print(stations.loc[stations[\"Latitude\"] > 48.18, [\"Latitude\", \"Longitude\"]].max())"
   ]
  },
  {
   "cell_type": "markdown",
   "metadata": {},
   "source": [
    "Wir können mit Sort in Verbindung mit der slice Syntax sehr leicht die 3 südlichsten Haltestellen\n",
    "herausfinden:"
   ]
  },
  {
   "cell_type": "code",
   "execution_count": 14,
   "metadata": {},
   "outputs": [
    {
     "data": {
      "text/html": [
       "<div>\n",
       "<style scoped>\n",
       "    .dataframe tbody tr th:only-of-type {\n",
       "        vertical-align: middle;\n",
       "    }\n",
       "\n",
       "    .dataframe tbody tr th {\n",
       "        vertical-align: top;\n",
       "    }\n",
       "\n",
       "    .dataframe thead th {\n",
       "        text-align: right;\n",
       "    }\n",
       "</style>\n",
       "<table border=\"1\" class=\"dataframe\">\n",
       "  <thead>\n",
       "    <tr style=\"text-align: right;\">\n",
       "      <th></th>\n",
       "      <th>StationId</th>\n",
       "      <th>Name</th>\n",
       "      <th>Latitude</th>\n",
       "      <th>Longitude</th>\n",
       "    </tr>\n",
       "  </thead>\n",
       "  <tbody>\n",
       "    <tr>\n",
       "      <th>0</th>\n",
       "      <td>1000</td>\n",
       "      <td>Meidling</td>\n",
       "      <td>48.175000</td>\n",
       "      <td>16.335000</td>\n",
       "    </tr>\n",
       "    <tr>\n",
       "      <th>2</th>\n",
       "      <td>1002</td>\n",
       "      <td>Längenfeldgasse</td>\n",
       "      <td>48.185000</td>\n",
       "      <td>16.335000</td>\n",
       "    </tr>\n",
       "    <tr>\n",
       "      <th>1</th>\n",
       "      <td>1001</td>\n",
       "      <td>Westbahnhof</td>\n",
       "      <td>48.196667</td>\n",
       "      <td>16.338333</td>\n",
       "    </tr>\n",
       "  </tbody>\n",
       "</table>\n",
       "</div>"
      ],
      "text/plain": [
       "   StationId             Name   Latitude  Longitude\n",
       "0       1000         Meidling  48.175000  16.335000\n",
       "2       1002  Längenfeldgasse  48.185000  16.335000\n",
       "1       1001      Westbahnhof  48.196667  16.338333"
      ]
     },
     "execution_count": 14,
     "metadata": {},
     "output_type": "execute_result"
    }
   ],
   "source": [
    "stations.sort_values(\"Latitude\")[0:3]"
   ]
  },
  {
   "cell_type": "markdown",
   "metadata": {},
   "source": [
    "Wir können auch neue Spalten anlegen und sie mit einem Wert befüllen. Beachte, dass rechts von der\n",
    "Zuweisung eine ganze Liste erzeugt wird."
   ]
  },
  {
   "cell_type": "code",
   "execution_count": 15,
   "metadata": {},
   "outputs": [
    {
     "name": "stdout",
     "output_type": "stream",
     "text": [
      "   StationId             Name   Latitude  Longitude           NewName\n",
      "0       1000         Meidling  48.175000  16.335000         MeidlingA\n",
      "1       1001      Westbahnhof  48.196667  16.338333      WestbahnhofA\n",
      "2       1002  Längenfeldgasse  48.185000  16.335000  LängenfeldgasseA\n",
      "3       1003      Praterstern  48.218333  16.391667      PratersternA\n"
     ]
    }
   ],
   "source": [
    "stations[\"NewName\"] = stations.Name + \"A\"\n",
    "print(stations)"
   ]
  }
 ],
 "metadata": {
  "interpreter": {
   "hash": "ca585555a2867b459a38eaf8b2b47956aef7a6f770e52f1f5dfa1f8f05e57688"
  },
  "kernelspec": {
   "display_name": "Python 3.10.1 64-bit",
   "language": "python",
   "name": "python3"
  },
  "language_info": {
   "codemirror_mode": {
    "name": "ipython",
    "version": 3
   },
   "file_extension": ".py",
   "mimetype": "text/x-python",
   "name": "python",
   "nbconvert_exporter": "python",
   "pygments_lexer": "ipython3",
   "version": "3.10.1"
  },
  "orig_nbformat": 4
 },
 "nbformat": 4,
 "nbformat_minor": 2
}
