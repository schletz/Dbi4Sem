{
 "cells": [
  {
   "attachments": {},
   "cell_type": "markdown",
   "metadata": {},
   "source": [
    "# Grundasserspiegel in NÖ\n",
    "\n",
    "Quellen:\n",
    "\n",
    "- **Hydrografischer Dienst NÖ:** https://www.noel.gv.at/wasserstand/#/de/Messstellen/Map/Grundwasserspiegel"
   ]
  },
  {
   "cell_type": "code",
   "execution_count": null,
   "metadata": {},
   "outputs": [],
   "source": [
    "import pandas as pd, datetime as dt, numpy as np, re\n",
    "import requests as req\n",
    "import matplotlib.pyplot as plt\n",
    "pd.set_option('display.max_rows', 128)"
   ]
  },
  {
   "cell_type": "code",
   "execution_count": null,
   "metadata": {},
   "outputs": [],
   "source": [
    "stations = pd.read_json(\"https://www.noel.gv.at/wasserstand/kidata/maplist/MapList.json\")\n",
    "stations = stations[stations.Parameter == \"Grundwasserspiegel\"][\"Parameter\tStationnumber\tStationname\tLat\tLong Catchment\".split()]   \n",
    "stations[\"InfoUrl\"] = \"https://www.noel.gv.at/wasserstand/kidata/stammdata/\" + stations.Stationnumber + \".json\"\n",
    "stations[\"DownloadUrl\"] = \"https://www.noel.gv.at/wasserstand/kidata/stationdata/\" + stations.Stationnumber + \"_Grundwasserspiegel_15Jahre.csv\""
   ]
  },
  {
   "cell_type": "code",
   "execution_count": null,
   "metadata": {},
   "outputs": [],
   "source": [
    "def read_stationinfo(row):\n",
    "    print(f\"Lade Daten der Station {row.Stationnumber}...\")\n",
    "    response = req.get(row.InfoUrl, headers={'Accept': 'application/json'})\n",
    "    station_info = response.json()\n",
    "    hoehe_match = re.match(r\"([0-9.,]+)\", station_info.get(\"HisGW\").get(\"Messpunkthoehe\"))\n",
    "    row[\"StationHeight\"] = float(hoehe_match.group(0).replace(\",\", \".\")) if hoehe_match else 0\n",
    "    ngw_match = re.match(r\"([0-9.,]+)\", station_info.get(\"HisGW\").get(\"NGW\"))\n",
    "    row[\"StationNgw\"] = float(ngw_match.group(0).replace(\",\", \".\")) if ngw_match else 0\n",
    "    hgw_match = re.match(r\"([0-9.,]+)\", station_info.get(\"HisGW\").get(\"HGW\"))\n",
    "    row[\"StationHgw\"] = float(hgw_match.group(0).replace(\",\", \".\")) if hgw_match else 0\n",
    "    return row\n",
    "stations = stations.apply(read_stationinfo, axis=1).convert_dtypes() \\\n",
    "    .rename({\"Stationnumber\": \"StationNumber\", \"Stationname\": \"StationName\",\n",
    "             \"Lat\": \"StationLatitude\", \"Long\": \"StationLongitude\", \"Catchment\": \"StationCatchment\"}, axis=1) \\\n",
    "    .astype({\"StationNumber\": int})"
   ]
  },
  {
   "cell_type": "code",
   "execution_count": null,
   "metadata": {},
   "outputs": [],
   "source": [
    "measures = None\n",
    "dateparser = lambda values: pd.to_datetime(values, format='%Y-%m-%d %H:%M:%S')\n",
    "for index, station in stations.iterrows():\n",
    "    print(f\"Lade Messwerte der Station {station.StationNumber} von {station.DownloadUrl}...\")\n",
    "    measure = pd.read_csv(station.DownloadUrl, parse_dates=[\"Datum\"], date_parser=dateparser, \n",
    "                          sep=\";\", header=9, encoding=\"utf-8\", ).convert_dtypes()\n",
    "    measure[\"StationNumber\"] = station.StationNumber\n",
    "    measures = measure if measures is None else pd.concat([measures, measure])\n",
    "measures = measures.set_index(\"StationNumber\")"
   ]
  },
  {
   "cell_type": "code",
   "execution_count": null,
   "metadata": {},
   "outputs": [],
   "source": [
    "# Nur volle Jahre exportieren\n",
    "year_from = 2009\n",
    "year_to = 2022\n",
    "\n",
    "station_measures = stations.drop([\"InfoUrl\", \"DownloadUrl\", \"Parameter\"], axis=1) \\\n",
    "    .join(measures[(measures.Datum.dt.year >= year_from) & (measures.Datum.dt.year <= year_to)], on=\"StationNumber\")\n",
    "station_measures[\"GwLevel\"] = round(station_measures.Wert - station_measures.StationHeight, 3)\n",
    "station_measures.to_csv(\"../grundwasserspiegel_noe.csv\", sep=\";\", encoding=\"utf-8\", index=False)\n",
    "station_measures.to_csv(\"../grundwasserspiegel_noe_unicode.csv\", sep=\";\", encoding=\"utf-16\", index=False)"
   ]
  },
  {
   "attachments": {},
   "cell_type": "markdown",
   "metadata": {},
   "source": [
    "Übersicht über die Anzahl der Messwerte pro Station"
   ]
  },
  {
   "cell_type": "code",
   "execution_count": null,
   "metadata": {},
   "outputs": [],
   "source": [
    "station_measures.groupby([\"StationNumber\", station_measures.Datum.dt.year]).aggregate(Count=(\"StationNumber\", \"size\")) \\\n",
    "    .unstack()"
   ]
  }
 ],
 "metadata": {
  "kernelspec": {
   "display_name": "Python 3",
   "language": "python",
   "name": "python3"
  },
  "language_info": {
   "codemirror_mode": {
    "name": "ipython",
    "version": 3
   },
   "file_extension": ".py",
   "mimetype": "text/x-python",
   "name": "python",
   "nbconvert_exporter": "python",
   "pygments_lexer": "ipython3",
   "version": "3.10.5"
  },
  "orig_nbformat": 4
 },
 "nbformat": 4,
 "nbformat_minor": 2
}
