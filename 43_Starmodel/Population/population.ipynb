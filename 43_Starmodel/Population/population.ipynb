{
 "cells": [
  {
   "attachments": {},
   "cell_type": "markdown",
   "metadata": {},
   "source": [
    "# Bevölkerung im Jahr 2022\n",
    "Quelle:\n",
    "- **Population 2002:** https://www.data.gv.at/katalog/dataset/688b289e-ab72-3ef0-ab7e-b8dc0d2c21d1\n",
    "- **Verwaltungsgrenzen:** https://www.bev.gv.at/Services/Downloads/Produktbezogene-Downloads/Unentgeltliche-Produkte/Kataster-Verzeichnisse.html\n",
    "- **Bezirksgrenzen Wien:** https://www.data.gv.at/katalog/dataset/stat_gliederung-osterreichs-in-politische-bezirke131e2"
   ]
  },
  {
   "cell_type": "code",
   "execution_count": null,
   "metadata": {},
   "outputs": [],
   "source": [
    "import pandas as pd, datetime as dt, numpy as np\n",
    "import matplotlib.pyplot as plt\n",
    "pd.set_option('display.max_rows', 128)"
   ]
  },
  {
   "cell_type": "code",
   "execution_count": null,
   "metadata": {},
   "outputs": [],
   "source": [
    "genders = pd.read_csv(\"OGD_bevstandjbab2002_BevStand_2022_C-C11-0.csv\", sep=\";\", encoding=\"utf_8\") \\\n",
    "    .convert_dtypes()[\"code\tname en_name\".split()] \\\n",
    "    .rename({\"name\": \"NameDe\", \"en_name\": \"NameEn\"}, axis=1)\n",
    "genders[\"Id\"] = genders.code.str.extract(\"-(\\d)$\")\n",
    "genders = genders.set_index(\"code\")"
   ]
  },
  {
   "cell_type": "code",
   "execution_count": null,
   "metadata": {},
   "outputs": [],
   "source": [
    "ages = pd.read_csv(\"OGD_bevstandjbab2002_BevStand_2022_C-GALTEJ112-0.csv\", sep=\";\", encoding=\"utf_8\") \\\n",
    "    .convert_dtypes()[\"code\tname\".split()].set_index(\"code\")\n",
    "ages[\"Value\"] = ages.name.str.extract(\"^(\\d+)\").astype(\"int\")\n",
    "ages[\"Range5\"] = ages.Value.apply(lambda val : f\"{5*int(val/5)}-{5*int(val/5)+4}\" if val < 100 else \"100 und älter\").astype(\"string\")\n",
    "ages[\"Range10\"] = ages.Value.apply(lambda val : f\"{10*int(val/10)}-{10*int(val/10)+9}\" if val < 100 else \"100 und älter\").astype(\"string\")\n",
    "ages = ages.drop(\"name\", axis=1)"
   ]
  },
  {
   "attachments": {},
   "cell_type": "markdown",
   "metadata": {},
   "source": [
    "Geoinformationen lesen. Wien hat ein eigenes File."
   ]
  },
  {
   "cell_type": "code",
   "execution_count": null,
   "metadata": {},
   "outputs": [],
   "source": [
    "cities_area = pd.read_csv(\"cities_area.csv.bz2\", sep=\";\", encoding=\"utf_8\").convert_dtypes() \\\n",
    "    .query(\"GKZ < 90000\") \\\n",
    "    .groupby([\"GKZ\", \"PG\", \"PB\", \"BL\"], as_index=False).aggregate(area=(\"area\", \"sum\"))\n",
    "wien_area = pd.read_csv(\"wien_bezirke_area.csv\", sep=\";\", encoding=\"utf_8\").convert_dtypes()\n",
    "wien_area[\"GKZ\"] = wien_area[\"g_id\"]*100+1\n",
    "wien_area[\"PG\"] = wien_area[\"g_name\"]\n",
    "wien_area[\"PB\"] = wien_area[\"g_name\"]\n",
    "wien_area[\"BL\"] = \"Wien\"\n",
    "cities_area = pd.concat([cities_area, wien_area[[\"GKZ\", \"PG\", \"PB\", \"BL\", \"area\"]]]) \\\n",
    "    .rename({\"area\": \"Area\", \"PG\": \"Name\", \"PB\": \"Bezirk\", \"BL\": \"Bundesland\"}, axis=1) \\\n",
    "    .set_index(\"GKZ\")\n",
    "cities_area[\"Area\"] = cities_area.Area/1_000_000\n",
    "cities_area[\"Area\"] = cities_area.Area.round(3)\n",
    "\n",
    "cities_means = pd.read_csv(\"cities_means.csv\", sep=\";\", encoding=\"utf_8\")[[\"GKZ\", \"X\", \"Y\"]].convert_dtypes() \\\n",
    "    .query(\"GKZ < 90000\")\n",
    "wien_means = pd.read_csv(\"wien_bezirke_means.csv\", sep=\";\", encoding=\"utf_8\")[[\"g_id\", \"X\", \"Y\"]].convert_dtypes()\n",
    "wien_means[\"GKZ\"] = wien_means[\"g_id\"]*100+1\n",
    "cities_means = pd.concat([cities_means, wien_means[[\"GKZ\", \"X\", \"Y\"]]]) \\\n",
    "    .rename({\"X\":\"Longitude\", \"Y\": \"Latitude\"}, axis=1) \\\n",
    "    .set_index(\"GKZ\")\n",
    "cities_means[\"Longitude\"] = cities_means.Longitude.round(6)\n",
    "cities_means[\"Latitude\"] = cities_means.Latitude.round(6)"
   ]
  },
  {
   "cell_type": "code",
   "execution_count": null,
   "metadata": {},
   "outputs": [],
   "source": [
    "cities = pd.read_csv(\"OGD_bevstandjbab2002_BevStand_2022_C-GRGEMAKT-0.csv\", sep=\";\", encoding=\"utf_8\") \\\n",
    "    [[\"code\"]].convert_dtypes()\n",
    "cities[\"Kennziffer\"] = cities.code.str.extract(\"^GRGEMAKT-(\\d+)$\").astype(\"int\")\n",
    "# Matrei am Brenner hat eine andere Kennziffer.\n",
    "cities[\"Kennziffer\"] = cities.Kennziffer.mask(cities.Kennziffer == 70370, 70327)\n",
    "# Wien gesamt (9001) liegt in Bezirken vor. Unknown (0) kommt auch nicht vor.\n",
    "cities = cities[(cities.Kennziffer != 0) & (cities.Kennziffer != 90001)]\n",
    "cities = cities.join(cities_area, on=\"Kennziffer\").join(cities_means, on=\"Kennziffer\").set_index(\"code\")"
   ]
  },
  {
   "cell_type": "code",
   "execution_count": null,
   "metadata": {},
   "outputs": [],
   "source": [
    "population = pd.read_csv(\"OGD_bevstandjbab2002_BevStand_2022.csv.bz2\", sep=\";\", encoding=\"utf_8\") \\\n",
    "    .convert_dtypes()[\"C-C11-0\tC-GRGEMAKT-0\tC-GALTEJ112-0\tF-ISIS-1\".split()]\n",
    "population.columns = \"gender city age Population\".split()\n",
    "population = population.join(genders.rename(lambda col: \"Gender\"+col, axis=1), on=\"gender\") \\\n",
    "    .join(cities.rename(lambda col: \"City\"+col, axis=1), on=\"city\") \\\n",
    "    .join(ages.rename(lambda col: \"Age\"+col, axis=1), on=\"age\")\n",
    "population = population.drop(\"gender\tcity\tage\".split(), axis=1)\n",
    "population.to_csv(\"../population.csv\", sep=\";\", encoding=\"utf-8\", index=False)\n",
    "population.to_csv(\"../population_unicode.csv\", sep=\";\", encoding=\"utf-16\", index=False)\n",
    "if population.CityName.isna().sum() > 0:\n",
    "    print(\"Achtung: Fehlende Orte erkannt.\")\n",
    "    print(population[population.CityName.isna()])"
   ]
  },
  {
   "attachments": {},
   "cell_type": "markdown",
   "metadata": {},
   "source": [
    "Längen der Strings"
   ]
  },
  {
   "cell_type": "code",
   "execution_count": null,
   "metadata": {},
   "outputs": [],
   "source": [
    "population.apply(lambda col: col.astype(\"string\").str.len()).max()"
   ]
  },
  {
   "cell_type": "code",
   "execution_count": null,
   "metadata": {},
   "outputs": [],
   "source": [
    "population.describe()"
   ]
  },
  {
   "cell_type": "code",
   "execution_count": null,
   "metadata": {},
   "outputs": [],
   "source": [
    "population.groupby(\"CityBundesland\").aggregate(Population=(\"Population\", \"sum\")) \\\n",
    "    .to_clipboard()"
   ]
  }
 ],
 "metadata": {
  "kernelspec": {
   "display_name": "Python 3",
   "language": "python",
   "name": "python3"
  },
  "language_info": {
   "codemirror_mode": {
    "name": "ipython",
    "version": 3
   },
   "file_extension": ".py",
   "mimetype": "text/x-python",
   "name": "python",
   "nbconvert_exporter": "python",
   "pygments_lexer": "ipython3",
   "version": "3.10.5"
  },
  "orig_nbformat": 4
 },
 "nbformat": 4,
 "nbformat_minor": 2
}
