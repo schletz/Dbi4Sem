{
 "cells": [
  {
   "cell_type": "markdown",
   "metadata": {},
   "source": [
    "# Umfrage zu den schulautonomen Tagen"
   ]
  },
  {
   "cell_type": "markdown",
   "metadata": {},
   "source": [
    "In der SGA Sitzung am 11.5.2022 wurde über die Schulautonomen Tage 2022/23 abgestimmt. Dabei wurde\n",
    "vorab an alle Lehrenden ein Formular mit den Wünschen geschickt. Die Datei *sga_umfrage.xlsx* beinhaltet\n",
    "die Antworten.\n",
    "\n",
    "- *HERBST_HINTEN:* Wunsch, die Herbstferien nach hinten zu verlängern (2. und 3.11.)\n",
    "- *HERBST_VORNE:* Wunsch, die Herbstferien nach vorne zu verlängern (24. und 25.10.)\n",
    "- *LEOPOLD:* Der Fenstertag am 14.11. soll frei sein.\n",
    "- *MA_EMPF:* Der 7.12. (Tag vor Maria Empfängnis) soll frei sein.\n",
    "- *OSTERDIENSTAG:* Der Dienstag nach Ostern (11.4.) soll frei sein. \t\n",
    "- *CHR_HIMMELF:* Der Freitag nach Christi Himmelfahrt (19.5.) soll frei sein.\n",
    "\n",
    "Das Formular sah eine Reihung vor. 6 Sterne für den beliebtesten Tag bis 1 Stern für den am wenigsten\n",
    "gewünschten Tag. Basierend auf dieser Antwortdatei soll eine Auswertung gemacht werden."
   ]
  },
  {
   "cell_type": "markdown",
   "metadata": {},
   "source": [
    "## Laden der Daten"
   ]
  },
  {
   "cell_type": "code",
   "execution_count": 1,
   "metadata": {},
   "outputs": [],
   "source": [
    "import pandas as pd\n",
    "# Erfordert pip install openpyxl --upgrade\n",
    "sga_data = filelist = pd.read_excel(\"sga_umfrage.xlsx\")"
   ]
  },
  {
   "cell_type": "markdown",
   "metadata": {},
   "source": [
    "## Der beliebteste Tag\n",
    "\n",
    "Die naheliegenste Auswertung ist die nach dem beliebtesten Tag. Er kann auf 2 Arten ermittelt\n",
    "werden:\n",
    "\n",
    "- Für welchen Tag gibt es die meisten Höchstwertungen (6 Sterne)?\n",
    "- Für welchen Tag ist die Summe der Bewertungen am Höchsten?\n",
    "\n",
    "Die Antworten liegen als Spalten vor. Für die weitere Auswertung ist es aber leichter, diese\n",
    "Spalten in Zeilen umzuwandeln. Mit *melt()*\n",
    "(siehe https://pandas.pydata.org/docs/reference/api/pandas.DataFrame.melt.html)\n",
    "können Spalten in Zeilen transformiert werden. Schreibe in *data* einen Dataframe mit den Spalten\n",
    "*PERSON* (Personen-ID), *START*, *ENDE*, *TAG* (die betreffende\n",
    "Antwort) und *SCORE* für den Wert der Antwort. Die Daten müssen in Zeilen angeordnet werden.\n",
    "Die Liste der ID Spalten für *melt()* ist\n",
    "*[\"PERSON\", \"START\", \"ENDE\"]* Die restlichen Spalten werden dann automatisch in Zeilen\n",
    "angeordnet."
   ]
  },
  {
   "cell_type": "code",
   "execution_count": 2,
   "metadata": {},
   "outputs": [],
   "source": [
    "# TODO: Hier den Code einfügen."
   ]
  },
  {
   "cell_type": "markdown",
   "metadata": {},
   "source": [
    "Korrekte Antwort (Sample aus 5 Zeilen aus data):\n",
    "```\n",
    "| PERSON | START               | ENDE                | TAG           | SCORE |\n",
    "|--------|---------------------|---------------------|---------------|-------|\n",
    "| 22     | 2022-03-05 13:57:51 | 2022-03-05 14:00:40 | OSTERDIENSTAG | 1.0   |\n",
    "| 91     | 2022-05-05 09:51:26 | 2022-05-05 09:57:17 | HERBST_VORNE  | 6.0   |\n",
    "| 50     | 2022-03-05 16:41:18 | 2022-03-05 16:41:40 | HERBST_HINTEN | NaN   |\n",
    "| 21     | 2022-03-05 13:52:24 | 2022-03-05 13:59:00 | LEOPOLD       | 1.0   |\n",
    "| 49     | 2022-03-05 16:19:46 | 2022-03-05 16:21:50 | LEOPOLD       | 5.0   |\n",
    "```"
   ]
  },
  {
   "cell_type": "markdown",
   "metadata": {},
   "source": [
    "Nun gruppiere diesen Dataframe nach dem Tag und ermittle, wie viele Datensätze dieser Gruppe\n",
    "6 Punkte haben. Summiere außerdem die Score Spalte pro Gruppe auf. Gebe dabei so vor:\n",
    "\n",
    "- *aggregate()* kann Parameter vom Typ *COLNAME=(col, function)* übergeben bekommen. *COLNAME*\n",
    "  ist der neue Spaltennane, *col* die zu aggregierende Spalte und *function* eine lambda expression,\n",
    "  die eine Liste der Werte dieser Gruppe übergeben bekommt.\n",
    "- Speichere das Ergebnis in *results* und füge dann die Spalte *N6_REL* hinzu. Sie beinhaltet\n",
    "  den Prozentwert der Personen, die diesem Tag die Höchstnote gegeben haben."
   ]
  },
  {
   "cell_type": "code",
   "execution_count": 3,
   "metadata": {},
   "outputs": [],
   "source": [
    "# TODO: Hier den Code einfügen."
   ]
  },
  {
   "cell_type": "markdown",
   "metadata": {},
   "source": [
    "Korrekte Antwort (ohne Indexspalte):\n",
    "```\n",
    "| TAG           | N6 | SUM   | N6_REL |\n",
    "|---------------|----|-------|--------|\n",
    "| CHR_HIMMELF   | 44 | 417.0 | 17.8   |\n",
    "| HERBST_HINTEN | 41 | 371.0 | 16.6   |\n",
    "| HERBST_VORNE  | 43 | 376.0 | 17.4   |\n",
    "| LEOPOLD       | 45 | 409.0 | 18.2   |\n",
    "| MA_EMPF       | 33 | 348.0 | 13.4   |\n",
    "| OSTERDIENSTAG | 41 | 383.0 | 16.6   |\n",
    "```"
   ]
  },
  {
   "cell_type": "markdown",
   "metadata": {},
   "source": [
    "## Korrektheit der Antworten\n",
    "\n",
    "Manche haben mehrmals 6 Sterne ausgewählt. Wie viel % der Umfrageteilnehmer haben mehrmals die\n",
    "Bestnote (6) vergeben? Gruppiere dafür *data* nach der Person und erstelle wieder eine Spalte\n",
    "*N6*, die die Anzahl des Wertes 6 zählt. Weise das Ergebnis der Variable *persons_n6* zu. Zähle\n",
    "danach die Anzahl der Zeilen, bei denen N6 größer als 1 ist."
   ]
  },
  {
   "cell_type": "code",
   "execution_count": 4,
   "metadata": {},
   "outputs": [],
   "source": [
    "# TODO: Hier den Code einfügen."
   ]
  },
  {
   "cell_type": "markdown",
   "metadata": {},
   "source": [
    "Korrekte Antwort: 67.6%"
   ]
  },
  {
   "cell_type": "markdown",
   "metadata": {},
   "source": [
    "Nun ermittle den absoluten und relativen Wert der Personen, die 0, 1, 2, ... Antworten mit 6 Sternen\n",
    "versehen haben. Gehe dabei so vor:\n",
    "\n",
    "1. Nutze den oben erstellten Dataframe *persons_n6*. Gruppiere nach der Anzahlspalte (0, 1, 2, ...). Die Spalte ABS\n",
    "   soll dann die absolute Häufigkeit beinhalten. Speichere dies in den Dataframe *count_6stars*.\n",
    "2. Nun füge eine Spalte \"REL\" zu diesem Dataframe hinzu. Diese Spalte berechnet sich aus ABS\n",
    "   geteilt durch die Summe der Spalte SUM (verwende *sum()*) in Prozent (mal 100).\n"
   ]
  },
  {
   "cell_type": "code",
   "execution_count": 5,
   "metadata": {},
   "outputs": [],
   "source": [
    "# TODO: Hier den Code einfügen."
   ]
  },
  {
   "cell_type": "markdown",
   "metadata": {},
   "source": [
    "Korrektes Ergebnis (ohne Index):\n",
    "```\n",
    "| N6 | ABS | REL  |\n",
    "|----|-----|------|\n",
    "| 0  | 4   | 3.7  |\n",
    "| 1  | 31  | 28.7 |\n",
    "| 2  | 18  | 16.7 |\n",
    "| 3  | 42  | 38.9 |\n",
    "| 4  | 12  | 11.1 |\n",
    "| 6  | 1   | 0.9  |\n",
    "```"
   ]
  },
  {
   "cell_type": "markdown",
   "metadata": {},
   "source": [
    "## Zusammenhang der Antworten\n",
    "\n",
    "Viele Lehrende haben also mehrmals 6 Punkte vergeben. Wie viel % der Lehrenden, die für den\n",
    "Freitag nach Christi Himmelfahrt 6 Punkte vergeben haben (Spalte *CHR_HIMMELF*), haben das auch für\n",
    "den 7. Dezember (Spalte *MA_EMPF*)? Hinweis: Verwende den originalen Dataframe mit den Antworten\n",
    "als Spalten. Es ist nur eine Anweisung. Verwende den & Operator,\n",
    "um eine Liste mit True und False Werten zu erzeugen. True = CHR_HIMMELF und MA_EMPF haben den Wert 6.\n",
    "Mit *sum()* können die True Werte dieser Liste einfach gezählt werden."
   ]
  },
  {
   "cell_type": "code",
   "execution_count": 6,
   "metadata": {},
   "outputs": [],
   "source": [
    "# TODO: Hier den Code einfügen."
   ]
  },
  {
   "cell_type": "markdown",
   "metadata": {},
   "source": [
    "Korrekte Antwort: 26"
   ]
  },
  {
   "cell_type": "markdown",
   "metadata": {},
   "source": [
    "### Verallgemeinerung 1: Zusammenhang mit beliebigen Tagen"
   ]
  },
  {
   "cell_type": "markdown",
   "metadata": {},
   "source": [
    "Verallgemeinere nun das Problem: Wie viel % der Lehrenden, die bei CHR_HIMMELF 6 Punkte gegeben haben,\n",
    "haben auch bei HERBST_HINTEN, HERBST_VORNE, LEOPOLD, MA_EMPF, OSTERDIENSTAG 6 Punkte vergeben? Gehe\n",
    "dabei so vor:\n",
    "\n",
    "- Erstelle mit *pd.DataFrame()* einen neuen Dataframe und speichere ihn in *zweitwahl* ab.\n",
    "  Dabei kannst du mit einem Dictionary den\n",
    "  Spaltennamen TAG als Key angeben. Die Werte sind die Spalten aus spg_data ab dem Index 3. Verwende\n",
    "  das *columns* Attribut des Dataframes in Verbindung mit einem Slice.\n",
    "- Danach wende für die Spalte *zweitwahl.TAG* mit *apply* eine Funktion an, die für den angegeben\n",
    "  Tag die Anzahl der Werte in *sga_data* zählt, die an diesem Tag und an CHR_HIMMELF den Wert 6\n",
    "  haben. Hinweis: Da *apply()* auf eine Series (also 1 Spalte) angewandt wird, ist der Parameter axis\n",
    "  überflüssig. Weise das Ergebnis der Spalte *ABS* zu.\n",
    "- Berechne nun den relativen Anteil in Prozent (mal 100), indem die Werte aus *ABS* durch die Anzahl\n",
    "  der Personen, die 6 Sterne bei CHR_HIMMELF vergeben haben, dividiert wird."
   ]
  },
  {
   "cell_type": "code",
   "execution_count": 7,
   "metadata": {},
   "outputs": [],
   "source": [
    "# TODO: Hier den Code einfügen."
   ]
  },
  {
   "cell_type": "markdown",
   "metadata": {},
   "source": [
    "Korrekte Antwort (ohne Indexspalte):\n",
    "```\n",
    "| TAG           | ABS | REL   |\n",
    "|---------------|-----|-------|\n",
    "| HERBST_HINTEN | 14  | 31.8  |\n",
    "| HERBST_VORNE  | 8   | 18.2  |\n",
    "| LEOPOLD       | 17  | 38.6  |\n",
    "| MA_EMPF       | 26  | 59.1  |\n",
    "| OSTERDIENSTAG | 17  | 38.6  |\n",
    "| CHR_HIMMELF   | 44  | 100.0 |\n",
    "```"
   ]
  },
  {
   "cell_type": "markdown",
   "metadata": {},
   "source": [
    "### Verallgemeinerung 2: Zusammenhang jeder Tag mit jedem Tag"
   ]
  },
  {
   "cell_type": "markdown",
   "metadata": {},
   "source": [
    "Nun wollen wir das Problem zur Gänze verallgemeinern: Wie oft tritt die Bewertung des Tages b mit\n",
    "6 Sternen auf, wenn der Tag a von der Person mit 6 Sternen bewertet wurde? Gehe dabei so vor:\n",
    "\n",
    "- sga_data.colums liefert wie vorher die Liste der Spalten. Mit *pd.Series* kannst du aus dieser\n",
    "  Liste eine Series erstellen. Gib ihr den Namen *ERSTWAHL*.\n",
    "- Aus den gleichen Daten erzeuge eine Series mit dem Namen *OTHER*.\n",
    "- Mit *pd.merge()* füge mittels CROSS JOIN die 2 Series zu einem Dataframe zusammen. Er hat dann\n",
    "  die Spalten *ERSTWAHL* und *OTHER*.\n",
    "- Mit Apply kannst du eine Spalte *ABS* erstellen. Dabei wird gezählt, wie oft der Wert in ERSTWAHL\n",
    "  und der Wert in OTHER die Zahl 6 hat.\n",
    "- Danach pivotiere den Dataframe."
   ]
  },
  {
   "cell_type": "code",
   "execution_count": 8,
   "metadata": {},
   "outputs": [],
   "source": [
    "# TODO: Hier den Code einfügen."
   ]
  },
  {
   "cell_type": "markdown",
   "metadata": {},
   "source": [
    "Korrekte Antwort:\n",
    "```\n",
    "| ERSTWAHL      | CHR_HIMMELF | HERBST_HINTEN | HERBST_VORNE | LEOPOLD | MA_EMPF | OSTERDIENSTAG |\n",
    "|---------------|-------------|---------------|--------------|---------|---------|---------------|\n",
    "| CHR_HIMMELF   | 44          | 37            | 33           | 38      | 41      | 38            |\n",
    "| HERBST_HINTEN | 36          | 41            | 35           | 34      | 37      | 36            |\n",
    "| HERBST_VORNE  | 35          | 37            | 43           | 40      | 35      | 38            |\n",
    "| LEOPOLD       | 38          | 34            | 38           | 45      | 39      | 39            |\n",
    "| MA_EMPF       | 30          | 26            | 22           | 28      | 33      | 26            |\n",
    "| OSTERDIENSTAG | 34          | 33            | 33           | 37      | 32      | 41            |\n",
    "```"
   ]
  },
  {
   "cell_type": "markdown",
   "metadata": {},
   "source": [
    "## Zeitverhalten der Antworten"
   ]
  },
  {
   "cell_type": "markdown",
   "metadata": {},
   "source": [
    "### Analyse der Bearbeitungsdauer"
   ]
  },
  {
   "cell_type": "markdown",
   "metadata": {},
   "source": [
    "In der Exceldatei gibt es zwei Zeitangaben: *START* und *ENDE*. Start gibt an, wann der Benutzer\n",
    "auf die Umfrage geklickt hat. *ENDE* gibt an, wann er die Umfrage abgesendet hat. Wir wollen nun\n",
    "analysieren, wie lange ein Benutzer für die Umfrage gebraucht hat.\n",
    "\n",
    "Mit *describe()* bekommen wir einen guten Überblick. Berechne die Zeitdifferenz zwischen *ENDE* und\n",
    "*START* in Minuten und analysiere diese Series mit *describe()*. Gehe dabei so vor:\n",
    "\n",
    "1. Erstelle mit *apply()* eine neue Spalte *DURATION* im Dataframe *sga_data*. Du kannst die\n",
    "   2 Zeitwerte (*ENDE* und *START*) einfach subtrahieren. Wenn dieser Wert durch \n",
    "   *pd.Timedelta(1, \"s\")* dividiert wird, bekommst du einen Zahlenwert mit der Zeitdifferenz\n",
    "   in Sekunden.\n",
    "2. Gib die Spalte mit *describe()* aus. Verwende als Parameter *percentiles* die Liste\n",
    "   *[.25, .5, .75, .9, .95, .99]*"
   ]
  },
  {
   "cell_type": "code",
   "execution_count": 9,
   "metadata": {},
   "outputs": [],
   "source": [
    "# TODO: Hier den Code einfügen."
   ]
  },
  {
   "cell_type": "markdown",
   "metadata": {},
   "source": [
    "Korrekte Ausgabe:\n",
    "```\n",
    "count     107.000000\n",
    "mean      315.401869\n",
    "std      1014.016773\n",
    "min         9.000000\n",
    "25%        69.000000\n",
    "50%       124.000000\n",
    "75%       218.000000\n",
    "90%       339.000000\n",
    "95%       651.400000\n",
    "99%      2709.700000\n",
    "max      9886.000000\n",
    "```"
   ]
  },
  {
   "cell_type": "markdown",
   "metadata": {},
   "source": [
    "Um die Verteilung auch optisch zu sehen, gib die Spalte *DURATION* in Form eines Histogramms\n",
    "aus. Betrachte die Quantile Werte für 95%, 99% und max aus der vorigen Ausgabe. Was fällt auf?\n",
    "\n",
    "Damit ein besseres Histogramm erstellt werden kann, wollen wir nur Werte bis zur 95% Quantile\n",
    "berücksichtigen. Das bedeutet, dass wir nur die ersten 95% der Messwerte nach Größe sortiert\n",
    "nehmen. Anders gesprochen: Die oberen 5% schließen wir aus. Es entspricht der Aussage \"95% der\n",
    "Teilnehmer brauchten für die Beantwortung weniger als 651.4 Sekunden\". Speichere dafür in *max_val* den\n",
    "Sekundenwert der 95% Quantile. Mit *quantile(0.95)* kann dieser Wert aus der Series\n",
    "*spg_data.DURATION* gewonnen werden. Plotte danach die Series *DURATION* mit dem Filter\n",
    "*Wert < max_val*. Betrachte die Häufigkeitsverteilung. Ist dies eine Normalverteilung? Welche\n",
    "Eigenschaften kannst du erkennen (Symmetrie, Nullpunkt)?"
   ]
  },
  {
   "cell_type": "code",
   "execution_count": 10,
   "metadata": {},
   "outputs": [],
   "source": [
    "# TODO: Hier den Code einfügen."
   ]
  },
  {
   "cell_type": "markdown",
   "metadata": {},
   "source": [
    "### Analyse der Reaktionsgeschwindigkeit"
   ]
  },
  {
   "cell_type": "markdown",
   "metadata": {},
   "source": [
    "Am 3. Mai 2022 wurde um 13:24 (MESZ) die Mail an alle Lehrenden ausgesandt, an der Umfrage teilzunehmen.\n",
    "Dieser Zeitpunkt wird in *mail_sent* gespeichert."
   ]
  },
  {
   "cell_type": "code",
   "execution_count": 11,
   "metadata": {},
   "outputs": [],
   "source": [
    "mail_sent = pd.to_datetime(\"2022-05-03T13:24:00\")"
   ]
  },
  {
   "cell_type": "markdown",
   "metadata": {},
   "source": [
    "Jetzt wollen wir analysieren, wie lange es dauert, bis die TeilnehmerInnen die Mail gelesen und\n",
    "auf die Umfrage geklickt haben. In der Spalte *START* ist der Start der Umfrage gespeichert.\n",
    "Erstelle im Dataframe *sga_data* eine Spalte *DELAY*, die - analog zum vorigen Beispiel - die\n",
    "Zeitdifferenz zwischen *mail_sent* und *START* in Stunden speichert. Dafür musst du die Differenz\n",
    "durch *pd.Timedelta(1, \"h\")* dividieren.\n",
    "\n",
    "Gib die Spalte danach mit *describe()* aus. Vergleiche den Mittelwert (*mean*) mit der 50% Quartile.\n",
    "Letztere sagt aus, dass nach diesem Zeitraum 50% der TeilnehmerInnen ihre Stimme abgegeben hatten."
   ]
  },
  {
   "cell_type": "code",
   "execution_count": 12,
   "metadata": {},
   "outputs": [],
   "source": [
    "# TODO: Hier den Code einfügen."
   ]
  },
  {
   "cell_type": "markdown",
   "metadata": {},
   "source": [
    "Korrekte Ausgabe:\n",
    "```\n",
    "count    107.000000\n",
    "mean      24.158266\n",
    "std       42.654262\n",
    "min        0.009167\n",
    "25%        0.803333\n",
    "50%        3.648889\n",
    "75%       25.268194\n",
    "max      186.214722\n",
    "```"
   ]
  },
  {
   "cell_type": "markdown",
   "metadata": {},
   "source": [
    "#### Erstellen der Verteilungsfunktion\n",
    "\n",
    "Die Verteilungsfunktion *P(X<x)* gibt an, wie viel % der Werte kleiner als ein übergebener Wert (x)\n",
    "sind. In unserem Fall wollen wir einen Dataframe mit den Stunden von 1 - 23 erzeugen. Als\n",
    "Spalte *PERCENT* soll ermittelt werden, wie viel % der Werte in sga_data.DELAY kleiner als 1, 2, ...\n",
    "sind.\n",
    "\n",
    "Gehe dabei so vor:\n",
    "1. Mit range(1,24) können Werte von 1 - 23 generiert werden. Erstelle mit *pd.DataFrame()* einen\n",
    "   neuen Dataframe und übergebe als Dictionary den Key *HOURS* und als Wert diese range. So\n",
    "   entsteht ein Dataframe mit der Spalte *HOURS* und den Werten von 1 - 23.\n",
    "2. Wende auf die Spalte delays.HOURS mit apply eine Funktion an. Diese Funktion zählt die Werte in\n",
    "   *sga_data.DELAY*, die kleiner als der übergebene Wert sind. Das Ganze wird noch durch die\n",
    "   Anzahl dividiert, um relative Werte (Wahrscheinlichkeiten) zu erhalten.\n",
    "3. Weise das Ergebnis der Spalte *P* im erzeugten Dataframe zu."
   ]
  },
  {
   "cell_type": "code",
   "execution_count": 13,
   "metadata": {},
   "outputs": [],
   "source": [
    "# TODO: Hier den Code einfügen."
   ]
  },
  {
   "cell_type": "markdown",
   "metadata": {},
   "source": [
    "Korrekte Ausgabe (ohne Indexspalte):\n",
    "```\n",
    "| HOURS | P       |\n",
    "|-------|---------|\n",
    "| 1     | 0.299   |\n",
    "| 2     | 0.393   |\n",
    "| 3     | 0.449   |\n",
    "| 4     | 0.523   |\n",
    "| 5     | 0.533   |\n",
    "| 6     | 0.570   |\n",
    "| 7     | 0.570   |\n",
    "| 8     | 0.607   |\n",
    "| 9     | 0.617   |\n",
    "| 10    | 0.626   |\n",
    "| 11    | 0.626   |\n",
    "| 12    | 0.626   |\n",
    "| 13    | 0.626   |\n",
    "| 14    | 0.626   |\n",
    "| 15    | 0.626   |\n",
    "| 16    | 0.626   |\n",
    "| 17    | 0.636   |\n",
    "| 18    | 0.664   |\n",
    "| 19    | 0.673   |\n",
    "| 20    | 0.701   |\n",
    "| 21    | 0.710   |\n",
    "| 22    | 0.720   |\n",
    "| 23    | 0.729   |\n",
    "```"
   ]
  },
  {
   "cell_type": "markdown",
   "metadata": {},
   "source": [
    "### Was sagt das aus?\n",
    "\n",
    "Wir sehen durch die (empirische, also über die Werte definierte) Verteilungsfunktion, dass in der\n",
    "ersten Stunde 30% aller TeilnehmerInnen die Umfrage abgerufen haben. Überlege dir folgende\n",
    "Situation: Ein Aufruf an eine größere Gruppe (100 000 Probanden) wird versandt. In der ersten Stunde\n",
    "muss der Server bereits 30 000 Zugriffe verkraften können, da die Antworten nicht gleichmäßig\n",
    "über den Zeitraum verteilt sind sondern - wie wir später genauer analysieren werden - *lognormal*\n",
    "verteilt sind.\n",
    "\n",
    "**Das ist Data Science: Erkenntnisgewinn durch Daten!**"
   ]
  }
 ],
 "metadata": {
  "interpreter": {
   "hash": "3bd13bc16400e16874b7ce28af58a129343287e94248a182c1f06fbb6b76ef8e"
  },
  "kernelspec": {
   "display_name": "Python 3.10.1 64-bit",
   "language": "python",
   "name": "python3"
  },
  "language_info": {
   "codemirror_mode": {
    "name": "ipython",
    "version": 3
   },
   "file_extension": ".py",
   "mimetype": "text/x-python",
   "name": "python",
   "nbconvert_exporter": "python",
   "pygments_lexer": "ipython3",
   "version": "3.10.4"
  },
  "orig_nbformat": 4
 },
 "nbformat": 4,
 "nbformat_minor": 2
}
