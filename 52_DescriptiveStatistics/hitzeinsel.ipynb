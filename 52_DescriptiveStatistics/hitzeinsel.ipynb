{
 "cells": [
  {
   "cell_type": "markdown",
   "metadata": {},
   "source": [
    "# Hitzeinsel Stadt\n",
    "\n",
    "In dieser Übung werden die Messwerte der Station Wien Innere Stadt mit einer Station aus dem Umland\n",
    "(Gumpoldskirchen, 20km südlich davon) verglichen. Es soll statistische gezeigt werden,\n",
    "dass die Stadt einen Einfluss auf die gemessenen Temperaturen hat.\n",
    "\n",
    "Zuerst laden wir die Daten der beiden Stationen und erstellen wie in den Unterlagen eine Tabelle\n",
    "mit den täglichen Temperaturen. Die Tage sind lückenlos, d. h. jeder Tag von 1.1.2000 bis 31.12.2021\n",
    "kommt vor."
   ]
  },
  {
   "cell_type": "code",
   "execution_count": null,
   "metadata": {},
   "outputs": [],
   "source": [
    "import pandas as pd\n",
    "import parseSynop as ps    # Datei parseSynop.py laden\n",
    "data_vienna = ps.readFile(\"synop_11034.txt.bz2\")  # Wien Innere Stadt\n",
    "data_gump = ps.readFile(\"synop_11082.txt.bz2\")    # Gumpoldskirchen\n",
    "data = pd.concat([data_gump, data_vienna])\n",
    "\n",
    "# Alle Tage vom ersten bis zum letzten Tag der Beobachtungen aus Wien\n",
    "days = pd.Series(pd.date_range(start=data_vienna.date.min(), end=data_vienna.date.max(), name=\"date\", freq='D'), name=\"date\")\n",
    "# Alle Stationen im Datenbestand (2 Stationen)\n",
    "stations = pd.Series(data.station.unique(), name=\"station\")\n",
    "# Um lückenlose Daten zu erhalten ordnen wir jeden Tag alle Stationen zu.\n",
    "days_stations = pd.merge(days, stations, how=\"cross\")\n",
    "# Die originalen Daten aggregieren und für alle möglichen Tage den passenden Wert zuordnen.\n",
    "temp_daily = pd.merge(days_stations, \n",
    "    data.groupby([\"station\", \"date\"]).aggregate(Tavg=(\"temp\", \"mean\"), Tmin=(\"min_temp\", \"mean\"), Tmax=(\"max_temp\", \"mean\")), \\\n",
    "    left_on=[\"date\", \"station\"], right_on=[\"date\", \"station\"], how=\"left\")\n",
    "# Jahr, Monat und Tag aus der date Spalte berechnen\n",
    "temp_daily[\"year\"] = pd.DatetimeIndex(temp_daily.date).year\n",
    "temp_daily[\"month\"] = pd.DatetimeIndex(temp_daily.date).month\n",
    "temp_daily[\"day\"] = pd.DatetimeIndex(temp_daily.date).day\n",
    "temp_daily.head(3)"
   ]
  },
  {
   "cell_type": "markdown",
   "metadata": {},
   "source": [
    "## Vergleich der Tmin und Tmax Werte"
   ]
  },
  {
   "cell_type": "markdown",
   "metadata": {},
   "source": [
    "Um festzustellen, ob es in der Innenstadt (Station 11034) im Vergleich zur Station in\n",
    "Gumpoldskirchen (11082) wärmer ist vergleichen wir die Mittelwerte der Tageshöchst- und Tiefsttemperatur\n",
    "(Tmax und Tmin).\n",
    "Gruppiere dafür nach Station und Monat, um ggf. Abhängigkeiten im Jahresverlauf zu erkennen.\n",
    "Pivotiere dann das Ergebnis, sodass eine Gegenüberstellung möglich ist. Achte darauf, dass das Monat\n",
    "ein Index in der Ergebnistabelle ist. Speichere das Ergebnis in *station_compare*."
   ]
  },
  {
   "cell_type": "code",
   "execution_count": null,
   "metadata": {},
   "outputs": [],
   "source": [
    "# TODO: Schreibe den Code"
   ]
  },
  {
   "cell_type": "markdown",
   "metadata": {},
   "source": [
    "Korrektes Ergebnis:\n",
    "```\n",
    "|         | Tmin      |           | Tmax      |           |\n",
    "|---------|-----------|-----------|-----------|-----------|\n",
    "| station | 11034     | 11082     | 11034     | 11082     |\n",
    "| month   |           |           |           |           |\n",
    "| 1       | 0.313767  | -1.415663 | 3.756135  | 3.431515  |\n",
    "| 2       | 1.615862  | -0.193299 | 6.447668  | 6.296870  |\n",
    "| 3       | 4.625688  | 2.704992  | 11.180793 | 11.029528 |\n",
    "| 4       | 8.950233  | 6.663636  | 17.593769 | 17.047360 |\n",
    "| 5       | 12.948674 | 11.174091 | 21.413488 | 20.866119 |\n",
    "| 6       | 17.081833 | 15.107188 | 25.942881 | 25.272214 |\n",
    "| 7       | 18.719720 | 16.741168 | 27.842969 | 27.095783 |\n",
    "| 8       | 18.421726 | 16.170750 | 27.240520 | 26.655046 |\n",
    "| 9       | 14.126875 | 11.997022 | 21.630673 | 21.213208 |\n",
    "| 10      | 9.642966  | 7.434557  | 15.572936 | 15.322948 |\n",
    "| 11      | 5.751005  | 3.851643  | 9.570525  | 9.200948  |\n",
    "| 12      | 1.566461  | -0.161765 | 4.866822  | 4.424961  |\n",
    "```"
   ]
  },
  {
   "cell_type": "markdown",
   "metadata": {},
   "source": [
    "Erstelle nun für Tavg, Tmin und Tmax eine Spalte *diff*. Hinweis: Du kannst hierachische Spalten\n",
    "definieren, indem du einfach *dataframe[col, subcol] = ...* schreibst."
   ]
  },
  {
   "cell_type": "code",
   "execution_count": null,
   "metadata": {},
   "outputs": [],
   "source": [
    "# TODO: Schreibe den Code"
   ]
  },
  {
   "cell_type": "markdown",
   "metadata": {},
   "source": [
    "Korrektes Ergebnis:\n",
    "```\n",
    "|         | Tmin      |           | Tmax      |           | Tmin     | Tmax     |\n",
    "|---------|-----------|-----------|-----------|-----------|----------|----------|\n",
    "| station | 11034     | 11082     | 11034     | 11082     | diff     | diff     |\n",
    "| month   |           |           |           |           |          |          |\n",
    "| 1       | 0.313767  | -1.415663 | 3.756135  | 3.431515  | 1.729430 | 0.324620 |\n",
    "| 2       | 1.615862  | -0.193299 | 6.447668  | 6.296870  | 1.809161 | 0.150799 |\n",
    "| 3       | 4.625688  | 2.704992  | 11.180793 | 11.029528 | 1.920696 | 0.151265 |\n",
    "| 4       | 8.950233  | 6.663636  | 17.593769 | 17.047360 | 2.286597 | 0.546409 |\n",
    "| 5       | 12.948674 | 11.174091 | 21.413488 | 20.866119 | 1.774583 | 0.547369 |\n",
    "| 6       | 17.081833 | 15.107188 | 25.942881 | 25.272214 | 1.974646 | 0.670667 |\n",
    "| 7       | 18.719720 | 16.741168 | 27.842969 | 27.095783 | 1.978553 | 0.747186 |\n",
    "| 8       | 18.421726 | 16.170750 | 27.240520 | 26.655046 | 2.250975 | 0.585474 |\n",
    "| 9       | 14.126875 | 11.997022 | 21.630673 | 21.213208 | 2.129853 | 0.417465 |\n",
    "| 10      | 9.642966  | 7.434557  | 15.572936 | 15.322948 | 2.208410 | 0.249987 |\n",
    "| 11      | 5.751005  | 3.851643  | 9.570525  | 9.200948  | 1.899361 | 0.369577 |\n",
    "| 12      | 1.566461  | -0.161765 | 4.866822  | 4.424961  | 1.728225 | 0.441861 |\n",
    "```"
   ]
  },
  {
   "cell_type": "markdown",
   "metadata": {},
   "source": [
    "## Korrelation zwischen den Werten\n",
    "\n",
    "Wir haben die Differenz bestimmt und erkannt, dass es einen Unterschied zwischen den Differenzen\n",
    "von Tmax und Tmin gibt. Hast du eine Erklärung dafür? Nun wollen wir berechnen, wie die Tmax\n",
    "Werte der Stationen korrelieren.\n",
    "\n",
    "Gehe dabei so vor:\n",
    "- Importiere numpy\n",
    "- Definiere eine Funktion *calc_correl(seriesA, seriesB)*. Sie berechnet die Korrelation zwischen\n",
    "  zwei Reihen (Series). Wenn die Reihen unterschiedlich lang sind, ist None zurückzuliefern. Die\n",
    "  Länge der Reihe kann mit *len(series)* bestimmt werden. Da nur Werte, die nicht NaN sind,\n",
    "  verglichen werden dürfen, muss ein Filter *valid* definiert werden. Er soll true sein, wenn das\n",
    "  Element in *seriesA* und *seriesB* nicht NaN ist. Das kann mit *notna()* geprüft werden.\n",
    "  Beachte, dass *numpy.corrcoef()* ein Array liefert. Es ist nur der Wert zwischen den Stationen\n",
    "  11034 und 11082 interessant, die Funktion soll also eine Zahl zurückgeben.\n",
    "- Rufe die *calc_correl()* Funktion mit den Tmax Werten der Station 11034 und den Tmax Werten\n",
    "  der Station 11082 auf. Funktioniert der Aufruf?\n",
    "- Definiere mit *set_index()* die Spalte *date* als Index und speichere den indizierten Dataframe\n",
    "  in eine neue Variable. Führe danach die Berechnung damit durch. Warum funktioniert es jetzt?\n",
    "  Hinweis: Die NaN werde werden für gleiche Einträge verglichen. Was passiert, wenn z. B. die\n",
    "  Reihen nach dem Wert sortiert werden würden.\n",
    "- Gib die Korrelation und die Standardabweichung von Tmax der Station 11034 aus.\n",
    "- Beachte dass "
   ]
  },
  {
   "cell_type": "code",
   "execution_count": null,
   "metadata": {},
   "outputs": [],
   "source": [
    "# TODO: Schreibe den Code"
   ]
  },
  {
   "cell_type": "markdown",
   "metadata": {},
   "source": [
    "Korrekte Ausgabe:\n",
    "```\n",
    "Die Standardabweichung aller Tmax Werte der Station 11034 (Wien) ist 9.717542835174674  \n",
    "Die Korrelation zischen den Tmax Werten der Stationen 11034 und 11082 ist 0.9960043193553852\n",
    "```"
   ]
  },
  {
   "cell_type": "markdown",
   "metadata": {},
   "source": [
    "Der obige Wert ist die Korrelation über das ganze Jahr gerechnet. Nun wollen wir pro Monat die\n",
    "Korrelation analysieren. Gibt es Unterschiede?"
   ]
  },
  {
   "cell_type": "code",
   "execution_count": null,
   "metadata": {},
   "outputs": [],
   "source": [
    "# TODO: Schreibe den Code"
   ]
  },
  {
   "cell_type": "markdown",
   "metadata": {},
   "source": [
    "Korrekte Ausgabe:\n",
    "```\n",
    "|         | Tavg      |           | Tmin      |           | Tmax      |           | Tavg     | Tmin     | Tmax     | Tavg     | Tmin     | Tmax     |\n",
    "|---------|-----------|-----------|-----------|-----------|-----------|-----------|----------|----------|----------|----------|----------|----------|\n",
    "| station | 11034     | 11082     | 11034     | 11082     | 11034     | 11082     | diff     | diff     | diff     | corr     | corr     | corr     |\n",
    "| month   |           |           |           |           |           |           |          |          |          |          |          |          |\n",
    "| 1       | 1.930564  | 0.933805  | 0.313767  | -1.415663 | 3.756135  | 3.431515  | 0.996758 | 1.729430 | 0.324620 | 0.986324 | 0.946813 | 0.984608 |\n",
    "| 2       | 3.688955  | 2.758444  | 1.615862  | -0.193299 | 6.447668  | 6.296870  | 0.930511 | 1.809161 | 0.150799 | 0.987625 | 0.948456 | 0.990347 |\n",
    "| 3       | 7.538122  | 6.577889  | 4.625688  | 2.704992  | 11.180793 | 11.029528 | 0.960233 | 1.920696 | 0.151265 | 0.988221 | 0.927445 | 0.990490 |\n",
    "| 4       | 12.924345 | 11.775167 | 8.950233  | 6.663636  | 17.593769 | 17.047360 | 1.149178 | 2.286597 | 0.546409 | 0.987155 | 0.866736 | 0.990365 |\n",
    "| 5       | 16.856750 | 15.867910 | 12.948674 | 11.174091 | 21.413488 | 20.866119 | 0.988841 | 1.774583 | 0.547369 | 0.986811 | 0.899497 | 0.986836 |\n",
    "| 6       | 21.097640 | 20.073215 | 17.081833 | 15.107188 | 25.942881 | 25.272214 | 1.024425 | 1.974646 | 0.670667 | 0.987152 | 0.889591 | 0.987456 |\n",
    "| 7       | 22.798524 | 21.709557 | 18.719720 | 16.741168 | 27.842969 | 27.095783 | 1.088966 | 1.978553 | 0.747186 | 0.983831 | 0.867896 | 0.985589 |\n",
    "| 8       | 22.289159 | 21.130210 | 18.421726 | 16.170750 | 27.240520 | 26.655046 | 1.158949 | 2.250975 | 0.585474 | 0.984530 | 0.858671 | 0.970087 |\n",
    "| 9       | 17.391888 | 16.253421 | 14.126875 | 11.997022 | 21.630673 | 21.213208 | 1.138467 | 2.129853 | 0.417465 | 0.980016 | 0.884475 | 0.988047 |\n",
    "| 10      | 12.174326 | 11.014432 | 9.642966  | 7.434557  | 15.572936 | 15.322948 | 1.159893 | 2.208410 | 0.249987 | 0.982089 | 0.921622 | 0.984515 |\n",
    "| 11      | 7.447870  | 6.376930  | 5.751005  | 3.851643  | 9.570525  | 9.200948  | 1.070941 | 1.899361 | 0.369577 | 0.982369 | 0.925509 | 0.983753 |\n",
    "| 12      | 3.026412  | 1.952704  | 1.566461  | -0.161765 | 4.866822  | 4.424961  | 1.073708 | 1.728225 | 0.441861 | 0.983268 | 0.940562 | 0.976833 |\n",
    "```"
   ]
  },
  {
   "cell_type": "markdown",
   "metadata": {},
   "source": [
    "Überlege, warum die Korrelation gerade bei den Tiefstwerten im Sommer geringer ist. Scheinbar\n",
    "gibt es hier zusätzliche Störeinflüsse, die gerade zu dieser Zeit auftreten."
   ]
  },
  {
   "cell_type": "markdown",
   "metadata": {},
   "source": [
    "## Zu erwartende Hitzetage (Tmax >= 30°) und Tropennächte (Tmin >= 20°)"
   ]
  },
  {
   "cell_type": "markdown",
   "metadata": {},
   "source": [
    "In der Meteorologie sind Hitzetage als Tage definiert, wo der Höchstwert größer oder gleich 30° ist.\n",
    "Tropennächte sind Nächte, wo die Temperatur nicht unter 20° sinkt. Nun wollen wir abschätzen, wie\n",
    "viele Hitzetage und Topennächte es im langjährigen Mittel bei den beiden Stationen gibt.\n",
    "\n",
    "Gehe dabei so vor:\n",
    "- Definiere eine Funktion *calc_hitzetage(station, month)*. Sie liefert einen Wahrscheinlichkeitswert\n",
    "  (also eine Zahl zwischen 0 und 1), wie wahrscheinlich ein Hitzetag an der übergebenen Station\n",
    "  im übergebenen Monat ist. Es ist ein simples Zählproblem. Zähle die entsprechenden Werte in\n",
    "  *temp_daily*. Dividiere durch die Anzahl der Werte dieses Monats. Es dürfen keine NaN Werte\n",
    "  in die Zählung aufgenommen werden, daher ist *notna()* an geeigneter Stelle zu verwenden.\n",
    "- Definiere eine Funktion *calc_tropennacht(station, month)*. Sie funktioniert wie die vorige\n",
    "  Funktion, nur zählt sie Tage mit Tmin >= 20.\n",
    "- Erstelle 4 Spalten in *station_compare* mit der Anzahl der entsprechenden Tage. Die Funktionen\n",
    "  liefern einen Wahrscheinlichkeitswert. Wenn du diesen Wert mit 30.4 multipliziert (durchschnittliche\n",
    "  Tage pro Monat), erhältst du die erwartete Anzahl der Tage (der Erwartungswert)."
   ]
  },
  {
   "cell_type": "code",
   "execution_count": null,
   "metadata": {},
   "outputs": [],
   "source": [
    "# TODO: Schreibe den Code"
   ]
  },
  {
   "cell_type": "markdown",
   "metadata": {},
   "source": [
    "Korrekte Ausgabe:\n",
    "```\n",
    "|         |Tavg       |           | Tmin      |           | Tmax      |           | Tavg     | Tmin     | Tmax     | Tavg     | Tmin     | Tmax      | Hitzetage             | Tropennaechte |\n",
    "|---------|-----------|-----------|-----------|-----------|-----------|-----------|----------|----------|----------|----------|----------|-----------|-------|---------------|-------|-------|\n",
    "| station | 11034     | 11082     | 11034     | 11082     | 11034     | 11082     | diff     | diff     | diff     | corr     | corr     | corr      | 11034 | 11082         | 11034 | 11082 |\n",
    "| month   |           |           |           |           |           |           |          |          |          |          |          |           |       |               |       |       |\n",
    "| 1       | 1.930564  | 0.933805  | 0.313767  | -1.415663 | 3.756135  | 3.431515  | 0.996758 | 1.729430 | 0.324620 | 0.986324 | 0.946813 | 0.984608  | 0.0   | 0.0           | 0.0   | 0.0   |\n",
    "| 2       | 3.688955  | 2.758444  | 1.615862  | -0.193299 | 6.447668  | 6.296870  | 0.930511 | 1.809161 | 0.150799 | 0.987625 | 0.948456 | 0.990347  | 0.0   | 0.0           | 0.0   | 0.0   |\n",
    "| 3       | 7.538122  | 6.577889  | 4.625688  | 2.704992  | 11.180793 | 11.029528 | 0.960233 | 1.920696 | 0.151265 | 0.988221 | 0.927445 | 0.990490  | 0.0   | 0.0           | 0.0   | 0.0   |\n",
    "| 4       | 12.924345 | 11.775167 | 8.950233  | 6.663636  | 17.593769 | 17.047360 | 1.149178 | 2.286597 | 0.546409 | 0.987155 | 0.866736 | 0.990365  | 0.2   | 0.0           | 0.0   | 0.0   |\n",
    "| 5       | 16.856750 | 15.867910 | 12.948674 | 11.174091 | 21.413488 | 20.866119 | 0.988841 | 1.774583 | 0.547369 | 0.986811 | 0.899497 | 0.986836  | 0.9   | 0.5           | 0.5   | 0.0   |\n",
    "| 6       | 21.097640 | 20.073215 | 17.081833 | 15.107188 | 25.942881 | 25.272214 | 1.024425 | 1.974646 | 0.670667 | 0.987152 | 0.889591 | 0.987456  | 6.1   | 5.0           | 6.0   | 1.6   |\n",
    "| 7       | 22.798524 | 21.709557 | 18.719720 | 16.741168 | 27.842969 | 27.095783 | 1.088966 | 1.978553 | 0.747186 | 0.983831 | 0.867896 | 0.985589  | 10.8  | 8.3           | 10.1  | 3.6   |\n",
    "| 8       | 22.289159 | 21.130210 | 18.421726 | 16.170750 | 27.240520 | 26.655046 | 1.158949 | 2.250975 | 0.585474 | 0.984530 | 0.858671 | 0.970087  | 9.3   | 7.7           | 8.6   | 2.2   |\n",
    "| 9       | 17.391888 | 16.253421 | 14.126875 | 11.997022 | 21.630673 | 21.213208 | 1.138467 | 2.129853 | 0.417465 | 0.980016 | 0.884475 | 0.988047  | 0.9   | 0.6           | 0.7   | 0.3   |\n",
    "| 10      | 12.174326 | 11.014432 | 9.642966  | 7.434557  | 15.572936 | 15.322948 | 1.159893 | 2.208410 | 0.249987 | 0.982089 | 0.921622 | 0.984515  | 0.0   | 0.0           | 0.0   | 0.0   |\n",
    "| 11      | 7.447870  | 6.376930  | 5.751005  | 3.851643  | 9.570525  | 9.200948  | 1.070941 | 1.899361 | 0.369577 | 0.982369 | 0.925509 | 0.983753  | 0.0   | 0.0           | 0.0   | 0.0   |\n",
    "| 12      | 3.026412  | 1.952704  | 1.566461  | -0.161765 | 4.866822  | 4.424961  | 1.073708 | 1.728225 | 0.441861 | 0.983268 | 0.940562 | 0.976833  | 0.0   | 0.0           | 0.0   | 0.0   |\n",
    "```"
   ]
  },
  {
   "cell_type": "markdown",
   "metadata": {},
   "source": [
    "Summiere nun die entsprechenden Spalten von *station_compare* auf, um die Summe für das ganze\n",
    "Jahr zu erhalten. Gib diesen Wert als Text aus."
   ]
  },
  {
   "cell_type": "code",
   "execution_count": null,
   "metadata": {},
   "outputs": [],
   "source": [
    "# TODO: Schreibe den Code"
   ]
  },
  {
   "cell_type": "markdown",
   "metadata": {},
   "source": [
    "Korrekte Ausgabe:\n",
    "```\n",
    "In Wien Innere Stadt sind pro Jahr 28.2 Hitzetage und 25.9 Tropennächte zu erwarten.\n",
    "Im Umland (Gumpoldskirchen) sind im Jahr 22.1 Hitzetage und  7.7 Tropennächte zu erwarten.\n",
    "```"
   ]
  },
  {
   "cell_type": "markdown",
   "metadata": {},
   "source": [
    "## Folgenabschätzung des Klimawandels\n",
    "\n",
    "Ändere nun den Dataframe *temp_daily* so, dass zur der Spalte *Tmax* und *Tmin* 1.5° dazuaddiert wird. Dies\n",
    "entspricht der vorausgesagten Erwärmung bis 2100 falls Maßnahmen ergriffen werden. Führe dann\n",
    "die Berechnung neu durch. Welchen Werte für die Hitzetage und Tropennächte pro Monat und pro Jahr\n",
    "erhältst du?"
   ]
  }
 ],
 "metadata": {
  "interpreter": {
   "hash": "3bd13bc16400e16874b7ce28af58a129343287e94248a182c1f06fbb6b76ef8e"
  },
  "kernelspec": {
   "display_name": "Python 3.10.1 64-bit",
   "language": "python",
   "name": "python3"
  },
  "language_info": {
   "codemirror_mode": {
    "name": "ipython",
    "version": 3
   },
   "file_extension": ".py",
   "mimetype": "text/x-python",
   "name": "python",
   "nbconvert_exporter": "python",
   "pygments_lexer": "ipython3",
   "version": "3.10.4"
  },
  "orig_nbformat": 4
 },
 "nbformat": 4,
 "nbformat_minor": 2
}
