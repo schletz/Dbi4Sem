{
 "cells": [
  {
   "cell_type": "markdown",
   "metadata": {},
   "source": [
    "# Erste Modelle: Normalverteilung, Lognormalverteilung und Regression"
   ]
  },
  {
   "cell_type": "markdown",
   "metadata": {},
   "source": [
    "## Was sind Modelle?"
   ]
  },
  {
   "cell_type": "markdown",
   "metadata": {},
   "source": [
    "Modelle sind allgemein gesprochen vereinfachte Abbildungen der Wirklichkeit. Jeder kennt ein\n",
    "Modell des Sonnensystems: Es besteht aus der Sonne, den Planeten und vielleicht noch den großen Monden.\n",
    "Es zeigt aber nicht die Asteroiden und die kleinen Monde. Möchten wir ein Sonnensystem am PC\n",
    "simulieren, berücksichtigen wir auch nur die großen Planeten und durch die Gesetze der Schwerkraft\n",
    "können wir die Bewegung simulieren.\n",
    "\n",
    "Bezogen auf Daten haben wir eine ähnliche Situation: Wir haben echte (also gemessene) Werte. Um\n",
    "Aussagen darüber zu gewinnen, können wir natürlich alle Werte aus der Datenbank laden (das können\n",
    "mehrere Millionen Datensätze sein) und sie analysieren. Oder wir sehen uns an, ob es mathematische\n",
    "Beschreibungen (Modelle) dafür gibt, die wir mit einfachen Grundparametern definieren können."
   ]
  },
  {
   "cell_type": "markdown",
   "metadata": {},
   "source": [
    "## Laden der Daten der Wetterstationen"
   ]
  },
  {
   "cell_type": "markdown",
   "metadata": {},
   "source": [
    "Damit wir wieder unsere Wetterdaten analysieren können, laden wir sie und erzeugen\n",
    "lückenlose Tageswerte."
   ]
  },
  {
   "cell_type": "code",
   "execution_count": 1,
   "metadata": {},
   "outputs": [],
   "source": [
    "import pandas as pd\n",
    "import parseSynop as ps    # Datei parseSynop.py laden\n",
    "data_vienna = ps.readFile(\"synop_11034.txt.bz2\")  # Wien Innere Stadt\n",
    "data_gump = ps.readFile(\"synop_11082.txt.bz2\")    # Gumpoldskirchen\n",
    "data_rax = ps.readFile(\"synop_11180.txt.bz2\")     # Rax Bergstation\n",
    "data = pd.concat([data_gump, data_rax, data_vienna])"
   ]
  },
  {
   "cell_type": "code",
   "execution_count": 2,
   "metadata": {},
   "outputs": [
    {
     "data": {
      "text/html": [
       "<div>\n",
       "<style scoped>\n",
       "    .dataframe tbody tr th:only-of-type {\n",
       "        vertical-align: middle;\n",
       "    }\n",
       "\n",
       "    .dataframe tbody tr th {\n",
       "        vertical-align: top;\n",
       "    }\n",
       "\n",
       "    .dataframe thead th {\n",
       "        text-align: right;\n",
       "    }\n",
       "</style>\n",
       "<table border=\"1\" class=\"dataframe\">\n",
       "  <thead>\n",
       "    <tr style=\"text-align: right;\">\n",
       "      <th></th>\n",
       "      <th>date</th>\n",
       "      <th>station</th>\n",
       "      <th>year</th>\n",
       "      <th>month</th>\n",
       "      <th>day</th>\n",
       "      <th>Tavg</th>\n",
       "      <th>Tmax</th>\n",
       "      <th>Tmin</th>\n",
       "    </tr>\n",
       "  </thead>\n",
       "  <tbody>\n",
       "    <tr>\n",
       "      <th>0</th>\n",
       "      <td>2000-01-01</td>\n",
       "      <td>11082</td>\n",
       "      <td>2000.0</td>\n",
       "      <td>1.0</td>\n",
       "      <td>1.0</td>\n",
       "      <td>-1.650000</td>\n",
       "      <td>1.2</td>\n",
       "      <td>-5.5</td>\n",
       "    </tr>\n",
       "    <tr>\n",
       "      <th>1</th>\n",
       "      <td>2000-01-01</td>\n",
       "      <td>11180</td>\n",
       "      <td>2000.0</td>\n",
       "      <td>1.0</td>\n",
       "      <td>1.0</td>\n",
       "      <td>-6.733333</td>\n",
       "      <td>NaN</td>\n",
       "      <td>NaN</td>\n",
       "    </tr>\n",
       "    <tr>\n",
       "      <th>2</th>\n",
       "      <td>2000-01-01</td>\n",
       "      <td>11034</td>\n",
       "      <td>2000.0</td>\n",
       "      <td>1.0</td>\n",
       "      <td>1.0</td>\n",
       "      <td>1.112500</td>\n",
       "      <td>2.6</td>\n",
       "      <td>-0.9</td>\n",
       "    </tr>\n",
       "    <tr>\n",
       "      <th>3</th>\n",
       "      <td>2000-01-02</td>\n",
       "      <td>11082</td>\n",
       "      <td>2000.0</td>\n",
       "      <td>1.0</td>\n",
       "      <td>2.0</td>\n",
       "      <td>-1.000000</td>\n",
       "      <td>3.0</td>\n",
       "      <td>-3.6</td>\n",
       "    </tr>\n",
       "    <tr>\n",
       "      <th>4</th>\n",
       "      <td>2000-01-02</td>\n",
       "      <td>11180</td>\n",
       "      <td>2000.0</td>\n",
       "      <td>1.0</td>\n",
       "      <td>2.0</td>\n",
       "      <td>-5.333333</td>\n",
       "      <td>NaN</td>\n",
       "      <td>-5.4</td>\n",
       "    </tr>\n",
       "  </tbody>\n",
       "</table>\n",
       "</div>"
      ],
      "text/plain": [
       "        date  station    year  month  day      Tavg  Tmax  Tmin\n",
       "0 2000-01-01    11082  2000.0    1.0  1.0 -1.650000   1.2  -5.5\n",
       "1 2000-01-01    11180  2000.0    1.0  1.0 -6.733333   NaN   NaN\n",
       "2 2000-01-01    11034  2000.0    1.0  1.0  1.112500   2.6  -0.9\n",
       "3 2000-01-02    11082  2000.0    1.0  2.0 -1.000000   3.0  -3.6\n",
       "4 2000-01-02    11180  2000.0    1.0  2.0 -5.333333   NaN  -5.4"
      ]
     },
     "execution_count": 2,
     "metadata": {},
     "output_type": "execute_result"
    }
   ],
   "source": [
    "# Alle Tage vom ersten bis zum letzten Tag der Beobachtungen aus Wien\n",
    "days = pd.Series(pd.date_range(start=data.date.min(), end=data.date.max(), name=\"date\", freq='D'), name=\"date\")\n",
    "# Alle Stationen im Datenbestand (3 Stück)\n",
    "stations = pd.Series(data.station.unique(), name=\"station\")\n",
    "# Um lückenlose Daten zu erhalten ordnen wir jeden Tag alle Stationen zu.\n",
    "days_stations = pd.merge(days, stations, how=\"cross\")\n",
    "# Nun gruppieren wir die Rohdaten pro Station und Tag.\n",
    "data_daily = data.groupby([\"station\", \"date\", \"year\", \"month\", \"day\"]) \\\n",
    "    .aggregate(Tavg=(\"temp\", \"mean\"), Tmax=(\"max_temp\", \"max\"), Tmin=(\"min_temp\", \"min\")) \\\n",
    "    .reset_index()\n",
    "# Der LEFT JOIN erzeugt für jeden Tag pro Station einen Datensatz.\n",
    "data_daily = pd.merge(days_stations, data_daily, \\\n",
    "    left_on=[\"date\", \"station\"], right_on=[\"date\", \"station\"], how=\"left\")\n",
    "data_daily.head(5)"
   ]
  },
  {
   "cell_type": "markdown",
   "metadata": {},
   "source": [
    "## Die Normalverteilung als Modell der Häufigkeitsverteilung"
   ]
  },
  {
   "cell_type": "markdown",
   "metadata": {},
   "source": [
    "Vielleicht verwundert es einige, dass die Normalverteilung als Modell bezeichnet wird. Im vorigen\n",
    "Kapitel *Deskriptive Statistik* haben wir aus den Daten die Häufigkeitsverteilung gewonnen und\n",
    "berechnet, wie wahrscheinlich das Unterschreiten einer gewissen Temperatur z. B. im Jänner ist.\n",
    "\n",
    "Sehen wir uns die Tiefstwerte der Lufttemperatur im Jänner in Wien (Station 11034) noch einmal an:"
   ]
  },
  {
   "cell_type": "code",
   "execution_count": 3,
   "metadata": {},
   "outputs": [
    {
     "data": {
      "text/plain": [
       "count    661.000000\n",
       "mean       0.313767\n",
       "std        4.299437\n",
       "min      -14.800000\n",
       "25%       -2.500000\n",
       "50%        0.400000\n",
       "75%        3.100000\n",
       "max       13.000000\n",
       "Name: Tmin, dtype: float64"
      ]
     },
     "metadata": {},
     "output_type": "display_data"
    },
    {
     "data": {
      "image/png": "[encoded data removed]",
      "text/plain": [
       "<Figure size 432x288 with 1 Axes>"
      ]
     },
     "metadata": {
      "needs_background": "light"
     },
     "output_type": "display_data"
    }
   ],
   "source": [
    "display(data_daily.loc[(data_daily.station == 11034) & (data_daily.month == 1), \"Tmin\"].describe())\n",
    "data_daily.loc[(data_daily.station == 11034) & (data_daily.month == 1), \"Tmin\"].plot.hist(bins=25);"
   ]
  },
  {
   "cell_type": "markdown",
   "metadata": {},
   "source": [
    "Wir erkennen optisch, dass die Verteilung der Daten eine Glockenkurve bildet. Um festzustellen,\n",
    "an wie vielen Tagen es im Jänner in Wien unter 0° hatte, müssen wir nur zählen und das Ergebnis\n",
    "durch die Anzahl der Werte dividieren:"
   ]
  },
  {
   "cell_type": "code",
   "execution_count": 4,
   "metadata": {},
   "outputs": [
    {
     "data": {
      "text/plain": [
       "0.44780635400907715"
      ]
     },
     "execution_count": 4,
     "metadata": {},
     "output_type": "execute_result"
    }
   ],
   "source": [
    "((data_daily.station == 11034) & (data_daily.month == 1) & (data_daily.Tmin < 0)).sum() / \\\n",
    "((data_daily.station == 11034) & (data_daily.month == 1) & (data_daily.Tmin.notna())).sum()    "
   ]
  },
  {
   "cell_type": "markdown",
   "metadata": {},
   "source": [
    "Für diese Aussage brauchen wir allerdings den gesamten Datenbestand. Die Normalverteilung ist\n",
    "eine mathematische Formel, die Glockenkurven beschreibt. Sie gibt uns an, wie wahrscheinlich das Auftreten eines Wertes ist.\n",
    "Sie ist über 2 Parameter definiert: Mittelwert und Standardabweichung."
   ]
  },
  {
   "cell_type": "markdown",
   "metadata": {},
   "source": [
    "### Schritt 1: Erstellen des Modelles (\"Train\")"
   ]
  },
  {
   "cell_type": "markdown",
   "metadata": {},
   "source": [
    "Auf Basis der tatsächlichen Werte können wir eine Normalverteilung gewinnen, die die Werte bestmöglich\n",
    "anpasst. Im Paket *scipy* laden wir die Klasse *norm* aus dem Modul *scipy.stats*. Die Funktion\n",
    "*norm* besitzt eine Methode *fit()*. Damit werden die Modellparameter aus den Rohdaten gewonnen.\n",
    "Später werden wir diesen Vorgang als \"Trainieren des Modelles\" bezeichnen."
   ]
  },
  {
   "cell_type": "code",
   "execution_count": 5,
   "metadata": {},
   "outputs": [
    {
     "name": "stdout",
     "output_type": "stream",
     "text": [
      "0.31376701966717085 4.296183564813475 0.31376701966717085 4.299437017430311\n"
     ]
    }
   ],
   "source": [
    "from scipy.stats import norm\n",
    "tmin_jan = data_daily.loc[(data_daily.station == 11034) & (data_daily.month == 1) & (data_daily.Tmin.notna()), \"Tmin\"]\n",
    "# Liefert ein Tupel mit den Modellparametern, welches in separate Variablen geschrieben wird.\n",
    "mean, stdev = norm.fit(tmin_jan)\n",
    "print(mean, stdev, tmin_jan.mean(), tmin_jan.std())"
   ]
  },
  {
   "cell_type": "markdown",
   "metadata": {},
   "source": [
    "Wir sehen, dass wir auch ohne *fit()* die 2 Parameter ermitteln könnten. Es ist einfach der\n",
    "Mittelwert und die Standardabweichung der Werte. Der kleine Unterschied zwischen den Standardabweichungen\n",
    "entsteht durch die Berechnung. In fit() wird durch N dividiert, in std wird die empirische Standardabweichung,\n",
    "wo durch N-1 dividiert wird, ermittelt. Der Unterschied ist aber so klein, dass er nicht ins Gewicht\n",
    "fällt.\n",
    "\n",
    "Nun erstellen wir eine Normalverteilung mit den ermittelten 2 Parametern. Es ist unser Modell.\n",
    "Mit *cdf(x)* berechnen wir die sogenannte \"Cumulative distribution function\". Es gibt an, wie\n",
    "wahrscheinlich das Auftreten eines Wertes kleiner als x ist, also *P(X<x)*."
   ]
  },
  {
   "cell_type": "code",
   "execution_count": 6,
   "metadata": {},
   "outputs": [
    {
     "name": "stdout",
     "output_type": "stream",
     "text": [
      "Wahrscheinlichkeit für Tmin < 0° im Jänner: 0.471\n",
      "Wahrscheinlichkeit für Tmin < -15° im Jänner: 0.000182\n"
     ]
    }
   ],
   "source": [
    "model = norm(mean, stdev)\n",
    "print(f\"Wahrscheinlichkeit für Tmin < 0° im Jänner: {round(model.cdf(0), 3)}\")\n",
    "print(f\"Wahrscheinlichkeit für Tmin < -15° im Jänner: {round(model.cdf(-15), 6)}\")\n"
   ]
  },
  {
   "cell_type": "markdown",
   "metadata": {},
   "source": [
    "Wir sehen, dass für 0° der Wert lediglich 2.6% abweicht. Es genügen also genau 2 Werte (Mittelwert\n",
    "und Standardabweichung), um zu berechnen, wie Wahrscheinlich das Auftreten von Frost im Jänner ist."
   ]
  },
  {
   "cell_type": "markdown",
   "metadata": {},
   "source": [
    "### Schritt 2: Evaluate"
   ]
  },
  {
   "cell_type": "markdown",
   "metadata": {},
   "source": [
    "Wir haben mit einem Einzelwert (0°) von der Genauigkeit überzeugen können. Wir wollen aber für\n",
    "den gesamten Wertebereich einen Eindruck verschaffen. Dafür Plotten wir einfach das Histogramm\n",
    "und die Verteilungsfunktion in einem Diagramm. Dabei lassen wir für den gesamten Wertebereich\n",
    "die Wahrscheinlichkeit für diesen Messwert ausrechnen. Dies erledigt die sogenannte *Dichtefunktion*\n",
    "und ist mit *pdf()* abrufbar."
   ]
  },
  {
   "cell_type": "code",
   "execution_count": 7,
   "metadata": {},
   "outputs": [
    {
     "data": {
      "image/png": "[encoded data removed]",
      "text/plain": [
       "<Figure size 432x288 with 1 Axes>"
      ]
     },
     "metadata": {
      "needs_background": "light"
     },
     "output_type": "display_data"
    }
   ],
   "source": [
    "import matplotlib.pyplot as plt\n",
    "import numpy as np\n",
    "\n",
    "plt.hist(tmin_jan, bins=25, density=True, alpha=0.6)\n",
    "xmin, xmax = plt.xlim()           # Was ist der kleinste und größte x Wert im Histogramm?\n",
    "x = np.linspace(xmin, xmax, 100)  # 100 Werte zwischen min und max mit gleichem Abstand erzeugen.\n",
    "plt.plot(x, model.pdf(x), 'k')    # Für jeden dieser Werte die Dichtefunktion der Normalverteilung ausgeben.\n",
    "plt.show()"
   ]
  },
  {
   "cell_type": "markdown",
   "metadata": {},
   "source": [
    "Nun sehen wir, dass eine sehr gute Anpassung des Modells vorliegt. Das ist jedoch nicht immer der\n",
    "Fall. Wir betrachten nun die Tiefsttemperaturen des ganzen Jahres und plotten die Werte samt\n",
    "der best angepassten Normalverteilung:"
   ]
  },
  {
   "cell_type": "code",
   "execution_count": 8,
   "metadata": {},
   "outputs": [
    {
     "data": {
      "image/png": "[encoded data removed]",
      "text/plain": [
       "<Figure size 432x288 with 1 Axes>"
      ]
     },
     "metadata": {
      "needs_background": "light"
     },
     "output_type": "display_data"
    }
   ],
   "source": [
    "tmin = data_daily.loc[(data_daily.station == 11034) & (data_daily.Tmin.notna()), \"Tmin\"]\n",
    "mean, stdev = norm.fit(tmin)\n",
    "model = norm(mean, stdev)\n",
    "plt.hist(tmin, bins=25, density=True, alpha=0.6)\n",
    "xmin, xmax = plt.xlim()           # Was ist der kleinste und größte x Wert im Histogramm?\n",
    "x = np.linspace(xmin, xmax, 100)  # 100 Werte zwischen min und max mit gleichem Abstand erzeugen.\n",
    "plt.plot(x, model.pdf(x), 'k')    # Für jeden dieser Werte die Dichtefunktion der Normalverteilung ausgeben.\n",
    "plt.show()"
   ]
  },
  {
   "cell_type": "markdown",
   "metadata": {},
   "source": [
    "Unsere Normalverteilung ist im Vergleich zu den Werten zu spitz. Die Werte sind nicht normalverteilt.\n",
    "Ursache: Im Laufe des Jahres wandert die Sonne vom Süden (21.12.) über den Äquator (21.3. und 23.9.)\n",
    "nach Norden (21.6.). Der Äquator wird also 2x durchquert, dadurch ist die Temperaturverteilung im\n",
    "Frühling und Herbst ähnlich. Sie hat also mehr Gewicht in den Werten als der Sommer oder Winter."
   ]
  },
  {
   "cell_type": "markdown",
   "metadata": {},
   "source": [
    "### Warum ist die Verteilung so bekannt und wichtig?"
   ]
  },
  {
   "cell_type": "markdown",
   "metadata": {},
   "source": [
    "Ein Messwert hängt oft von sehr vielen Faktoren ab. Wenn du die gleiche Strecke täglich läufst,\n",
    "brauchst du nicht immer exakt gleich lange. An manchen Tagen bist du motiviert, die Schuhe drücken\n",
    "nicht und du schaffst die Strecke schneller. An anderen Tagen kommst du nicht so gut voran. Das hat\n",
    "sehr viele Faktoren (Schuhe, Motivation, Boden, Wind, Temperatur, ...).\n",
    "\n",
    "Wir simulieren nun diese Situation mit einem Würfelspiel. Wir würfeln 4 Würfel und bilden die Summe.\n",
    "Der niedrigste Wert ist 4, der höchste Wert der rauskommen kann ist 24. Diese Würfel sind sozusagen\n",
    "die Faktoren für deinen Lauf. Sie summieren sich zu einer Zeit.\n",
    "\n",
    "Die Randbereiche (4 und 24) sind sehr selten. Es müssen alle Würfel den Wert 1 oder 6 haben. Mit\n",
    "*np.random.randint(1, 7, 4)* können wir 4 Zufallszahlen zwischen 1 und 6 generieren, um den Wurf\n",
    "zu simulieren. Damit die Werte bei jeder Ausführung gleich sind, verwenden wir einen fixen\n",
    "Seed Wert. Dass die 5 mehrmals vorkommt liegt nicht an einem schlecht programmierten\n",
    "Zufallszahlengenerator. Die Würfe wissen nichts vom Vorgänger, sie sind*unabhängige Zufallsexperimente*."
   ]
  },
  {
   "cell_type": "code",
   "execution_count": 9,
   "metadata": {},
   "outputs": [
    {
     "data": {
      "text/plain": [
       "array([6, 5, 5, 1])"
      ]
     },
     "execution_count": 9,
     "metadata": {},
     "output_type": "execute_result"
    }
   ],
   "source": [
    "import numpy as np\n",
    "np.random.seed(22)\n",
    "np.random.randint(1, 7, 4)"
   ]
  },
  {
   "cell_type": "markdown",
   "metadata": {},
   "source": [
    "Nun wollen wir 5 Würfe mit diesen 4 Würfeln simulieren. *range(0,5)* erzeugt eine Zahlenfolge\n",
    "*0, 1, 2, 3, 4*. Sie ist sozusagen die Spielnummer. Mit *map()* können wir für jede dieser Nummer\n",
    "die zahlen generieren. Das ist vergleichbar mit *apply()* und steht für jedes iterierbare Objekt\n",
    "in Python zur Verfügung."
   ]
  },
  {
   "cell_type": "code",
   "execution_count": 10,
   "metadata": {},
   "outputs": [
    {
     "data": {
      "text/html": [
       "<div>\n",
       "<style scoped>\n",
       "    .dataframe tbody tr th:only-of-type {\n",
       "        vertical-align: middle;\n",
       "    }\n",
       "\n",
       "    .dataframe tbody tr th {\n",
       "        vertical-align: top;\n",
       "    }\n",
       "\n",
       "    .dataframe thead th {\n",
       "        text-align: right;\n",
       "    }\n",
       "</style>\n",
       "<table border=\"1\" class=\"dataframe\">\n",
       "  <thead>\n",
       "    <tr style=\"text-align: right;\">\n",
       "      <th></th>\n",
       "      <th>0</th>\n",
       "      <th>1</th>\n",
       "      <th>2</th>\n",
       "      <th>3</th>\n",
       "      <th>SUM</th>\n",
       "    </tr>\n",
       "  </thead>\n",
       "  <tbody>\n",
       "    <tr>\n",
       "      <th>0</th>\n",
       "      <td>6</td>\n",
       "      <td>5</td>\n",
       "      <td>5</td>\n",
       "      <td>1</td>\n",
       "      <td>17</td>\n",
       "    </tr>\n",
       "    <tr>\n",
       "      <th>1</th>\n",
       "      <td>5</td>\n",
       "      <td>4</td>\n",
       "      <td>5</td>\n",
       "      <td>1</td>\n",
       "      <td>15</td>\n",
       "    </tr>\n",
       "    <tr>\n",
       "      <th>2</th>\n",
       "      <td>5</td>\n",
       "      <td>6</td>\n",
       "      <td>3</td>\n",
       "      <td>5</td>\n",
       "      <td>19</td>\n",
       "    </tr>\n",
       "    <tr>\n",
       "      <th>3</th>\n",
       "      <td>6</td>\n",
       "      <td>1</td>\n",
       "      <td>3</td>\n",
       "      <td>6</td>\n",
       "      <td>16</td>\n",
       "    </tr>\n",
       "    <tr>\n",
       "      <th>4</th>\n",
       "      <td>3</td>\n",
       "      <td>2</td>\n",
       "      <td>1</td>\n",
       "      <td>1</td>\n",
       "      <td>7</td>\n",
       "    </tr>\n",
       "  </tbody>\n",
       "</table>\n",
       "</div>"
      ],
      "text/plain": [
       "   0  1  2  3  SUM\n",
       "0  6  5  5  1   17\n",
       "1  5  4  5  1   15\n",
       "2  5  6  3  5   19\n",
       "3  6  1  3  6   16\n",
       "4  3  2  1  1    7"
      ]
     },
     "execution_count": 10,
     "metadata": {},
     "output_type": "execute_result"
    }
   ],
   "source": [
    "np.random.seed(22)\n",
    "wuerfe = pd.DataFrame(map(lambda x: np.random.randint(1, 7, 4), range(0,5)))\n",
    "wuerfe[\"SUM\"] = wuerfe.apply(lambda row: row.sum(), axis=1)\n",
    "wuerfe"
   ]
  },
  {
   "cell_type": "markdown",
   "metadata": {},
   "source": [
    "Die Summen kommen nur 1x vor. Bei 100 Spielen ergibt sich aber schon ein erstes Bild\n",
    "der Häufigkeiten:"
   ]
  },
  {
   "cell_type": "code",
   "execution_count": 11,
   "metadata": {},
   "outputs": [
    {
     "data": {
      "image/png": "[encoded data removed]",
      "text/plain": [
       "<Figure size 432x288 with 1 Axes>"
      ]
     },
     "metadata": {
      "needs_background": "light"
     },
     "output_type": "display_data"
    }
   ],
   "source": [
    "np.random.seed(22)\n",
    "wuerfe = pd.DataFrame(map(lambda x: np.random.randint(1, 7, 4), range(0,100)))\n",
    "wuerfe[\"SUM\"] = wuerfe.apply(lambda row: row.sum(), axis=1)\n",
    "wuerfe[\"SUM\"].plot.hist(bins=21, density=True).set_xticks(range(4,25));\n"
   ]
  },
  {
   "cell_type": "markdown",
   "metadata": {},
   "source": [
    "Der mittlere Bereich (Summe um 14 herum) kommt in unseren 100 Spieldurchgängen schon erkennbar\n",
    "häufiger vor als die Randbereiche. Die Summen haben aber noch Lücken, da wir zu wenige Durchläufe\n",
    "analysiert haben. Dadurch sind einige Werte noch nicht aufgetreten. Nun wollen wir 10 000 Durchgänge\n",
    "analysieren:"
   ]
  },
  {
   "cell_type": "code",
   "execution_count": 12,
   "metadata": {},
   "outputs": [
    {
     "data": {
      "image/png": "[encoded data removed]",
      "text/plain": [
       "<Figure size 432x288 with 1 Axes>"
      ]
     },
     "metadata": {
      "needs_background": "light"
     },
     "output_type": "display_data"
    }
   ],
   "source": [
    "np.random.seed(22)\n",
    "wuerfe = pd.DataFrame(map(lambda x: np.random.randint(1, 7, 4), range(0,10000)))\n",
    "wuerfe[\"SUM\"] = wuerfe.apply(lambda row: row.sum(), axis=1)\n",
    "wuerfe[\"SUM\"].plot.hist(bins=21, density=True).set_xticks(range(4,25));"
   ]
  },
  {
   "cell_type": "markdown",
   "metadata": {},
   "source": [
    "Die Kurve sieht jetzt aus wie eine *Gaußsche Glockenkurve*. Sie entsteht immer dann, wenn sich\n",
    "mehrere Faktoren zu einem Wert aufsummieren. Das ist in der Natur sehr oft der Fall, und deswegen\n",
    "ist sie die wichtigste Verteilung. Der genaue Beweis dafür ist im\n",
    "[Zentralen Grenzwertsatz](https://de.wikipedia.org/wiki/Zentraler_Grenzwertsatz) der Wahrscheinlichkeitsrechnung\n",
    "zu finden."
   ]
  },
  {
   "cell_type": "markdown",
   "metadata": {},
   "source": [
    "## Lognormalverteilung"
   ]
  },
  {
   "cell_type": "markdown",
   "metadata": {},
   "source": [
    "In einer Übung zur deskriptiven Statistik haben wir analysiert, wie viele Stunden nach dem\n",
    "Aussenden der Mail die Lehrenden auf die Umfrage geklickt haben. Dafür laden wir die\n",
    "Daten und berechnen die Differenz zwischen Umfragestart (START) und dem Sendedatum der Mail:"
   ]
  },
  {
   "cell_type": "code",
   "execution_count": 13,
   "metadata": {},
   "outputs": [
    {
     "data": {
      "text/plain": [
       "0    0.074167\n",
       "1    0.024444\n",
       "2    0.076944\n",
       "Name: START, dtype: float64"
      ]
     },
     "execution_count": 13,
     "metadata": {},
     "output_type": "execute_result"
    }
   ],
   "source": [
    "sga_data = filelist = pd.read_excel(\"sga_umfrage.xlsx\", usecols=[\"PERSON\", \"START\"])\n",
    "mail_sent = pd.to_datetime(\"2022-05-03T13:24:00\")\n",
    "delay = (sga_data.START - mail_sent)/pd.Timedelta(1, \"h\")\n",
    "delay.head(3)"
   ]
  },
  {
   "cell_type": "markdown",
   "metadata": {},
   "source": [
    "Nun zeigen wir an, wie die Werte von *DELAY* verteilt sind:"
   ]
  },
  {
   "cell_type": "code",
   "execution_count": 14,
   "metadata": {},
   "outputs": [
    {
     "data": {
      "image/png": "[encoded data removed]",
      "text/plain": [
       "<Figure size 432x288 with 1 Axes>"
      ]
     },
     "metadata": {
      "needs_background": "light"
     },
     "output_type": "display_data"
    }
   ],
   "source": [
    "delay[delay<24].plot.hist(bins=20);"
   ]
  },
  {
   "cell_type": "markdown",
   "metadata": {},
   "source": [
    "Es ergibt sich ein ganz anderes Bild: eine große Säule liegt bei 0, danach fallen die Werte\n",
    "schnell ab. Am rechten Ende ist die Verteilung ausgezogen, da nach 15 oder 20 Stunden immer noch\n",
    "vereinzelt Personen teilnahmen. Deswegen zeigen wir auch nur die ersten 24 Stunden an, danach würden\n",
    "auch noch einzelne Werte vorkommen und das Histogramm wäre zu breit. Die Lücke nach 10 Stunden ist\n",
    "auch erklärbar: in der Nacht gibt es keine Teilnehmer.\n",
    "\n",
    "Da wir nur knapp über 100 Datensätze haben, zeigt das Histogramm Lücken. Es gibt sicher einige,\n",
    "die eine Umfrage auch um 4 Uhr beantworten würden. In dieser Menge waren sie allerdings nicht\n",
    "enthalten. "
   ]
  },
  {
   "cell_type": "markdown",
   "metadata": {},
   "source": [
    "Verteilungen von nichtnegativen Werten, etwa Lebensdauern, Wartezeiten oder Einkommen\n",
    "sind häufig linkssteil (vgl. Fahrmeir: Statistik, 7. Aufll, S301). Es gibt nämlich eine\n",
    "harte untere Grenze. In unserem Fall ist sie 0, denn vor der Mail kann keiner die Umfrage\n",
    "beantworten. Auch für das Körpergewicht gibt es biologische Untergrenzen. Ab einem gewissen Wert\n",
    "steigt die Verteilung dann stark an um dann am anderen Ende langsam auszulaufen.\n",
    "\n",
    "Denke an deinen Weg in die Schule und die Zeit, die du dafür brauchst. Nach einigen Wochen kannst\n",
    "du diese Zeit sehr gut abschätzen. Es gibt aber Tage, an denen du schneller bist, wenn z. B. der\n",
    "Bus gleich gekommen ist. An anderen Tagen brauchst du länger, da der Bus im Stau gestanden ist.\n",
    "Selten kommst du 1 Stunde zu spät, da die Schnellbahn ganz ausgefallen ist.\n",
    "\n",
    "Hier erkennen wir auch, dass es eine *untere Grenze* gibt. Wenn alle Verkehrsmittel gleich kommen\n",
    "und auch sonst alles passt, erreichst du die Mindestzeit. Kürzer geht es nicht mehr. Andererseits\n",
    "ist nach oben hin (fast) keine Grenze gesetzt.\n",
    "\n",
    "Die **Lognormalverteilung** oder **Logarithmische Normalverteilung** beschreibt diese Verteilung. Wir\n",
    "können Sie mit scipy auch erstellen. Es sind 3 Werte nötig, um sie zu beschreiben: *shape*, *location* und\n",
    "*scale*. Ersteres ist die Form (wie \"langgezogen\" die Verteilung ist), zweiteres bestimmt den Nullpunkt\n",
    "und der dritte Parameter ist ein Skalierungsfaktor.\n",
    "\n",
    "> lognorm.pdf(x, s, loc, scale) is identically equivalent to lognorm.pdf(y, s) / scale with y = (x - loc) / scale.\n",
    "> (https://docs.scipy.org/doc/scipy/reference/generated/scipy.stats.lognorm.html)\n"
   ]
  },
  {
   "cell_type": "markdown",
   "metadata": {},
   "source": [
    "### Erzeugen der am Besten angepassten Lognormalverteilung"
   ]
  },
  {
   "cell_type": "markdown",
   "metadata": {},
   "source": [
    "Mit *fit()* wird die Lognormalverteilung aus den Werten von delay erstellt. Mit *cdf()* können wir\n",
    "ablesen, wie viel % der Werte ein Delay kleiner dieses Wertes haben."
   ]
  },
  {
   "cell_type": "code",
   "execution_count": 15,
   "metadata": {},
   "outputs": [
    {
     "name": "stdout",
     "output_type": "stream",
     "text": [
      "Anteil der Werte mit kleiner 1h delay aus der Lognormalverteilung: 0.27\n",
      "Anteil der Werte mit kleiner 1h delay aus den Daten: 0.299\n",
      "Anteil der Werte mit kleiner 10min delay aus der Lognormalverteilung: 0.079\n",
      "Anteil der Werte mit kleiner 10min delay aus den Daten: 0.075\n"
     ]
    }
   ],
   "source": [
    "from scipy.stats import lognorm\n",
    "shape, location, scale = lognorm.fit(delay)\n",
    "model = lognorm(shape, location, scale)\n",
    "print (f\"Anteil der Werte mit kleiner 1h delay aus der Lognormalverteilung: {round(model.cdf(1), 3)}\")\n",
    "print (f\"Anteil der Werte mit kleiner 1h delay aus den Daten: {round((delay<1).sum()/delay.count(), 3)}\")\n",
    "print (f\"Anteil der Werte mit kleiner 10min delay aus der Lognormalverteilung: {round(model.cdf(1/6), 3)}\")\n",
    "print (f\"Anteil der Werte mit kleiner 10min delay aus den Daten: {round((delay<1/6).sum()/delay.count(), 3)}\")\n"
   ]
  },
  {
   "cell_type": "markdown",
   "metadata": {},
   "source": [
    "Das Modell beschreibt also sehr gut die echte Verteilung. 27% unserer Teilnehmer haben die Umfrage\n",
    "also in der ersten Stunde beantwortet. Wollen wir nun wissen, wann 50% erreicht wurden, können wir\n",
    "das mit *ppf()* leicht herausfinden. *ppf()* bekommt eine *Wahrscheinlichkeit p* als Parameter und gibt\n",
    "uns den Wert x an, für den *P(X<x)=p* gilt."
   ]
  },
  {
   "cell_type": "code",
   "execution_count": 16,
   "metadata": {},
   "outputs": [
    {
     "name": "stdout",
     "output_type": "stream",
     "text": [
      "50 % der Teilnehmer haben innerhalb dieses Zeitraumes geantwortet: 4.0h\n",
      "75 % der Teilnehmer haben innerhalb dieses Zeitraumes geantwortet: 18.6h\n",
      "90 % der Teilnehmer haben innerhalb dieses Zeitraumes geantwortet: 74.0h\n",
      "95 % der Teilnehmer haben innerhalb dieses Zeitraumes geantwortet: 169.0h\n",
      "99 % der Teilnehmer haben innerhalb dieses Zeitraumes geantwortet: 796.2h\n",
      "100 % der Teilnehmer haben innerhalb dieses Zeitraumes geantwortet: inf\n"
     ]
    }
   ],
   "source": [
    "print (f\"50 % der Teilnehmer haben innerhalb dieses Zeitraumes geantwortet: {round(model.ppf(.5), 1)}h\")\n",
    "print (f\"75 % der Teilnehmer haben innerhalb dieses Zeitraumes geantwortet: {round(model.ppf(.75), 1)}h\")\n",
    "print (f\"90 % der Teilnehmer haben innerhalb dieses Zeitraumes geantwortet: {round(model.ppf(.9), 1)}h\")\n",
    "print (f\"95 % der Teilnehmer haben innerhalb dieses Zeitraumes geantwortet: {round(model.ppf(.95), 1)}h\")\n",
    "print (f\"99 % der Teilnehmer haben innerhalb dieses Zeitraumes geantwortet: {round(model.ppf(.99), 1)}h\")\n",
    "print (f\"100 % der Teilnehmer haben innerhalb dieses Zeitraumes geantwortet: {round(model.ppf(1), 1)}\")"
   ]
  },
  {
   "cell_type": "markdown",
   "metadata": {},
   "source": [
    "Nach der Verteilung haben also niemals alle geantwortet. Die Wahrscheinlichkeit ist zwar sehr gering,\n",
    "aber es kann zum Zeitpunkt x nie ausgeschlossen werden, dass noch eine Antwort zum Zeitpunkt x+1\n",
    "kommt. Grafisch können wir wieder Modell und Wirklichkeit im Plot gegenüberstellen:"
   ]
  },
  {
   "cell_type": "code",
   "execution_count": 17,
   "metadata": {},
   "outputs": [
    {
     "data": {
      "image/png": "[encoded data removed]",
      "text/plain": [
       "<Figure size 432x288 with 1 Axes>"
      ]
     },
     "metadata": {
      "needs_background": "light"
     },
     "output_type": "display_data"
    }
   ],
   "source": [
    "plt.hist(delay[delay < 24], bins=20, density=True, alpha=0.6)\n",
    "xmin, xmax = plt.xlim()           # Was ist der kleinste und größte x Wert im Histogramm?\n",
    "x = np.linspace(xmin, xmax, 100)  # 100 Werte zwischen min und max mit gleichem Abstand erzeugen.\n",
    "plt.plot(x, model.pdf(x), 'k')    # Für jeden dieser Werte die Dichtefunktion der Normalverteilung ausgeben.\n",
    "plt.show()"
   ]
  },
  {
   "cell_type": "markdown",
   "metadata": {},
   "source": [
    "## Korrelation (Wiederholung)\n",
    "\n",
    "Im letzten Beispiel haben wir die Tmax Werte der einzelnen Stationen gegenübergestellt und festgestellt,\n",
    "dass sie durch die Nähe sehr ähnlich sind."
   ]
  },
  {
   "cell_type": "code",
   "execution_count": 18,
   "metadata": {},
   "outputs": [
    {
     "data": {
      "text/html": [
       "<div>\n",
       "<style scoped>\n",
       "    .dataframe tbody tr th:only-of-type {\n",
       "        vertical-align: middle;\n",
       "    }\n",
       "\n",
       "    .dataframe tbody tr th {\n",
       "        vertical-align: top;\n",
       "    }\n",
       "\n",
       "    .dataframe thead th {\n",
       "        text-align: right;\n",
       "    }\n",
       "</style>\n",
       "<table border=\"1\" class=\"dataframe\">\n",
       "  <thead>\n",
       "    <tr style=\"text-align: right;\">\n",
       "      <th>station</th>\n",
       "      <th>date</th>\n",
       "      <th>year</th>\n",
       "      <th>month</th>\n",
       "      <th>day</th>\n",
       "      <th>11034</th>\n",
       "      <th>11082</th>\n",
       "      <th>11180</th>\n",
       "    </tr>\n",
       "  </thead>\n",
       "  <tbody>\n",
       "    <tr>\n",
       "      <th>0</th>\n",
       "      <td>2000-01-01</td>\n",
       "      <td>2000.0</td>\n",
       "      <td>1.0</td>\n",
       "      <td>1.0</td>\n",
       "      <td>2.6</td>\n",
       "      <td>1.2</td>\n",
       "      <td>NaN</td>\n",
       "    </tr>\n",
       "    <tr>\n",
       "      <th>1</th>\n",
       "      <td>2000-01-02</td>\n",
       "      <td>2000.0</td>\n",
       "      <td>1.0</td>\n",
       "      <td>2.0</td>\n",
       "      <td>2.1</td>\n",
       "      <td>3.0</td>\n",
       "      <td>NaN</td>\n",
       "    </tr>\n",
       "    <tr>\n",
       "      <th>2</th>\n",
       "      <td>2000-01-03</td>\n",
       "      <td>2000.0</td>\n",
       "      <td>1.0</td>\n",
       "      <td>3.0</td>\n",
       "      <td>4.2</td>\n",
       "      <td>-0.5</td>\n",
       "      <td>NaN</td>\n",
       "    </tr>\n",
       "  </tbody>\n",
       "</table>\n",
       "</div>"
      ],
      "text/plain": [
       "station       date    year  month  day  11034  11082  11180\n",
       "0       2000-01-01  2000.0    1.0  1.0    2.6    1.2    NaN\n",
       "1       2000-01-02  2000.0    1.0  2.0    2.1    3.0    NaN\n",
       "2       2000-01-03  2000.0    1.0  3.0    4.2   -0.5    NaN"
      ]
     },
     "metadata": {},
     "output_type": "display_data"
    },
    {
     "data": {
      "image/png": "[encoded data removed]",
      "text/plain": [
       "<Figure size 360x360 with 1 Axes>"
      ]
     },
     "metadata": {
      "needs_background": "light"
     },
     "output_type": "display_data"
    }
   ],
   "source": [
    "tmax_per_station = data_daily.pivot(index=[\"date\", \"year\", \"month\", \"day\"], columns=\"station\", values=\"Tmax\") \\\n",
    "    .reset_index()\n",
    "display(tmax_per_station.head(3))\n",
    "tmax_per_station.plot.scatter(x=11082, y=11034, figsize=(5, 5));"
   ]
  },
  {
   "cell_type": "markdown",
   "metadata": {},
   "source": [
    "Mit *corrcoef()* haben wir auch den Korrelationskoeffizieten bestimmt:"
   ]
  },
  {
   "cell_type": "code",
   "execution_count": 19,
   "metadata": {},
   "outputs": [
    {
     "data": {
      "text/plain": [
       "array([[1.        , 0.99604204, 0.8983869 ],\n",
       "       [0.99604204, 1.        , 0.90187362],\n",
       "       [0.8983869 , 0.90187362, 1.        ]])"
      ]
     },
     "execution_count": 19,
     "metadata": {},
     "output_type": "execute_result"
    }
   ],
   "source": [
    "import numpy as np\n",
    "\n",
    "valid_data = tmax_per_station[11034].notna() & tmax_per_station[11082].notna() & tmax_per_station[11180].notna()\n",
    "np.corrcoef(tmax_per_station.loc[valid_data, [11082, 11034, 11180]], rowvar=False)"
   ]
  },
  {
   "cell_type": "markdown",
   "metadata": {},
   "source": [
    "## Berechnen von Tmax anhand anderer Stationen"
   ]
  },
  {
   "cell_type": "markdown",
   "metadata": {},
   "source": [
    "Im vorigen Beispiel haben wir festgestellt, dass z. B. die Station Wien Innere Stadt an einigen Tagen\n",
    "keinen Wert von Tmax übermittelt hat. Können wir die fehlenden Werte aus anderen Werten errechnen?\n",
    "Die große Ähnlichkeit zu den Tmax Werten der Station Gumpoldskirchen (11082) kann hier hilfreich\n",
    "sein. Im Mathematikunterricht wurde die *Regressionsgleichung* als einfaches Modell demonstriert,\n",
    "wie sich ein Wert aus einem anderen Wert berechnen lässt."
   ]
  },
  {
   "cell_type": "markdown",
   "metadata": {},
   "source": [
    "Im Paket *numpy* steht die Funktion *polyfit()* zur Verfügung. Sie ermittelt mit einer Anweisung\n",
    "diese Gleichung, die im Mathematikunterricht oft mühsam mit Tabellen händisch ermittelt wurde. Sie\n",
    "liefert die Parameter a und b der Regressionsgleichung Y = a + b*X. Damit wir diese Gleichung in\n",
    "Python als Funktion nutzen können, erzeugt *poly1d* aus diesen Parametern eine Funktion, die wir\n",
    "normal aufrufen können.\n",
    "\n",
    "Damit können wir eine Spalte *11034_predicted* ergänzen."
   ]
  },
  {
   "cell_type": "code",
   "execution_count": 20,
   "metadata": {},
   "outputs": [
    {
     "data": {
      "text/plain": [
       "array([1.00522123, 0.35084073])"
      ]
     },
     "metadata": {},
     "output_type": "display_data"
    },
    {
     "data": {
      "text/html": [
       "<div>\n",
       "<style scoped>\n",
       "    .dataframe tbody tr th:only-of-type {\n",
       "        vertical-align: middle;\n",
       "    }\n",
       "\n",
       "    .dataframe tbody tr th {\n",
       "        vertical-align: top;\n",
       "    }\n",
       "\n",
       "    .dataframe thead th {\n",
       "        text-align: right;\n",
       "    }\n",
       "</style>\n",
       "<table border=\"1\" class=\"dataframe\">\n",
       "  <thead>\n",
       "    <tr style=\"text-align: right;\">\n",
       "      <th>station</th>\n",
       "      <th>date</th>\n",
       "      <th>year</th>\n",
       "      <th>month</th>\n",
       "      <th>day</th>\n",
       "      <th>11034</th>\n",
       "      <th>11082</th>\n",
       "      <th>11180</th>\n",
       "      <th>11034_predicted</th>\n",
       "    </tr>\n",
       "  </thead>\n",
       "  <tbody>\n",
       "    <tr>\n",
       "      <th>284</th>\n",
       "      <td>2000-07-26</td>\n",
       "      <td>2000.0</td>\n",
       "      <td>7.0</td>\n",
       "      <td>26.0</td>\n",
       "      <td>27.0</td>\n",
       "      <td>25.8</td>\n",
       "      <td>17.0</td>\n",
       "      <td>26.285548</td>\n",
       "    </tr>\n",
       "    <tr>\n",
       "      <th>285</th>\n",
       "      <td>2000-07-27</td>\n",
       "      <td>2000.0</td>\n",
       "      <td>7.0</td>\n",
       "      <td>27.0</td>\n",
       "      <td>NaN</td>\n",
       "      <td>26.7</td>\n",
       "      <td>15.2</td>\n",
       "      <td>27.190248</td>\n",
       "    </tr>\n",
       "    <tr>\n",
       "      <th>286</th>\n",
       "      <td>2000-07-28</td>\n",
       "      <td>2000.0</td>\n",
       "      <td>7.0</td>\n",
       "      <td>28.0</td>\n",
       "      <td>NaN</td>\n",
       "      <td>20.8</td>\n",
       "      <td>11.6</td>\n",
       "      <td>21.259442</td>\n",
       "    </tr>\n",
       "    <tr>\n",
       "      <th>287</th>\n",
       "      <td>2000-07-29</td>\n",
       "      <td>2000.0</td>\n",
       "      <td>7.0</td>\n",
       "      <td>29.0</td>\n",
       "      <td>22.6</td>\n",
       "      <td>20.9</td>\n",
       "      <td>10.6</td>\n",
       "      <td>21.359964</td>\n",
       "    </tr>\n",
       "    <tr>\n",
       "      <th>288</th>\n",
       "      <td>2000-07-30</td>\n",
       "      <td>2000.0</td>\n",
       "      <td>7.0</td>\n",
       "      <td>30.0</td>\n",
       "      <td>22.5</td>\n",
       "      <td>22.2</td>\n",
       "      <td>10.5</td>\n",
       "      <td>22.666752</td>\n",
       "    </tr>\n",
       "    <tr>\n",
       "      <th>289</th>\n",
       "      <td>2000-07-31</td>\n",
       "      <td>2000.0</td>\n",
       "      <td>7.0</td>\n",
       "      <td>31.0</td>\n",
       "      <td>NaN</td>\n",
       "      <td>22.6</td>\n",
       "      <td>12.4</td>\n",
       "      <td>23.068841</td>\n",
       "    </tr>\n",
       "  </tbody>\n",
       "</table>\n",
       "</div>"
      ],
      "text/plain": [
       "station       date    year  month   day  11034  11082  11180  11034_predicted\n",
       "284     2000-07-26  2000.0    7.0  26.0   27.0   25.8   17.0        26.285548\n",
       "285     2000-07-27  2000.0    7.0  27.0    NaN   26.7   15.2        27.190248\n",
       "286     2000-07-28  2000.0    7.0  28.0    NaN   20.8   11.6        21.259442\n",
       "287     2000-07-29  2000.0    7.0  29.0   22.6   20.9   10.6        21.359964\n",
       "288     2000-07-30  2000.0    7.0  30.0   22.5   22.2   10.5        22.666752\n",
       "289     2000-07-31  2000.0    7.0  31.0    NaN   22.6   12.4        23.068841"
      ]
     },
     "execution_count": 20,
     "metadata": {},
     "output_type": "execute_result"
    }
   ],
   "source": [
    "# Generiert Tmax_von_11034 = a + b * Tmax_von_11082\n",
    "valid_data = tmax_per_station[11034].notna() & tmax_per_station[11082].notna()\n",
    "fit = np.polyfit(x=tmax_per_station.loc[valid_data, 11082], y=tmax_per_station.loc[valid_data, 11034], deg=1)\n",
    "display(fit)\n",
    "reg_function = np.poly1d(fit)\n",
    "\n",
    "tmax_per_station[\"11034_predicted\"] = tmax_per_station.apply(lambda row: reg_function(row[11082]), axis=1)\n",
    "tmax_per_station[(tmax_per_station.year == 2000) & (tmax_per_station.month == 7) & (tmax_per_station.day > 25)]"
   ]
  },
  {
   "cell_type": "markdown",
   "metadata": {},
   "source": [
    "### Fehlerbestimmung"
   ]
  },
  {
   "cell_type": "markdown",
   "metadata": {},
   "source": [
    "Da die Korrelation zwar hoch (0.996), aber nicht 1 ist, ergibt sich zwangsläufig eine Abweichung\n",
    "zwischen dem berechneten und den tatsächlichen Wert. Suchen wir einmal alle Daten, an denen\n",
    "die Station 11082 den Wert Höchstwert von 28.2° übermittelt hat. Würde eine Funktion den Zusammenhang\n",
    "zwischen den beiden Stationen exakt beschreiben, müssen die Werte von Wien auch alle ident sein\n",
    "(funktionaler Zusammenhang)."
   ]
  },
  {
   "cell_type": "code",
   "execution_count": 21,
   "metadata": {},
   "outputs": [
    {
     "data": {
      "text/html": [
       "<div>\n",
       "<style scoped>\n",
       "    .dataframe tbody tr th:only-of-type {\n",
       "        vertical-align: middle;\n",
       "    }\n",
       "\n",
       "    .dataframe tbody tr th {\n",
       "        vertical-align: top;\n",
       "    }\n",
       "\n",
       "    .dataframe thead th {\n",
       "        text-align: right;\n",
       "    }\n",
       "</style>\n",
       "<table border=\"1\" class=\"dataframe\">\n",
       "  <thead>\n",
       "    <tr style=\"text-align: right;\">\n",
       "      <th>station</th>\n",
       "      <th>date</th>\n",
       "      <th>year</th>\n",
       "      <th>month</th>\n",
       "      <th>day</th>\n",
       "      <th>11034</th>\n",
       "      <th>11082</th>\n",
       "      <th>11180</th>\n",
       "      <th>11034_predicted</th>\n",
       "    </tr>\n",
       "  </thead>\n",
       "  <tbody>\n",
       "    <tr>\n",
       "      <th>1072</th>\n",
       "      <td>2002-08-31</td>\n",
       "      <td>2002.0</td>\n",
       "      <td>8.0</td>\n",
       "      <td>31.0</td>\n",
       "      <td>29.2</td>\n",
       "      <td>28.2</td>\n",
       "      <td>17.7</td>\n",
       "      <td>28.698079</td>\n",
       "    </tr>\n",
       "    <tr>\n",
       "      <th>1370</th>\n",
       "      <td>2003-06-14</td>\n",
       "      <td>2003.0</td>\n",
       "      <td>6.0</td>\n",
       "      <td>14.0</td>\n",
       "      <td>29.4</td>\n",
       "      <td>28.2</td>\n",
       "      <td>17.0</td>\n",
       "      <td>28.698079</td>\n",
       "    </tr>\n",
       "    <tr>\n",
       "      <th>1790</th>\n",
       "      <td>2004-08-02</td>\n",
       "      <td>2004.0</td>\n",
       "      <td>8.0</td>\n",
       "      <td>2.0</td>\n",
       "      <td>28.2</td>\n",
       "      <td>28.2</td>\n",
       "      <td>17.2</td>\n",
       "      <td>28.698079</td>\n",
       "    </tr>\n",
       "    <tr>\n",
       "      <th>3979</th>\n",
       "      <td>2010-07-23</td>\n",
       "      <td>2010.0</td>\n",
       "      <td>7.0</td>\n",
       "      <td>23.0</td>\n",
       "      <td>29.0</td>\n",
       "      <td>28.2</td>\n",
       "      <td>18.6</td>\n",
       "      <td>28.698079</td>\n",
       "    </tr>\n",
       "    <tr>\n",
       "      <th>4000</th>\n",
       "      <td>2010-08-13</td>\n",
       "      <td>2010.0</td>\n",
       "      <td>8.0</td>\n",
       "      <td>13.0</td>\n",
       "      <td>29.7</td>\n",
       "      <td>28.2</td>\n",
       "      <td>15.3</td>\n",
       "      <td>28.698079</td>\n",
       "    </tr>\n",
       "  </tbody>\n",
       "</table>\n",
       "</div>"
      ],
      "text/plain": [
       "station       date    year  month   day  11034  11082  11180  11034_predicted\n",
       "1072    2002-08-31  2002.0    8.0  31.0   29.2   28.2   17.7        28.698079\n",
       "1370    2003-06-14  2003.0    6.0  14.0   29.4   28.2   17.0        28.698079\n",
       "1790    2004-08-02  2004.0    8.0   2.0   28.2   28.2   17.2        28.698079\n",
       "3979    2010-07-23  2010.0    7.0  23.0   29.0   28.2   18.6        28.698079\n",
       "4000    2010-08-13  2010.0    8.0  13.0   29.7   28.2   15.3        28.698079"
      ]
     },
     "execution_count": 21,
     "metadata": {},
     "output_type": "execute_result"
    }
   ],
   "source": [
    "tmax_per_station[tmax_per_station[11082] == 28.2].head(5)"
   ]
  },
  {
   "cell_type": "markdown",
   "metadata": {},
   "source": [
    "Wir erkennen, dass beim selben X Wert (28.2°) verschiedene Y Werte vorliegen. Der vorhergesagte\n",
    "Wert ist natürlich immer gleich, da wir eine Funktion mit dem Parameter Tmax von 11082 verwenden.\n",
    "Ergänzen wir nun eine Spalte mit dem Fehler des berechneten Wertes."
   ]
  },
  {
   "cell_type": "code",
   "execution_count": 22,
   "metadata": {},
   "outputs": [
    {
     "data": {
      "text/html": [
       "<div>\n",
       "<style scoped>\n",
       "    .dataframe tbody tr th:only-of-type {\n",
       "        vertical-align: middle;\n",
       "    }\n",
       "\n",
       "    .dataframe tbody tr th {\n",
       "        vertical-align: top;\n",
       "    }\n",
       "\n",
       "    .dataframe thead th {\n",
       "        text-align: right;\n",
       "    }\n",
       "</style>\n",
       "<table border=\"1\" class=\"dataframe\">\n",
       "  <thead>\n",
       "    <tr style=\"text-align: right;\">\n",
       "      <th>station</th>\n",
       "      <th>date</th>\n",
       "      <th>year</th>\n",
       "      <th>month</th>\n",
       "      <th>day</th>\n",
       "      <th>11034</th>\n",
       "      <th>11082</th>\n",
       "      <th>11180</th>\n",
       "      <th>11034_predicted</th>\n",
       "      <th>11034_predicted_err</th>\n",
       "    </tr>\n",
       "  </thead>\n",
       "  <tbody>\n",
       "    <tr>\n",
       "      <th>0</th>\n",
       "      <td>2000-01-01</td>\n",
       "      <td>2000.0</td>\n",
       "      <td>1.0</td>\n",
       "      <td>1.0</td>\n",
       "      <td>2.6</td>\n",
       "      <td>1.2</td>\n",
       "      <td>NaN</td>\n",
       "      <td>1.557106</td>\n",
       "      <td>1.042894</td>\n",
       "    </tr>\n",
       "    <tr>\n",
       "      <th>1</th>\n",
       "      <td>2000-01-02</td>\n",
       "      <td>2000.0</td>\n",
       "      <td>1.0</td>\n",
       "      <td>2.0</td>\n",
       "      <td>2.1</td>\n",
       "      <td>3.0</td>\n",
       "      <td>NaN</td>\n",
       "      <td>3.366504</td>\n",
       "      <td>-1.266504</td>\n",
       "    </tr>\n",
       "    <tr>\n",
       "      <th>2</th>\n",
       "      <td>2000-01-03</td>\n",
       "      <td>2000.0</td>\n",
       "      <td>1.0</td>\n",
       "      <td>3.0</td>\n",
       "      <td>4.2</td>\n",
       "      <td>-0.5</td>\n",
       "      <td>NaN</td>\n",
       "      <td>-0.151770</td>\n",
       "      <td>4.351770</td>\n",
       "    </tr>\n",
       "    <tr>\n",
       "      <th>3</th>\n",
       "      <td>2000-01-04</td>\n",
       "      <td>2000.0</td>\n",
       "      <td>1.0</td>\n",
       "      <td>4.0</td>\n",
       "      <td>5.6</td>\n",
       "      <td>5.2</td>\n",
       "      <td>1.9</td>\n",
       "      <td>5.577991</td>\n",
       "      <td>0.022009</td>\n",
       "    </tr>\n",
       "    <tr>\n",
       "      <th>4</th>\n",
       "      <td>2000-01-05</td>\n",
       "      <td>2000.0</td>\n",
       "      <td>1.0</td>\n",
       "      <td>5.0</td>\n",
       "      <td>9.1</td>\n",
       "      <td>8.6</td>\n",
       "      <td>NaN</td>\n",
       "      <td>8.995743</td>\n",
       "      <td>0.104257</td>\n",
       "    </tr>\n",
       "  </tbody>\n",
       "</table>\n",
       "</div>"
      ],
      "text/plain": [
       "station       date    year  month  day  11034  11082  11180  11034_predicted  \\\n",
       "0       2000-01-01  2000.0    1.0  1.0    2.6    1.2    NaN         1.557106   \n",
       "1       2000-01-02  2000.0    1.0  2.0    2.1    3.0    NaN         3.366504   \n",
       "2       2000-01-03  2000.0    1.0  3.0    4.2   -0.5    NaN        -0.151770   \n",
       "3       2000-01-04  2000.0    1.0  4.0    5.6    5.2    1.9         5.577991   \n",
       "4       2000-01-05  2000.0    1.0  5.0    9.1    8.6    NaN         8.995743   \n",
       "\n",
       "station  11034_predicted_err  \n",
       "0                   1.042894  \n",
       "1                  -1.266504  \n",
       "2                   4.351770  \n",
       "3                   0.022009  \n",
       "4                   0.104257  "
      ]
     },
     "execution_count": 22,
     "metadata": {},
     "output_type": "execute_result"
    }
   ],
   "source": [
    "tmax_per_station[\"11034_predicted_err\"] = tmax_per_station[11034] - tmax_per_station[\"11034_predicted\"]\n",
    "tmax_per_station.head(5)"
   ]
  },
  {
   "cell_type": "code",
   "execution_count": 23,
   "metadata": {},
   "outputs": [
    {
     "data": {
      "text/plain": [
       "count    7586.000\n",
       "mean        0.000\n",
       "std         0.868\n",
       "min        -5.827\n",
       "25%        -0.507\n",
       "50%         0.010\n",
       "75%         0.520\n",
       "max        21.949\n",
       "Name: 11034_predicted_err, dtype: float64"
      ]
     },
     "metadata": {},
     "output_type": "display_data"
    },
    {
     "data": {
      "image/png": "[encoded data removed]",
      "text/plain": [
       "<Figure size 432x288 with 1 Axes>"
      ]
     },
     "metadata": {
      "needs_background": "light"
     },
     "output_type": "display_data"
    }
   ],
   "source": [
    "display(round(tmax_per_station[\"11034_predicted_err\"].describe(), 3))\n",
    "tmax_per_station[\"11034_predicted_err\"].plot.hist(bins=100, density=True);"
   ]
  },
  {
   "cell_type": "markdown",
   "metadata": {},
   "source": [
    "Daraus können wir bereits mehrere Erkenntnisse gewinnen:\n",
    "\n",
    "- Der Mittelwert des Fehlers ist 0. Das muss auch so sein, denn das Regressionsmodell wurde aus\n",
    "  diesen Daten gewonnen und der Mittelwert geht in die Berechnung ein. Wäre er nicht 0, hätten wir\n",
    "  eine Verzerrung (Bias), also eine systematische Über- bzw. Unterschätzung.\n",
    "- Die Grafik zeigt eine schöne Normalverteilung. Der Fehler ist also normalverteilt.\n",
    "- Die Perzentile für 25% und 75% ist ± 0.51°. Das bedeutet, dass 50% der Werte einen Fehler von\n",
    "  unter 0.51° haben, 50% jedoch einen Fehler von über ± 0.51°.\n",
    "- Das Maximum ist 22° Differenz. So ein großer Unterschied auf 20km Entfernung ist sehr unwahrscheinlich.\n",
    "  Es handelt sich also um einen falschen Wert. Wir können daher Regressionsmodelle zur Feststellung\n",
    "  von Ausreißern (outliers) verwenden."
   ]
  },
  {
   "cell_type": "markdown",
   "metadata": {},
   "source": [
    "### Die Normalverteilung des Fehlers"
   ]
  },
  {
   "cell_type": "markdown",
   "metadata": {},
   "source": [
    "Wir wollen nun die Eigenschaft der Normalverteilung des Fehlers nutzen, um eine Aussage treffen\n",
    "zu können: Wie groß ist der Fehler in Zahlen, sodass 95% der Vorhersagen innerhalb dieses Fehlers\n",
    "liegen. 95% bedeutet, dass die unteren 2.5% und die oberen 2.5% nicht berücksichtigt werden. Mit der\n",
    "Funktion *quantile()* können wir diese Grenzen aus dem Datenbestand direkt bestimmen:"
   ]
  },
  {
   "cell_type": "code",
   "execution_count": 24,
   "metadata": {},
   "outputs": [
    {
     "name": "stdout",
     "output_type": "stream",
     "text": [
      "-1.68\n",
      "1.54\n"
     ]
    }
   ],
   "source": [
    "print(round(tmax_per_station[\"11034_predicted_err\"].quantile(q=0.05/2), 2))\n",
    "print(round(tmax_per_station[\"11034_predicted_err\"].quantile(q=1-0.05/2), 2))"
   ]
  },
  {
   "cell_type": "markdown",
   "metadata": {},
   "source": [
    "Das Ergebnis ist also: 95% der Werte haben einen Fehler von -1.68 bis 1.54. Doch können wir das\n",
    "auch ohne vollständiges Durchrechnen des Fehlers ermitteln? Bei großen Datensets müssen wir für\n",
    "jede Zeile einmal den Fehler ermitteln und dann die Quantile bestimmen. Das ist recht aufwändig.\n",
    "\n",
    "Wir vorher diskutiert ist der Mittelwert des Fehlers immer 0 und er ist normalverteilt. Für eine\n",
    "Normalverteilung wird noch die Standardabweichung benötigt, die wir aus dem Fehler gewinnen.\n",
    "Damit können wir die Fehlerverteilung ansetzen:"
   ]
  },
  {
   "cell_type": "code",
   "execution_count": 25,
   "metadata": {},
   "outputs": [
    {
     "name": "stdout",
     "output_type": "stream",
     "text": [
      "95% der Werte haben einen Fehler von -1.7004556858948383 bis 1.7004556858948379°\n"
     ]
    }
   ],
   "source": [
    "from scipy.stats import norm\n",
    "import math\n",
    "\n",
    "error_dist = norm(0, tmax_per_station[\"11034_predicted_err\"].std())\n",
    "print(f\"95% der Werte haben einen Fehler von {error_dist.ppf(0.05/2)} bis {error_dist.ppf(1-0.05/2)}°\")\n"
   ]
  },
  {
   "cell_type": "markdown",
   "metadata": {},
   "source": [
    "Da die Normalverteilung eine Näherung an die echten Daten darstellt, ergibt sich eine kleine Abweichung.\n",
    "Diese kann aber vernachlässigt werden. Da die Normalverteilung perfekt symmetrisch ist, genügt die\n",
    "Angabe eines Wertes mit einem ± Zeichen:"
   ]
  },
  {
   "cell_type": "code",
   "execution_count": 26,
   "metadata": {},
   "outputs": [
    {
     "name": "stdout",
     "output_type": "stream",
     "text": [
      "95% der Werte haben einen Fehler von ±1.7004556858948383°\n"
     ]
    }
   ],
   "source": [
    "print(f\"95% der Werte haben einen Fehler von ±{-error_dist.ppf(0.05/2)}°\")"
   ]
  },
  {
   "cell_type": "markdown",
   "metadata": {},
   "source": [
    "### Der Korrelationskoeffizient als \"Varianzerklärungsanteil\"\n",
    "\n",
    "Der Korrelationskoeffizient gibt an, wie viel % der Varianz durch ein lineares Modell erklärt\n",
    "werden kann. Wenn wir diesen berechnen, und die Varianz der X Werte wissen, können wir direkt\n",
    "auf den Fehler schließen:"
   ]
  },
  {
   "cell_type": "code",
   "execution_count": 27,
   "metadata": {},
   "outputs": [
    {
     "name": "stdout",
     "output_type": "stream",
     "text": [
      "Der Standardfehler des Regressionsmodelles beträgt 0.87°\n",
      "Für 95% der Werte liegt der Fehler innerhalb von  ±1.7°\n",
      "Für 50% der Werte liegt der Fehler innerhalb von  ±0.59°\n"
     ]
    }
   ],
   "source": [
    "valid_data = tmax_per_station[11034].notna() & tmax_per_station[11082].notna()\n",
    "corr_coeff = np.corrcoef(tmax_per_station.loc[valid_data, [11082, 11034]], rowvar=False)[0][1]\n",
    "std_err = math.sqrt(tmax_per_station[11034].var() * (1-corr_coeff*corr_coeff))\n",
    "\n",
    "print(f\"Der Standardfehler des Regressionsmodelles beträgt {round(std_err, 2)}°\")\n",
    "print(f\"Für 95% der Werte liegt der Fehler innerhalb von  ±{round(-norm().ppf(0.05/2)*std_err, 2)}°\")\n",
    "print(f\"Für 50% der Werte liegt der Fehler innerhalb von  ±{round(-norm().ppf(0.5/2)*std_err, 2)}°\")"
   ]
  }
 ],
 "metadata": {
  "interpreter": {
   "hash": "3bd13bc16400e16874b7ce28af58a129343287e94248a182c1f06fbb6b76ef8e"
  },
  "kernelspec": {
   "display_name": "Python 3.10.1 64-bit",
   "language": "python",
   "name": "python3"
  },
  "language_info": {
   "codemirror_mode": {
    "name": "ipython",
    "version": 3
   },
   "file_extension": ".py",
   "mimetype": "text/x-python",
   "name": "python",
   "nbconvert_exporter": "python",
   "pygments_lexer": "ipython3",
   "version": "3.10.4"
  },
  "orig_nbformat": 4
 },
 "nbformat": 4,
 "nbformat_minor": 2
}
