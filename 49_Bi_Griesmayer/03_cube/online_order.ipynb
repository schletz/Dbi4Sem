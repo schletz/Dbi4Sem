{
 "cells": [
  {
   "attachments": {},
   "cell_type": "markdown",
   "metadata": {},
   "source": [
    "# Import der Daten für den Cube"
   ]
  },
  {
   "attachments": {},
   "cell_type": "markdown",
   "metadata": {},
   "source": [
    "Liest die Exceldatei der Übung *OnlineOrder* in eine SQL Server Datenbank, sodass sie mit den Analysis Services weiter verarbeitet werden kann.\n",
    "Es muss ein SQL Server verwendet werden, auf dem die multidimensional analysis services laufen.\n",
    "Der Docker Container von SQL Server hat diesen Dienst nicht!\n",
    "\n",
    "Quelle: http://griesmayer.com/?menu=Business%20Intelligence&semester=Semsester_6&topic=03_Cube"
   ]
  },
  {
   "cell_type": "code",
   "execution_count": 1,
   "metadata": {},
   "outputs": [],
   "source": [
    "from pathlib import Path\n",
    "import sqlalchemy, re\n",
    "import pandas as pd\n",
    "\n",
    "# Prompt for IP, username and password.\n",
    "host = input(\"Host (IP), Enter für localhost.\") or \"localhost\" if \"host\" not in locals() else host\n",
    "username = input(\"Username, Enter für sa.\") or \"sa\" if \"username\" not in locals() else username\n",
    "password = input(\"Passwort, Enter für SqlServer2019.\") or \"SqlServer2019\" if \"password\" not in locals() else password\n",
    "database = \"OnlineOrder\"\n",
    "connection_url = sqlalchemy.engine.URL.create(\"mssql+pyodbc\", username=username,\n",
    "    password=password, host=host, database=database,\n",
    "    query={ \"driver\": \"ODBC Driver 18 for SQL Server\" })\n",
    "# We cannot connect to sales to create the database (does not exist at this time). We use tempdb.\n",
    "# Autocommit is necessary for create database and ddl statements.\n",
    "tempdb_engine = sqlalchemy.create_engine(\n",
    "    connection_url.set(database=\"tempdb\"), isolation_level=\"AUTOCOMMIT\", \n",
    "    connect_args={\"TrustServerCertificate\": \"yes\"})\n",
    "# We drop the database just before connecting, so we set pool_pre_ping=True\n",
    "engine = sqlalchemy.create_engine(\n",
    "    connection_url, fast_executemany=True, pool_pre_ping=True,\n",
    "    connect_args={\"TrustServerCertificate\": \"yes\"})\n"
   ]
  },
  {
   "attachments": {},
   "cell_type": "markdown",
   "metadata": {},
   "source": [
    "Zuerst löschen wir die Datenbank und erstellen sie neu.\n",
    "Das ist natürlich nur zum Testen, sonst ist das Löschen der Datenbank nicht ideal..."
   ]
  },
  {
   "cell_type": "code",
   "execution_count": 2,
   "metadata": {},
   "outputs": [],
   "source": [
    "with tempdb_engine.connect() as conn: \n",
    "    try: conn.execute(sqlalchemy.text(f\"ALTER DATABASE {database} SET SINGLE_USER WITH ROLLBACK IMMEDIATE\"))\n",
    "    except: pass\n",
    "    conn.execute(sqlalchemy.text(f\"DROP DATABASE IF EXISTS {database}\"))\n",
    "    conn.execute(sqlalchemy.text(f\"CREATE DATABASE {database}\"))\n",
    "with engine.connect() as conn:\n",
    "    conn.execution_options(isolation_level=\"AUTOCOMMIT\")\n",
    "    conn.execute(sqlalchemy.text(\"\"\"\n",
    "        CREATE TABLE City (\n",
    "            CityID    INTEGER      PRIMARY KEY,\n",
    "            ZIP       INTEGER      NOT NULL,\n",
    "            City      VARCHAR(255) NOT NULL,\n",
    "            District  CHAR(2)      NOT NULL\n",
    "        )\n",
    "    \"\"\"))\n",
    "    conn.execute(sqlalchemy.text(\"\"\"\n",
    "        CREATE TABLE Store (\n",
    "            StoreID INTEGER      PRIMARY KEY,\n",
    "            Street  VARCHAR(255) NOT NULL,\n",
    "            CityID  INTEGER      NOT NULL,\n",
    "            FOREIGN KEY (CityID) REFERENCES City(CityID)\n",
    "        )\n",
    "    \"\"\"))\n",
    "    conn.execute(sqlalchemy.text(\"\"\"\n",
    "        CREATE TABLE Product (\n",
    "            ProductID       INTEGER      PRIMARY KEY,\n",
    "            ProductName     VARCHAR(255) NOT NULL,\n",
    "            ProductCategory VARCHAR(255) NOT NULL,\n",
    "            PurchasingPrice DECIMAL(9,4) NOT NULL,\n",
    "            SellingPrice    DECIMAL(9,4) NOT NULL\n",
    "        )\n",
    "    \"\"\"))\n",
    "    conn.execute(sqlalchemy.text(\"\"\"\n",
    "        CREATE TABLE Customer (\n",
    "            CustomerID INTEGER      PRIMARY KEY,\n",
    "            FirstName  VARCHAR(255) NOT NULL,\n",
    "            Gender     VARCHAR(8)   NOT NULL,\n",
    "            Membership VARCHAR(64)  NOT NULL,\n",
    "            CityID     INTEGER      NOT NULL,\n",
    "            FOREIGN KEY (CityID) REFERENCES City(CityID)\n",
    "        )\n",
    "    \"\"\"))\n",
    "    conn.execute(sqlalchemy.text(\"\"\"\n",
    "        CREATE TABLE State (\n",
    "            StateID   INTEGER     PRIMARY KEY,\n",
    "            StateType VARCHAR(64) NOT NULL,\n",
    "            State     VARCHAR(64) NOT NULL\n",
    "        )\n",
    "    \"\"\"))    \n",
    "    conn.execute(sqlalchemy.text(\"\"\"\n",
    "        CREATE TABLE [Order] (\n",
    "            OrderID     INTEGER PRIMARY KEY IDENTITY(1,1),\n",
    "            OrderDate   DATE NOT NULL,\n",
    "            StoreID     INTEGER NOT NULL,\n",
    "            ProductID   INTEGER NOT NULL,\n",
    "            CustomerID  INTEGER NOT NULL,\n",
    "            RecipientID INTEGER NOT NULL,\n",
    "            State       INTEGER NOT NULL,\n",
    "            Pieces      INTEGER NOT NULL,\n",
    "            PurchasingPrice_Piece DECIMAL(9,4) NOT NULL,\n",
    "            SellingPrice_Piece    DECIMAL(9,4) NOT NULL,\n",
    "            PurchasingPrice       DECIMAL(9,4) NOT NULL,\n",
    "            SellingPrice          DECIMAL(9,4) NOT NULL,\n",
    "            FOREIGN KEY (StoreID) REFERENCES Store(StoreID),\n",
    "            FOREIGN KEY (ProductID) REFERENCES Product(ProductID),\n",
    "            FOREIGN KEY (CustomerID) REFERENCES Customer(CustomerID),\n",
    "            FOREIGN KEY (RecipientID) REFERENCES Customer(CustomerID),\n",
    "        )\n",
    "    \"\"\"))"
   ]
  },
  {
   "attachments": {},
   "cell_type": "markdown",
   "metadata": {},
   "source": [
    "Nun wird die Exceldatei *OnlineOrder.xls* gelesen.\n",
    "Dafür muss das Python paket *xlrd* mit dem Befehl *pip3 install xlrd --upgrade* installiert werden.\n",
    "Es liest das alte Excelformat (xls) ein."
   ]
  },
  {
   "cell_type": "code",
   "execution_count": 3,
   "metadata": {},
   "outputs": [],
   "source": [
    "# pip3 install xlrd --upgrade\n",
    "with engine.connect() as conn:\n",
    "    for sheet in [\"City\", \"Store\", \"Product\", \"Customer\", \"State\", \"Order\"]:\n",
    "        data = pd.read_excel(\"OnlineOrder.xls\", sheet_name=sheet)\n",
    "        data.to_sql(sheet, conn, if_exists=\"append\", index=False)\n",
    "        conn.commit()\n"
   ]
  }
 ],
 "metadata": {
  "kernelspec": {
   "display_name": "Python 3",
   "language": "python",
   "name": "python3"
  },
  "language_info": {
   "codemirror_mode": {
    "name": "ipython",
    "version": 3
   },
   "file_extension": ".py",
   "mimetype": "text/x-python",
   "name": "python",
   "nbconvert_exporter": "python",
   "pygments_lexer": "ipython3",
   "version": "3.10.5"
  },
  "orig_nbformat": 4
 },
 "nbformat": 4,
 "nbformat_minor": 2
}
