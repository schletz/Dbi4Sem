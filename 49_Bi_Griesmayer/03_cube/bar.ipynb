{
 "cells": [
  {
   "attachments": {},
   "cell_type": "markdown",
   "metadata": {},
   "source": [
    "# Import der Daten für den Cube"
   ]
  },
  {
   "attachments": {},
   "cell_type": "markdown",
   "metadata": {},
   "source": [
    "Liest die Exceldatei der Übung *Bar* in eine SQL Server Datenbank, sodass sie mit den Analysis Services weiter verarbeitet werden kann.\n",
    "Es muss ein SQL Server verwendet werden, auf dem die multidimensional analysis services laufen.\n",
    "Der Docker Container von SQL Server hat diesen Dienst nicht!\n",
    "\n",
    "Quelle: http://griesmayer.com/?menu=Business%20Intelligence&semester=Semsester_6&topic=03_Cube"
   ]
  },
  {
   "cell_type": "code",
   "execution_count": 1,
   "metadata": {},
   "outputs": [],
   "source": [
    "from pathlib import Path\n",
    "import sqlalchemy, re\n",
    "import pandas as pd\n",
    "\n",
    "# Prompt for IP, username and password.\n",
    "host = input(\"Host (IP), Enter für localhost.\") or \"localhost\" if \"host\" not in locals() else host\n",
    "username = input(\"Username, Enter für sa.\") or \"sa\" if \"username\" not in locals() else username\n",
    "password = input(\"Passwort, Enter für SqlServer2019.\") or \"SqlServer2019\" if \"password\" not in locals() else password\n",
    "database = \"Bar\"\n",
    "connection_url = sqlalchemy.engine.URL.create(\"mssql+pyodbc\", username=username,\n",
    "    password=password, host=host, database=database,\n",
    "    query={ \"driver\": \"ODBC Driver 18 for SQL Server\" })\n",
    "# We cannot connect to sales to create the database (does not exist at this time). We use tempdb.\n",
    "# Autocommit is necessary for create database and ddl statements.\n",
    "tempdb_engine = sqlalchemy.create_engine(\n",
    "    connection_url.set(database=\"tempdb\"), isolation_level=\"AUTOCOMMIT\", \n",
    "    connect_args={\"TrustServerCertificate\": \"yes\"})\n",
    "# We drop the database just before connecting, so we set pool_pre_ping=True\n",
    "engine = sqlalchemy.create_engine(\n",
    "    connection_url, fast_executemany=True, pool_pre_ping=True,\n",
    "    connect_args={\"TrustServerCertificate\": \"yes\"})\n"
   ]
  },
  {
   "attachments": {},
   "cell_type": "markdown",
   "metadata": {},
   "source": [
    "Zuerst löschen wir die Datenbank und erstellen sie neu.\n",
    "Das ist natürlich nur zum Testen, sonst ist das Löschen der Datenbank nicht ideal..."
   ]
  },
  {
   "cell_type": "code",
   "execution_count": 2,
   "metadata": {},
   "outputs": [],
   "source": [
    "with tempdb_engine.connect() as conn: \n",
    "    try: conn.execute(sqlalchemy.text(f\"ALTER DATABASE {database} SET SINGLE_USER WITH ROLLBACK IMMEDIATE\"))\n",
    "    except: pass\n",
    "    conn.execute(sqlalchemy.text(f\"DROP DATABASE IF EXISTS {database}\"))\n",
    "    conn.execute(sqlalchemy.text(f\"CREATE DATABASE {database}\"))\n",
    "with engine.connect() as conn:\n",
    "    conn.execution_options(isolation_level=\"AUTOCOMMIT\")\n",
    "    conn.execute(sqlalchemy.text(\"\"\"\n",
    "        CREATE TABLE [Table] (\n",
    "            TableID    INTEGER      PRIMARY KEY,\n",
    "            TableType  VARCHAR(255) NOT NULL,\n",
    "            Location   VARCHAR(255) NOT NULL\n",
    "        )\n",
    "    \"\"\"))\n",
    "    conn.execute(sqlalchemy.text(\"\"\"\n",
    "        CREATE TABLE Drink (\n",
    "            DrinkID       INTEGER      PRIMARY KEY,\n",
    "            DrinkName     VARCHAR(255) NOT NULL,\n",
    "            DrinkAge      VARCHAR(8)   NOT NULL,\n",
    "            DrinkType     VARCHAR(255) NOT NULL,\n",
    "            RegularPrice  DECIMAL(9,4) NOT NULL\n",
    "        )\n",
    "    \"\"\"))\n",
    "    conn.execute(sqlalchemy.text(\"\"\"\n",
    "        CREATE TABLE Sell (\n",
    "            SellID     INTEGER PRIMARY KEY IDENTITY(1,1),\n",
    "            FillDate   DATE    NOT NULL,\n",
    "            FillTime   INTEGER NOT NULL,\n",
    "            ProductID  INTEGER NOT NULL,\n",
    "            TableID    INTEGER NOT NULL,\n",
    "            Price      DECIMAL(9,4) NOT NULL,\n",
    "            Dip        DECIMAL(9,4) NOT NULL,\n",
    "            FOREIGN KEY (ProductID) REFERENCES Drink(DrinkID),\n",
    "            FOREIGN KEY (TableID) REFERENCES [Table](TableID)\n",
    "        )\n",
    "    \"\"\"))"
   ]
  },
  {
   "attachments": {},
   "cell_type": "markdown",
   "metadata": {},
   "source": [
    "Nun wird die Exceldatei *Code_Bar.xlsx* gelesen.\n",
    "Dafür muss das Python paket *xlrd* mit dem Befehl *pip3 install xlrd --upgrade* installiert werden.\n",
    "Es liest das alte Excelformat (xls) ein."
   ]
  },
  {
   "cell_type": "code",
   "execution_count": 3,
   "metadata": {},
   "outputs": [],
   "source": [
    "# pip3 install xlrd --upgrade\n",
    "with engine.connect() as conn:\n",
    "    for sheet in [\"Table\", \"Drink\", \"Sell\"]:\n",
    "        data = pd.read_excel(\"Code_Bar.xlsx\", sheet_name=sheet)\n",
    "        data.to_sql(sheet, conn, if_exists=\"append\", index=False)\n",
    "        conn.commit()\n"
   ]
  }
 ],
 "metadata": {
  "kernelspec": {
   "display_name": "Python 3",
   "language": "python",
   "name": "python3"
  },
  "language_info": {
   "codemirror_mode": {
    "name": "ipython",
    "version": 3
   },
   "file_extension": ".py",
   "mimetype": "text/x-python",
   "name": "python",
   "nbconvert_exporter": "python",
   "pygments_lexer": "ipython3",
   "version": "3.10.5"
  },
  "orig_nbformat": 4
 },
 "nbformat": 4,
 "nbformat_minor": 2
}
