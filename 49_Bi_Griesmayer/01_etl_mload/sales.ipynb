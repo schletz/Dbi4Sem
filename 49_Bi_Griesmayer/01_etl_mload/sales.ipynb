{
 "cells": [
  {
   "attachments": {},
   "cell_type": "markdown",
   "metadata": {},
   "source": [
    "# Import der Sales Daten"
   ]
  },
  {
   "attachments": {},
   "cell_type": "markdown",
   "metadata": {},
   "source": [
    "Lädt die Sales Daten ohne Integration Services in die Tabelle Sales. Voraussetzung ist ein SQL Server Container:\n",
    "\n",
    "```\n",
    "docker run -d -p 1433:1433  --name sqlserver2019 -e \"ACCEPT_EULA=Y\" -e \"SA_PASSWORD=SqlServer2019\" mcr.microsoft.com/azure-sql-edge\n",
    "```\n",
    "\n",
    "Außerdem müssen sich die Sales Textdateien von *Code_InternetShop.zip* in diesem Ordner befinden.\n",
    "\n",
    "Quelle: http://www.griesmayer.com/?menu=Business%20Intelligence&semester=Semsester_6&topic=01_ETL_MLoad"
   ]
  },
  {
   "cell_type": "code",
   "execution_count": 6,
   "metadata": {},
   "outputs": [],
   "source": [
    "from pathlib import Path\n",
    "import sqlalchemy\n",
    "import pandas as pd\n",
    "\n",
    "connection_url = sqlalchemy.engine.URL.create(\"mssql+pyodbc\", username=\"sa\",\n",
    "    password=\"SqlServer2019\", host=\"localhost\", database=\"Sales\",\n",
    "    query={ \"driver\": \"ODBC Driver 18 for SQL Server\" })\n",
    "# We cannot connect to sales to create the database (does not exist at this time). We use tempdb.\n",
    "# Autocommit is necessary for create database and ddl statements.\n",
    "tempdb_engine = sqlalchemy.create_engine(\n",
    "    connection_url.set(database=\"tempdb\"), isolation_level=\"AUTOCOMMIT\", \n",
    "    connect_args={\"TrustServerCertificate\": \"yes\"})\n",
    "# We drop the database just before connecting, so we set pool_pre_ping=True\n",
    "engine = sqlalchemy.create_engine(\n",
    "    connection_url, fast_executemany=True, pool_pre_ping=True,\n",
    "    connect_args={\"TrustServerCertificate\": \"yes\"})\n"
   ]
  },
  {
   "attachments": {},
   "cell_type": "markdown",
   "metadata": {},
   "source": [
    "Zuerst löschen wir die Datenbank und erstellen sie neu.\n",
    "Das ist natürlich nur zum Testen, sonst ist das Löschen der Datenbank nicht ideal..."
   ]
  },
  {
   "cell_type": "code",
   "execution_count": 7,
   "metadata": {},
   "outputs": [],
   "source": [
    "with tempdb_engine.connect() as conn: \n",
    "    try: conn.execute(sqlalchemy.text(\"ALTER DATABASE Sales SET SINGLE_USER WITH ROLLBACK IMMEDIATE\"))\n",
    "    except: pass\n",
    "    conn.execute(sqlalchemy.text(\"DROP DATABASE IF EXISTS Sales\"))\n",
    "    conn.execute(sqlalchemy.text(\"CREATE DATABASE Sales\"))\n",
    "with engine.connect() as conn:\n",
    "    conn.execution_options(isolation_level=\"AUTOCOMMIT\")\n",
    "    conn.execute(sqlalchemy.text(\"\"\"\n",
    "        CREATE TABLE [SALES]\n",
    "        (\n",
    "            CUSTOMERID  VARCHAR(9),\n",
    "            SALESDATE   DATE,\n",
    "            SALESTIME   DECIMAL(6),\n",
    "            CHANNELID   CHAR(1),\n",
    "            PRODUCTID   INTEGER,\n",
    "            DEALERID    INTEGER,\n",
    "            RECIPIENTID VARCHAR(9),\n",
    "            EXPLORER    VARCHAR(30),\n",
    "            RETURNED    CHAR(1),\n",
    "            DURATION    DECIMAL(5),\n",
    "            CLICKS      DECIMAL(5),\n",
    "            PIECES      DECIMAL(5),\n",
    "            DISCOUNT    DECIMAL(3)\n",
    "        )    \n",
    "    \"\"\"))"
   ]
  },
  {
   "attachments": {},
   "cell_type": "markdown",
   "metadata": {},
   "source": [
    "Nun werden alle Dateien, die mit dem Namen *sales_* beginnen, gelesen.\n",
    "Die Daten werden in die Tabelle SALES eingefügt."
   ]
  },
  {
   "cell_type": "code",
   "execution_count": 8,
   "metadata": {},
   "outputs": [],
   "source": [
    "def read_sales(filename):\n",
    "    sales = pd.read_csv(filename, sep=\"\\t\", encoding='utf-8',\n",
    "            engine='python',          # support for skipfooter needed\n",
    "            skipfooter=2,             # EOF and the number of lines are at the end of each text file.\n",
    "            dtype={\"CustomerID\": int, \"Date\": \"string\", \"Time\": int, \"ChannelID\": \"string\",\n",
    "                   \"ProductID\": int, \"DealerID\": int, \"RecipientID\": int,\n",
    "                   \"Explorer\": \"string\", \"Returned\": \"string\", \"Duration\": int,\n",
    "                   \"Clicks\": int, \"Pieces\": int, \"Discount\": int})\n",
    "    sales[\"Date\"] = pd.to_datetime(sales.Date, format=\"%Y%m%d\")\n",
    "    return sales"
   ]
  },
  {
   "cell_type": "code",
   "execution_count": 9,
   "metadata": {},
   "outputs": [],
   "source": [
    "filenames = sorted(map(str, Path(\".\").glob(\"sales_*.txt\")))\n",
    "for filename in filenames:\n",
    "    sales = read_sales(filename)\n",
    "    # Column mapping to match table definition.\n",
    "    sales = sales.rename({\"Date\": \"SALESDATE\", \"Time\": \"SALESTIME\"}, axis=1)\n",
    "    with engine.connect() as conn:\n",
    "        sales.to_sql(\"SALES\", conn, if_exists=\"append\", index=False)    \n",
    "\n",
    "# Solution without loop: map every filename to the dataframe, then you can write\n",
    "# all data at once\n",
    "# sales = pd.concat(map(read_sales, filenames))\n",
    "# sales = sales.rename({\"Date\": \"SALESDATE\", \"Time\": \"SALESTIME\"}, axis=1)\n",
    "# with engine.connect() as conn:\n",
    "#     sales.to_sql(\"SALES\", conn, if_exists=\"append\", index=False)\n"
   ]
  },
  {
   "attachments": {},
   "cell_type": "markdown",
   "metadata": {},
   "source": [
    "## Prüfen des Importes"
   ]
  },
  {
   "attachments": {},
   "cell_type": "markdown",
   "metadata": {},
   "source": [
    "Die letzten 3 Verkäufe aus der letzten gelesenen Textdatei anzeigen."
   ]
  },
  {
   "cell_type": "code",
   "execution_count": 10,
   "metadata": {},
   "outputs": [
    {
     "data": {
      "text/html": [
       "<div>\n",
       "<style scoped>\n",
       "    .dataframe tbody tr th:only-of-type {\n",
       "        vertical-align: middle;\n",
       "    }\n",
       "\n",
       "    .dataframe tbody tr th {\n",
       "        vertical-align: top;\n",
       "    }\n",
       "\n",
       "    .dataframe thead th {\n",
       "        text-align: right;\n",
       "    }\n",
       "</style>\n",
       "<table border=\"1\" class=\"dataframe\">\n",
       "  <thead>\n",
       "    <tr style=\"text-align: right;\">\n",
       "      <th></th>\n",
       "      <th>CustomerID</th>\n",
       "      <th>SALESDATE</th>\n",
       "      <th>SALESTIME</th>\n",
       "      <th>ChannelID</th>\n",
       "      <th>ProductID</th>\n",
       "      <th>DealerID</th>\n",
       "      <th>RecipientID</th>\n",
       "      <th>Explorer</th>\n",
       "      <th>Returned</th>\n",
       "      <th>Duration</th>\n",
       "      <th>Clicks</th>\n",
       "      <th>Pieces</th>\n",
       "      <th>Discount</th>\n",
       "    </tr>\n",
       "  </thead>\n",
       "  <tbody>\n",
       "    <tr>\n",
       "      <th>6845</th>\n",
       "      <td>566667</td>\n",
       "      <td>2017-02-13</td>\n",
       "      <td>215100</td>\n",
       "      <td>I</td>\n",
       "      <td>8</td>\n",
       "      <td>9998</td>\n",
       "      <td>566667</td>\n",
       "      <td>Netscape</td>\n",
       "      <td>Y</td>\n",
       "      <td>342</td>\n",
       "      <td>51</td>\n",
       "      <td>1</td>\n",
       "      <td>0</td>\n",
       "    </tr>\n",
       "    <tr>\n",
       "      <th>7043</th>\n",
       "      <td>349727</td>\n",
       "      <td>2017-02-13</td>\n",
       "      <td>214035</td>\n",
       "      <td>I</td>\n",
       "      <td>7</td>\n",
       "      <td>9996</td>\n",
       "      <td>349727</td>\n",
       "      <td>Internet Explorer</td>\n",
       "      <td>Y</td>\n",
       "      <td>309</td>\n",
       "      <td>18</td>\n",
       "      <td>2</td>\n",
       "      <td>0</td>\n",
       "    </tr>\n",
       "    <tr>\n",
       "      <th>6428</th>\n",
       "      <td>743155</td>\n",
       "      <td>2017-02-13</td>\n",
       "      <td>205306</td>\n",
       "      <td>I</td>\n",
       "      <td>5</td>\n",
       "      <td>9995</td>\n",
       "      <td>743155</td>\n",
       "      <td>Netscape</td>\n",
       "      <td>Y</td>\n",
       "      <td>342</td>\n",
       "      <td>17</td>\n",
       "      <td>1</td>\n",
       "      <td>10</td>\n",
       "    </tr>\n",
       "  </tbody>\n",
       "</table>\n",
       "</div>"
      ],
      "text/plain": [
       "      CustomerID  SALESDATE  SALESTIME ChannelID  ProductID  DealerID   \n",
       "6845      566667 2017-02-13     215100         I          8      9998  \\\n",
       "7043      349727 2017-02-13     214035         I          7      9996   \n",
       "6428      743155 2017-02-13     205306         I          5      9995   \n",
       "\n",
       "      RecipientID              Explorer Returned  Duration  Clicks  Pieces   \n",
       "6845       566667  Netscape                    Y       342      51       1  \\\n",
       "7043       349727  Internet Explorer           Y       309      18       2   \n",
       "6428       743155  Netscape                    Y       342      17       1   \n",
       "\n",
       "      Discount  \n",
       "6845         0  \n",
       "7043         0  \n",
       "6428        10  "
      ]
     },
     "metadata": {},
     "output_type": "display_data"
    }
   ],
   "source": [
    "display(sales.sort_values([\"SALESDATE\", \"SALESTIME\"], ascending=False).head(3))"
   ]
  },
  {
   "attachments": {},
   "cell_type": "markdown",
   "metadata": {},
   "source": [
    "Zurücklesen der Daten. Die ausgegebenen Daten müssen den oben ausgegebenen Daten entsprechen.\n",
    "Der Index ist natürlich unterschiedlich, die Datenbank wurde ohne Sortierung gelesen."
   ]
  },
  {
   "cell_type": "code",
   "execution_count": 11,
   "metadata": {},
   "outputs": [
    {
     "name": "stdout",
     "output_type": "stream",
     "text": [
      "45130 Datensätze gelesen.\n"
     ]
    },
    {
     "data": {
      "text/html": [
       "<div>\n",
       "<style scoped>\n",
       "    .dataframe tbody tr th:only-of-type {\n",
       "        vertical-align: middle;\n",
       "    }\n",
       "\n",
       "    .dataframe tbody tr th {\n",
       "        vertical-align: top;\n",
       "    }\n",
       "\n",
       "    .dataframe thead th {\n",
       "        text-align: right;\n",
       "    }\n",
       "</style>\n",
       "<table border=\"1\" class=\"dataframe\">\n",
       "  <thead>\n",
       "    <tr style=\"text-align: right;\">\n",
       "      <th></th>\n",
       "      <th>CUSTOMERID</th>\n",
       "      <th>SALESDATE</th>\n",
       "      <th>SALESTIME</th>\n",
       "      <th>CHANNELID</th>\n",
       "      <th>PRODUCTID</th>\n",
       "      <th>DEALERID</th>\n",
       "      <th>RECIPIENTID</th>\n",
       "      <th>EXPLORER</th>\n",
       "      <th>RETURNED</th>\n",
       "      <th>DURATION</th>\n",
       "      <th>CLICKS</th>\n",
       "      <th>PIECES</th>\n",
       "      <th>DISCOUNT</th>\n",
       "    </tr>\n",
       "  </thead>\n",
       "  <tbody>\n",
       "    <tr>\n",
       "      <th>42957</th>\n",
       "      <td>566667</td>\n",
       "      <td>2017-02-13</td>\n",
       "      <td>215100.0</td>\n",
       "      <td>I</td>\n",
       "      <td>8</td>\n",
       "      <td>9998</td>\n",
       "      <td>566667</td>\n",
       "      <td>Netscape</td>\n",
       "      <td>Y</td>\n",
       "      <td>342.0</td>\n",
       "      <td>51.0</td>\n",
       "      <td>1.0</td>\n",
       "      <td>0.0</td>\n",
       "    </tr>\n",
       "    <tr>\n",
       "      <th>43155</th>\n",
       "      <td>349727</td>\n",
       "      <td>2017-02-13</td>\n",
       "      <td>214035.0</td>\n",
       "      <td>I</td>\n",
       "      <td>7</td>\n",
       "      <td>9996</td>\n",
       "      <td>349727</td>\n",
       "      <td>Internet Explorer</td>\n",
       "      <td>Y</td>\n",
       "      <td>309.0</td>\n",
       "      <td>18.0</td>\n",
       "      <td>2.0</td>\n",
       "      <td>0.0</td>\n",
       "    </tr>\n",
       "    <tr>\n",
       "      <th>42540</th>\n",
       "      <td>743155</td>\n",
       "      <td>2017-02-13</td>\n",
       "      <td>205306.0</td>\n",
       "      <td>I</td>\n",
       "      <td>5</td>\n",
       "      <td>9995</td>\n",
       "      <td>743155</td>\n",
       "      <td>Netscape</td>\n",
       "      <td>Y</td>\n",
       "      <td>342.0</td>\n",
       "      <td>17.0</td>\n",
       "      <td>1.0</td>\n",
       "      <td>10.0</td>\n",
       "    </tr>\n",
       "  </tbody>\n",
       "</table>\n",
       "</div>"
      ],
      "text/plain": [
       "      CUSTOMERID   SALESDATE  SALESTIME CHANNELID  PRODUCTID  DEALERID   \n",
       "42957     566667  2017-02-13   215100.0         I          8      9998  \\\n",
       "43155     349727  2017-02-13   214035.0         I          7      9996   \n",
       "42540     743155  2017-02-13   205306.0         I          5      9995   \n",
       "\n",
       "      RECIPIENTID              EXPLORER RETURNED  DURATION  CLICKS  PIECES   \n",
       "42957      566667  Netscape                    Y     342.0    51.0     1.0  \\\n",
       "43155      349727  Internet Explorer           Y     309.0    18.0     2.0   \n",
       "42540      743155  Netscape                    Y     342.0    17.0     1.0   \n",
       "\n",
       "       DISCOUNT  \n",
       "42957       0.0  \n",
       "43155       0.0  \n",
       "42540      10.0  "
      ]
     },
     "metadata": {},
     "output_type": "display_data"
    }
   ],
   "source": [
    "with engine.connect() as conn:\n",
    "    sales_check = pd.read_sql(sqlalchemy.text(\"SELECT * FROM SALES\"), conn)\n",
    "print(f\"{len(sales_check)} Datensätze gelesen.\")\n",
    "display(sales_check.sort_values([\"SALESDATE\", \"SALESTIME\"], ascending=False).head(3))"
   ]
  }
 ],
 "metadata": {
  "kernelspec": {
   "display_name": "Python 3",
   "language": "python",
   "name": "python3"
  },
  "language_info": {
   "codemirror_mode": {
    "name": "ipython",
    "version": 3
   },
   "file_extension": ".py",
   "mimetype": "text/x-python",
   "name": "python",
   "nbconvert_exporter": "python",
   "pygments_lexer": "ipython3",
   "version": "3.10.5"
  },
  "orig_nbformat": 4
 },
 "nbformat": 4,
 "nbformat_minor": 2
}
