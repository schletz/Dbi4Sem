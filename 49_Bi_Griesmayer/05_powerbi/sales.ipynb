{
 "cells": [
  {
   "attachments": {},
   "cell_type": "markdown",
   "metadata": {},
   "source": [
    "# Import der Daten für PowerBI"
   ]
  },
  {
   "attachments": {},
   "cell_type": "markdown",
   "metadata": {},
   "source": [
    "Liest die Exceldatei des Kapitels *PowerBI* in eine SQL Server Datenbank, sodass sie mit PowerBI visualisiert werden kann.\n",
    "Voraussetzung ist ein SQL Server Container:\n",
    "\n",
    "*docker run -d -p 1433:1433  --name sqlserver2019 -e \"ACCEPT_EULA=Y\" -e \"SA_PASSWORD=SqlServer2019\" mcr.microsoft.com/azure-sql-edge*\n",
    "\n",
    "Quelle: http://www.griesmayer.com/?menu=Business%20Intelligence&semester=Semsester_6&topic=05_PowerBI"
   ]
  },
  {
   "cell_type": "code",
   "execution_count": 1,
   "metadata": {},
   "outputs": [],
   "source": [
    "from pathlib import Path\n",
    "import sqlalchemy, re\n",
    "import pandas as pd\n",
    "\n",
    "# Prompt for IP, username and password.\n",
    "host = input(\"Host (IP), Enter für localhost.\") or \"localhost\" if \"host\" not in locals() else host\n",
    "username = input(\"Username, Enter für sa.\") or \"sa\" if \"username\" not in locals() else username\n",
    "password = input(\"Passwort, Enter für SqlServer2019.\") or \"SqlServer2019\" if \"password\" not in locals() else password\n",
    "database = \"Sales\"\n",
    "connection_url = sqlalchemy.engine.URL.create(\"mssql+pyodbc\", username=username,\n",
    "    password=password, host=host, database=database,\n",
    "    query={ \"driver\": \"ODBC Driver 18 for SQL Server\" })\n",
    "# We cannot connect to sales to create the database (does not exist at this time). We use tempdb.\n",
    "# Autocommit is necessary for create database and ddl statements.\n",
    "tempdb_engine = sqlalchemy.create_engine(\n",
    "    connection_url.set(database=\"tempdb\"), isolation_level=\"AUTOCOMMIT\", \n",
    "    connect_args={\"TrustServerCertificate\": \"yes\"})\n",
    "# We drop the database just before connecting, so we set pool_pre_ping=True\n",
    "engine = sqlalchemy.create_engine(\n",
    "    connection_url, fast_executemany=True, pool_pre_ping=True,\n",
    "    connect_args={\"TrustServerCertificate\": \"yes\"})\n"
   ]
  },
  {
   "attachments": {},
   "cell_type": "markdown",
   "metadata": {},
   "source": [
    "Zuerst löschen wir die Datenbank und erstellen sie neu.\n",
    "Das ist natürlich nur zum Testen, sonst ist das Löschen der Datenbank nicht ideal..."
   ]
  },
  {
   "cell_type": "code",
   "execution_count": 9,
   "metadata": {},
   "outputs": [],
   "source": [
    "with tempdb_engine.connect() as conn: \n",
    "    try: conn.execute(sqlalchemy.text(f\"ALTER DATABASE {database} SET SINGLE_USER WITH ROLLBACK IMMEDIATE\"))\n",
    "    except: pass\n",
    "    conn.execute(sqlalchemy.text(f\"DROP DATABASE IF EXISTS {database}\"))\n",
    "    conn.execute(sqlalchemy.text(f\"CREATE DATABASE {database}\"))\n",
    "with engine.connect() as conn:\n",
    "    conn.execution_options(isolation_level=\"AUTOCOMMIT\")\n",
    "    conn.execute(sqlalchemy.text(\"\"\"\n",
    "        CREATE TABLE Country (\n",
    "            CountryID   INTEGER       PRIMARY KEY,\n",
    "            Country     VARCHAR(255)  NOT NULL,\n",
    "            Continent   VARCHAR(32)   NOT NULL,\n",
    "            Region      VARCHAR(255)  NOT NULL,\n",
    "            Population  INTEGER       NOT NULL,\n",
    "            Size        VARCHAR(8)    NOT NULL\n",
    "        )\n",
    "    \"\"\"))\n",
    "    conn.execute(sqlalchemy.text(\"\"\"\n",
    "        CREATE TABLE Product (\n",
    "            ProduktID         INTEGER      PRIMARY KEY,\n",
    "            ProductKategory   VARCHAR(255) NOT NULL,\n",
    "            ShoppingBasket    INTEGER      NOT NULL,\n",
    "            Price             DECIMAL(9,2) NOT NULL,\n",
    "            Cost              DECIMAL(9,2) NOT NULL\n",
    "        )\n",
    "    \"\"\"))\n",
    "    conn.execute(sqlalchemy.text(\"\"\"\n",
    "        CREATE TABLE Customer (\n",
    "            CustomerID     INTEGER      PRIMARY KEY,\n",
    "            FirstName      VARCHAR(255) NOT NULL,\n",
    "            Gender         VARCHAR(8)   NOT NULL,\n",
    "            Income         VARCHAR(16)  NOT NULL,\n",
    "            ShoppingBasket INTEGER      NOT NULL\n",
    "        )\n",
    "    \"\"\"))\n",
    "    conn.execute(sqlalchemy.text(\"\"\"\n",
    "        CREATE TABLE Sales (\n",
    "            SalesID      INTEGER       PRIMARY KEY IDENTITY(1,1),\n",
    "            Date         DATE          NOT NULL,\n",
    "            CountryID    INTEGER       NOT NULL,\n",
    "            ProduktID    INTEGER       NOT NULL,\n",
    "            CustomerID   INTEGER       NOT NULL,\n",
    "            Pieces       INTEGER       NOT NULL,\n",
    "            Revenue      DECIMAL(9,2)  NOT NULL,\n",
    "            Cost         DECIMAL(9,2)  NOT NULL,\n",
    "            Margin       DECIMAL(9,2)  NOT NULL,\n",
    "            FOREIGN KEY (CountryID)  REFERENCES Country(CountryID),\n",
    "            FOREIGN KEY (ProduktID)  REFERENCES Product(ProduktID),\n",
    "            FOREIGN KEY (CustomerID) REFERENCES Customer(CustomerID)\n",
    "        )\n",
    "    \"\"\"))\n"
   ]
  },
  {
   "attachments": {},
   "cell_type": "markdown",
   "metadata": {},
   "source": [
    "Nun wird die Exceldatei *Sales.xls* gelesen.\n",
    "Dafür muss das Python paket *xlrd* mit dem Befehl *pip3 install xlrd --upgrade* installiert werden.\n",
    "Es liest das alte Excelformat (xls) ein."
   ]
  },
  {
   "cell_type": "code",
   "execution_count": 10,
   "metadata": {},
   "outputs": [],
   "source": [
    "# pip3 install xlrd --upgrade\n",
    "cols = {\n",
    "    \"Product\": [\"ProduktID\", \"ProductKategory\", \"ShoppingBasket\", \"Price\", \"Cost\"],\n",
    "    \"Sales\": [\"Date\", \"CountryID\", \"ProduktID\", \"Pieces\", \"Revenue\", \"Cost\", \"Margin\", \"CustomerID\"]\n",
    "}\n",
    "with engine.connect() as conn:\n",
    "    for sheet in [\"Product\", \"Country\", \"Customer\", \"Sales\"]:\n",
    "        data = pd.read_excel(\"Sales.xlsx\", sheet_name=sheet, usecols=cols.get(sheet))\n",
    "        data.to_sql(sheet, conn, if_exists=\"append\", index=False)\n",
    "        conn.commit()\n"
   ]
  }
 ],
 "metadata": {
  "kernelspec": {
   "display_name": "Python 3",
   "language": "python",
   "name": "python3"
  },
  "language_info": {
   "codemirror_mode": {
    "name": "ipython",
    "version": 3
   },
   "file_extension": ".py",
   "mimetype": "text/x-python",
   "name": "python",
   "nbconvert_exporter": "python",
   "pygments_lexer": "ipython3",
   "version": "3.10.5"
  },
  "orig_nbformat": 4
 },
 "nbformat": 4,
 "nbformat_minor": 2
}
