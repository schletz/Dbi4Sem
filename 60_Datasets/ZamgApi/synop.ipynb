{
 "cells": [
  {
   "attachments": {},
   "cell_type": "markdown",
   "metadata": {},
   "source": [
    "# ZAMG Data Hub: Synoptische Daten"
   ]
  },
  {
   "attachments": {},
   "cell_type": "markdown",
   "metadata": {},
   "source": [
    "Quellen:\n",
    "- **Messstationen Zehnminutendaten**: https://data.hub.zamg.ac.at/dataset/synop-v1-1h\n",
    "- **API Client:** https://dataset.api.hub.zamg.ac.at/app/frontend/station/historical/synop-v1-1h?anonymous=true\n",
    "\n",
    "Beachte die Parameterbeschreibung in der Datei *synop_params.tsv* (vor allem bei Niederschlagsmengen und Wind).\n",
    "Tmax wird um 18h UTC gemeldet, Tmin wird um 6h UTC gemeldet.\n",
    "Bei neueren Meldungen wird beides um 6h und 18h UTC gemeldet."
   ]
  },
  {
   "cell_type": "code",
   "execution_count": null,
   "metadata": {},
   "outputs": [],
   "source": [
    "import pandas as pd, datetime as dt, numpy as np, requests as req\n",
    "import matplotlib.pyplot as plt\n",
    "import bz2\n",
    "pd.set_option('display.max_rows', 128)"
   ]
  },
  {
   "cell_type": "code",
   "execution_count": null,
   "metadata": {},
   "outputs": [],
   "source": [
    "def generate_url(date_from, date_to, station_ids, parameters):\n",
    "    get_params = {\"parameters\": \",\".join(parameters), \"start\": date_from,\n",
    "                \"end\":date_to, \"station_ids\": \",\".join([str(val) for val in station_ids]),\n",
    "                \"output_format\":\"csv\"}\n",
    "    return \"https://dataset.api.hub.zamg.ac.at/v1/station/historical/synop-v1-1h?\"+'&'.join([f\"{key}={val}\" for key, val in get_params.items()])"
   ]
  },
  {
   "attachments": {},
   "cell_type": "markdown",
   "metadata": {},
   "source": [
    "Auslesen der möglichen Stationen und der möglichen Parameter aus den Metadaten."
   ]
  },
  {
   "cell_type": "code",
   "execution_count": null,
   "metadata": {},
   "outputs": [],
   "source": [
    "metadata = req.get(\"https://dataset.api.hub.zamg.ac.at/v1/station/historical/synop-v1-1h/metadata\").json()\n",
    "params = pd.DataFrame(metadata.get(\"parameters\")).astype(\n",
    "    {\"name\": \"string\", \"long_name\": \"string\", \"desc\": \"string\", \"unit\": \"string\"})\n",
    "stations = pd.DataFrame(metadata.get(\"stations\")).astype(\n",
    "    {\"type\": \"string\", \"id\": int, \"group_id\": \"Int64\", \"name\": \"string\", \"state\": \"string\",\n",
    "     \"lat\": float, \"lon\": float, \"altitude\": float, \"valid_from\": \"datetime64\", \"valid_to\": \"datetime64\",\n",
    "     \"has_sunshine\": bool, \"has_global_radiation\": bool, \"is_active\": bool })"
   ]
  },
  {
   "cell_type": "code",
   "execution_count": null,
   "metadata": {},
   "outputs": [],
   "source": [
    "params.to_csv(\"synop_params.tsv\", sep=\"\\t\", index=False)\n",
    "stations.sort_values([\"state\", \"id\"]).to_csv(\"synop_stations.tsv\", sep=\"\\t\", index=False)"
   ]
  },
  {
   "cell_type": "code",
   "execution_count": null,
   "metadata": {},
   "outputs": [],
   "source": [
    "stations.name.to_clipboard()"
   ]
  },
  {
   "attachments": {},
   "cell_type": "markdown",
   "metadata": {},
   "source": [
    "Abfragen von bestimmten Parametern einer oder mehrerer Stationen."
   ]
  },
  {
   "cell_type": "code",
   "execution_count": null,
   "metadata": {},
   "outputs": [],
   "source": [
    "measurements = None\n",
    "station_ids = stations.loc[stations.name.isin([\"GUMPOLDSKIRCHEN\", \"WIEN-INNERE STADT\", \"WIEN/HOHE WARTE\", \"RAX/SEILBAHN-BERGSTAT\"]), \"id\"].sort_values()\n",
    "parameters = [\"T\", \"Tmax\", \"Tmin\", \"Td\", \"rel\", \"dd\", \"ff\", \"Pg\", \"Pp\", \"RR3\", \"RRR\", \"tr\", \"tr3\", \"sonne\"]\n",
    "dtypes = {\"station\": int}\n",
    "dtypes.update({val:float  for val in parameters})\n",
    "for station_id in station_ids:\n",
    "    for year in range(2000, 2021, 1):\n",
    "        print(f\"Lade Jahr {year} von Station {station_id}...\")\n",
    "        download_url = generate_url(f\"{year}-01-01T00:00:00Z\", f\"{year}-12-31T23:50:00Z\", [station_id], parameters)\n",
    "        df = pd.read_csv(download_url, sep=\",\", dtype=dtypes, parse_dates=[\"time\"]).query(\"T.notna()\")\n",
    "        measurements = pd.concat([df, measurements]) if measurements is not None else df"
   ]
  },
  {
   "cell_type": "code",
   "execution_count": null,
   "metadata": {},
   "outputs": [],
   "source": [
    "measurements[measurements.time.dt.hour == 18].set_index(\"time\")[\"Tmax\"].plot.line();"
   ]
  }
 ],
 "metadata": {
  "kernelspec": {
   "display_name": "Python 3",
   "language": "python",
   "name": "python3"
  },
  "language_info": {
   "codemirror_mode": {
    "name": "ipython",
    "version": 3
   },
   "file_extension": ".py",
   "mimetype": "text/x-python",
   "name": "python",
   "nbconvert_exporter": "python",
   "pygments_lexer": "ipython3",
   "version": "3.10.5"
  },
  "orig_nbformat": 4
 },
 "nbformat": 4,
 "nbformat_minor": 2
}
