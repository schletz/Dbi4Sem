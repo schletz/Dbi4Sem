{
 "cells": [
  {
   "attachments": {},
   "cell_type": "markdown",
   "metadata": {},
   "source": [
    "# ZAMG Data Hub: Synoptische Daten"
   ]
  },
  {
   "attachments": {},
   "cell_type": "markdown",
   "metadata": {},
   "source": [
    "Quellen:\n",
    "- **Messstationen Zehnminutendaten**: https://data.hub.zamg.ac.at/dataset/synop-v1-1h\n",
    "- **API Client:** https://dataset.api.hub.zamg.ac.at/app/frontend/station/historical/synop-v1-1h?anonymous=true\n",
    "\n",
    "Beachte die Parameterbeschreibung in der Datei *synop_params.tsv* (vor allem bei Niederschlagsmengen und Wind).\n",
    "Tmax wird um 18h UTC gemeldet, Tmin wird um 6h UTC gemeldet.\n",
    "Bei neueren Meldungen wird beides um 6h und 18h UTC gemeldet."
   ]
  },
  {
   "cell_type": "code",
   "execution_count": 1,
   "metadata": {},
   "outputs": [],
   "source": [
    "import pandas as pd, datetime as dt, numpy as np, requests as req\n",
    "import matplotlib.pyplot as plt\n",
    "import bz2, os\n",
    "pd.set_option('display.max_rows', 128)"
   ]
  },
  {
   "cell_type": "code",
   "execution_count": 2,
   "metadata": {},
   "outputs": [],
   "source": [
    "def generate_url(date_from, date_to, station_ids, parameters):\n",
    "    get_params = {\"parameters\": \",\".join(parameters), \"start\": date_from,\n",
    "                \"end\":date_to, \"station_ids\": \",\".join([str(val) for val in station_ids]),\n",
    "                \"output_format\":\"csv\"}\n",
    "    return \"https://dataset.api.hub.zamg.ac.at/v1/station/historical/synop-v1-1h?\"+'&'.join([f\"{key}={val}\" for key, val in get_params.items()])"
   ]
  },
  {
   "attachments": {},
   "cell_type": "markdown",
   "metadata": {},
   "source": [
    "Auslesen der möglichen Stationen und der möglichen Parameter aus den Metadaten."
   ]
  },
  {
   "cell_type": "code",
   "execution_count": 3,
   "metadata": {},
   "outputs": [],
   "source": [
    "metadata = req.get(\"https://dataset.api.hub.zamg.ac.at/v1/station/historical/synop-v1-1h/metadata\").json()\n",
    "params = pd.DataFrame(metadata.get(\"parameters\")).astype(\n",
    "    {\"name\": \"string\", \"long_name\": \"string\", \"desc\": \"string\", \"unit\": \"string\"})\n",
    "stations = pd.DataFrame(metadata.get(\"stations\")).astype(\n",
    "    {\"type\": \"string\", \"id\": int, \"group_id\": \"Int64\", \"name\": \"string\", \"state\": \"string\",\n",
    "     \"lat\": float, \"lon\": float, \"altitude\": float, \"valid_from\": \"datetime64\", \"valid_to\": \"datetime64\",\n",
    "     \"has_sunshine\": bool, \"has_global_radiation\": bool, \"is_active\": bool })"
   ]
  },
  {
   "cell_type": "code",
   "execution_count": 4,
   "metadata": {},
   "outputs": [],
   "source": [
    "params.to_csv(\"synop_params.tsv\", sep=\"\\t\", index=False)\n",
    "stations.sort_values([\"state\", \"id\"]).to_csv(\"synop_stations.tsv\", sep=\"\\t\", index=False)"
   ]
  },
  {
   "attachments": {},
   "cell_type": "markdown",
   "metadata": {},
   "source": [
    "Abfragen von bestimmten Parametern einer oder mehrerer Stationen."
   ]
  },
  {
   "cell_type": "code",
   "execution_count": 7,
   "metadata": {},
   "outputs": [],
   "source": [
    "# Append data to existing datafile.\n",
    "measurements = pd.read_parquet(\"../zamg_weatherdata.parquet\") if os.path.exists(\"../zamg_weatherdata.parquet\") else None"
   ]
  },
  {
   "cell_type": "code",
   "execution_count": null,
   "metadata": {},
   "outputs": [],
   "source": [
    "station_ids = stations.loc[stations.name.isin([\"GUMPOLDSKIRCHEN\", \"WIEN-INNERE STADT\",\n",
    "   \"WIEN/HOHE WARTE\", \"RAX/SEILBAHN-BERGSTAT\", \"BREGENZ\", \"SONNBLICK - AUTOM.\"]), \"id\"].sort_values()\n",
    "parameters = [\"T\", \"Tmax\", \"Tmin\", \"Td\", \"rel\", \"dd\", \"ff\", \"Pg\", \"Pp\", \"RR3\", \"RRR\", \"tr\", \"tr3\", \"sonne\"]\n",
    "dtypes = {\"station\": int}\n",
    "dtypes.update({val:float  for val in parameters})\n",
    "first_year = 1993\n",
    "last_year = 2022\n",
    "for station_id in station_ids:\n",
    "    print(f\"Lade Station {station_id}...\")\n",
    "    for year in range(first_year, last_year+1, 1):\n",
    "        print(f\"    Lade Jahr {year}...\")\n",
    "        download_url = generate_url(f\"{year}-01-01T00:00:00Z\", f\"{year}-12-31T23:50:00Z\", [station_id], parameters)\n",
    "        df = pd.read_csv(download_url, sep=\",\", dtype=dtypes, parse_dates=[\"time\"]).query(\"T.notna()\")\n",
    "        measurements = pd.concat([df, measurements]) if measurements is not None else df"
   ]
  },
  {
   "cell_type": "code",
   "execution_count": null,
   "metadata": {},
   "outputs": [],
   "source": [
    "pd.io.clipboards.to_clipboard(measurements.sample(5).to_markdown(index=False), excel=False)    # pip install tabulate --upgrade"
   ]
  },
  {
   "cell_type": "code",
   "execution_count": 8,
   "metadata": {},
   "outputs": [],
   "source": [
    "measurements = measurements.sort_values([\"station\", \"time\"])\n",
    "measurements.to_csv(\"../zamg_weatherdata.csv.bz2\", compression={'method': 'bz2', 'compresslevel': 9}, sep=\";\", encoding=\"utf-8\", index=False)\n",
    "csv_data = measurements.to_csv(sep=\";\", index=False)\n",
    "with bz2.open(\"../zamg_weatherdata_unicode.csv.bz2\", \"wb\") as f: f.write(csv_data.encode(\"utf-16\"))\n",
    "measurements.to_parquet(\"../zamg_weatherdata.parquet\", compression=\"brotli\")"
   ]
  },
  {
   "attachments": {},
   "cell_type": "markdown",
   "metadata": {},
   "source": [
    "## Anzahl der Messwerte pro Tag\n",
    "\n",
    "Gibt eine Statistik aus, wie viele Tagesmesswerte pro Jahr und Station vorliegen.\n",
    "Dabei werden Tage gezählt, wo ein 6h und 18h UTC Messwert übermittelt wurde."
   ]
  },
  {
   "cell_type": "code",
   "execution_count": 16,
   "metadata": {},
   "outputs": [],
   "source": [
    "main_measurements = measurements.loc[(measurements.time.dt.hour == 6) | (measurements.time.dt.hour == 18), [\"time\", \"station\", \"T\"]]\n",
    "daily_measurements = main_measurements.groupby([main_measurements.time.dt.date, \"station\"]).aggregate(count=(\"T\", \"count\")) \\\n",
    "    .query(\"count == 2\").reset_index().astype({\"time\": \"datetime64\"})\n",
    "yearly_measurements = daily_measurements.groupby([daily_measurements.time.dt.year, \"station\"]).aggregate({\"count\": \"size\"}).unstack().fillna(0).astype(int)\n",
    "yearly_measurements.to_clipboard()"
   ]
  }
 ],
 "metadata": {
  "kernelspec": {
   "display_name": "Python 3",
   "language": "python",
   "name": "python3"
  },
  "language_info": {
   "codemirror_mode": {
    "name": "ipython",
    "version": 3
   },
   "file_extension": ".py",
   "mimetype": "text/x-python",
   "name": "python",
   "nbconvert_exporter": "python",
   "pygments_lexer": "ipython3",
   "version": "3.10.5"
  },
  "orig_nbformat": 4
 },
 "nbformat": 4,
 "nbformat_minor": 2
}
