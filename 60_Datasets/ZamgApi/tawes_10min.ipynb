{
 "cells": [
  {
   "attachments": {},
   "cell_type": "markdown",
   "metadata": {},
   "source": [
    "# ZAMG Data Hub: 10 Minuten Daten"
   ]
  },
  {
   "attachments": {},
   "cell_type": "markdown",
   "metadata": {},
   "source": [
    "Quellen:\n",
    "- **Messstationen Zehnminutendaten**: https://data.hub.zamg.ac.at/dataset/klima-v1-10min\n",
    "- **API Client:** https://dataset.api.hub.zamg.ac.at/app/frontend/station/historical/klima-v1-10min?anonymous=true"
   ]
  },
  {
   "cell_type": "code",
   "execution_count": null,
   "metadata": {},
   "outputs": [],
   "source": [
    "import pandas as pd, datetime as dt, numpy as np, requests as req\n",
    "import matplotlib.pyplot as plt\n",
    "import bz2\n",
    "pd.set_option('display.max_rows', 128)"
   ]
  },
  {
   "cell_type": "code",
   "execution_count": null,
   "metadata": {},
   "outputs": [],
   "source": [
    "def generate_url(date_from, date_to, station_ids, parameters):\n",
    "    get_params = {\"parameters\": \",\".join(parameters), \"start\": date_from,\n",
    "                \"end\":date_to, \"station_ids\": \",\".join([str(val) for val in station_ids]),\n",
    "                \"output_format\":\"csv\"}\n",
    "    return \"https://dataset.api.hub.zamg.ac.at/v1/station/historical/klima-v1-10min?\"+'&'.join([f\"{key}={val}\" for key, val in get_params.items()])"
   ]
  },
  {
   "cell_type": "code",
   "execution_count": null,
   "metadata": {},
   "outputs": [],
   "source": [
    "metadata = req.get(\"https://dataset.api.hub.zamg.ac.at/v1/station/historical/klima-v1-10min/metadata\").json()\n",
    "params = pd.DataFrame(metadata.get(\"parameters\")).astype(\n",
    "    {\"name\": \"string\", \"long_name\": \"string\", \"desc\": \"string\", \"unit\": \"string\"})\n",
    "stations = pd.DataFrame(metadata.get(\"stations\")).astype(\n",
    "    {\"type\": \"string\", \"id\": int, \"group_id\": \"Int64\", \"name\": \"string\", \"state\": \"string\",\n",
    "     \"lat\": float, \"lon\": float, \"altitude\": float, \"valid_from\": \"datetime64\",\n",
    "     \"valid_to\": \"datetime64\", \"has_sunshine\": bool, \"has_global_radiation\": bool, \"is_active\": bool})"
   ]
  },
  {
   "cell_type": "code",
   "execution_count": null,
   "metadata": {},
   "outputs": [],
   "source": [
    "station_ids = stations.loc[stations.name == \"GUMPOLDSKIRCHEN\", \"id\"].sort_values()\n",
    "parameters = [\"TL\", \"TLMAX\", \"TLMIN\", \"TP\", \"RF\", \"DD\", \"FF\", \"FFX\", \"P\", \"P0\", \"RR\", \"RRM\", \"SO\"]\n",
    "download_url = generate_url(\"2022-01-01T00:00:00Z\", \"2022-12-31T23:50:00Z\", station_ids, parameters)\n",
    "dtypes = {\"station\": int}\n",
    "dtypes.update({val:float  for val in parameters})\n",
    "measurements = pd.read_csv(download_url, sep=\",\", dtype=dtypes, parse_dates=[\"time\"]).query(\"TL.notna()\")"
   ]
  },
  {
   "cell_type": "code",
   "execution_count": null,
   "metadata": {},
   "outputs": [],
   "source": [
    "measurements.to_parquet(\"gumpoldskirchen_2022.parquet\", compression=\"brotli\")"
   ]
  },
  {
   "cell_type": "code",
   "execution_count": null,
   "metadata": {},
   "outputs": [],
   "source": [
    "measurements.set_index(\"time\")[[\"TLMAX\"]].plot.line();"
   ]
  }
 ],
 "metadata": {
  "kernelspec": {
   "display_name": "Python 3",
   "language": "python",
   "name": "python3"
  },
  "language_info": {
   "codemirror_mode": {
    "name": "ipython",
    "version": 3
   },
   "file_extension": ".py",
   "mimetype": "text/x-python",
   "name": "python",
   "nbconvert_exporter": "python",
   "pygments_lexer": "ipython3",
   "version": "3.10.5"
  },
  "orig_nbformat": 4
 },
 "nbformat": 4,
 "nbformat_minor": 2
}
