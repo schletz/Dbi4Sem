{
 "cells": [
  {
   "cell_type": "code",
   "execution_count": null,
   "metadata": {},
   "outputs": [],
   "source": [
    "import pandas as pd, datetime as dt, numpy as np\n",
    "import matplotlib.pyplot as plt\n",
    "import parseSynop as ps    # Datei parseSynop.py laden\n",
    "pd.set_option('display.max_rows', 128)"
   ]
  },
  {
   "cell_type": "code",
   "execution_count": null,
   "metadata": {},
   "outputs": [],
   "source": [
    "data_vienna = ps.readFile(\"synop_11034.txt.bz2\")     # Wien Innere Stadt\n",
    "data_hohewarte = ps.readFile(\"synop_11035.txt.bz2\")  # Wien Hohe Warte\n",
    "data_gump = ps.readFile(\"synop_11082.txt.bz2\")       # Gumpoldskirchen\n",
    "data_rax = ps.readFile(\"synop_11180.txt.bz2\")        # Rax Bergstation\n",
    "data = pd.concat([data_gump, data_hohewarte, data_rax, data_vienna])\n",
    "data.groupby([\"year\", \"station\"]).size().unstack()"
   ]
  },
  {
   "cell_type": "code",
   "execution_count": null,
   "metadata": {},
   "outputs": [],
   "source": [
    "pd.io.clipboards.to_clipboard(data.sample(5).to_markdown(index=False), excel=False)    # pip install tabulate --upgrade\n",
    "data.to_csv(\"../weatherdata.csv.bz2\", compression={'method': 'bz2', 'compresslevel': 9}, sep=\";\", encoding=\"utf-8\", index=False)\n",
    "data.to_csv(\"../weatherdata_unicode.csv.bz2\", compression={'method': 'bz2', 'compresslevel': 9}, sep=\";\", encoding=\"utf-16\", index=False)\n",
    "data.to_parquet(\"../weatherdata.parquet\", compression=\"brotli\")"
   ]
  }
 ],
 "metadata": {
  "kernelspec": {
   "display_name": "Python 3",
   "language": "python",
   "name": "python3"
  },
  "language_info": {
   "codemirror_mode": {
    "name": "ipython",
    "version": 3
   },
   "file_extension": ".py",
   "mimetype": "text/x-python",
   "name": "python",
   "nbconvert_exporter": "python",
   "pygments_lexer": "ipython3",
   "version": "3.10.5"
  },
  "orig_nbformat": 4
 },
 "nbformat": 4,
 "nbformat_minor": 2
}
