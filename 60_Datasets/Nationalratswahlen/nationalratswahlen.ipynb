{
 "cells": [
  {
   "attachments": {},
   "cell_type": "markdown",
   "metadata": {},
   "source": [
    "# Nationalratswahlen seit 1995\n",
    "\n",
    "Quellen:\n",
    "\n",
    "- **NRW 1995:** https://www.bmi.gv.at/412/Nationalratswahlen/Nationalratswahl_1995_Wiederholungswahl_1996/start.aspx\n",
    "- **NRW 1999:** https://www.bmi.gv.at/412/Nationalratswahlen/Nationalratswahl_1999/start.aspx\n",
    "- **NRW 2002:** https://www.bmi.gv.at/412/Nationalratswahlen/Nationalratswahl_2002/start.aspx\n",
    "- **NRW 2006:** https://www.bmi.gv.at/412/Nationalratswahlen/Nationalratswahl_2006/start.aspx\n",
    "- **NRW 2008:** https://www.bmi.gv.at/412/Nationalratswahlen/Nationalratswahl_2008/start.aspx\n",
    "- **NRW 2013:** https://www.bmi.gv.at/412/Nationalratswahlen/Nationalratswahl_2013/start.aspx\n",
    "- **NRW 2017:** https://www.bmi.gv.at/412/Nationalratswahlen/Nationalratswahl_2017/start.aspx\n",
    "- **NRW 2019:** https://www.bmi.gv.at/412/Nationalratswahlen/Nationalratswahl_2019/start.aspx\n",
    "- **Umcodierung der Gemeindekennziffern Niederösterreich:** https://www.data.gv.at/katalog/dataset/7f759371-bdb3-4f58-9dbd-835eb3c19efa\n",
    "- **Die neue Gemeinde- und Bezirksstruktur in der Steiermark:** https://www.landesentwicklung.steiermark.at/cms/beitrag/12658686/141979478/\n",
    "- **Land Steiermark: Gebietsstands- und Namensänderungen 2020:** https://www.landesentwicklung.steiermark.at/cms/dokumente/12658757_142970621/716b52c0/STMK%20Gebietsstands%C3%A4nderungen%20GM%202020.pdf"
   ]
  },
  {
   "cell_type": "code",
   "execution_count": null,
   "metadata": {},
   "outputs": [],
   "source": [
    "import pandas as pd, datetime as dt, numpy as np\n",
    "import matplotlib.pyplot as plt\n",
    "pd.set_option('display.max_rows', 128)"
   ]
  },
  {
   "attachments": {},
   "cell_type": "markdown",
   "metadata": {},
   "source": [
    "### Lesen der Verwaltungsgliederung und Einpflegen der Änderungen"
   ]
  },
  {
   "cell_type": "code",
   "execution_count": null,
   "metadata": {},
   "outputs": [],
   "source": [
    "gemeinden = pd.read_csv(\"gemeinden.tsv\", encoding=\"utf-8\", sep=\"\\t\",\n",
    "                        dtype={\"GKZ\": int, \"BKZ\": int, \"BLKZ\": int, \"PG\": \"string\", \"PB\": \"string\",\n",
    "                               \"BL\": \"string\", \"WKNR\": \"string\", \"WKNAME\": \"string\", \"AREA\": float,\n",
    "                               \"CENTER_X\": float, \"CENTER_Y\": float}) \\\n",
    "    .set_index(\"GKZ\", verify_integrity=True) \\\n",
    "    .rename({\"BKZ\": \"BKZ_BEV\", \"WKNR\": \"WKNR_BEV\"}, axis=1)\n",
    "# Gebietsreform in der Steiermark (sehr umfassend)\n",
    "steiermark_bez_neu_2013_replace = pd.read_csv(\"steiermark_bez_neu_2013.tsv\", encoding=\"utf-8\", sep=\"\\t\",\n",
    "                                              usecols=[\"GKZ_NEU\", \"GKZ_ALT\"],\n",
    "                                              dtype={\"GKZ_ALT\": int, \"GKZ_NEU\": int}) \\\n",
    "    .set_index(\"GKZ_ALT\", verify_integrity=True).GKZ_NEU.to_dict()\n",
    "# Manche Gemeinden werden Geteilt. Wir weisen sie aber dem letzten Eintrag zu.\n",
    "steiermark_gkz_neu_2015_replace = pd.read_csv(\"steiermark_gkz_neu_2015.tsv\", encoding=\"utf-8\", sep=\"\\t\",\n",
    "                                              usecols=[\"GKZ_NEU\", \"GKZ_ALT\"],\n",
    "                                              dtype={\"GKZ_ALT\": int, \"GKZ_NEU\": int}) \\\n",
    "    .set_index(\"GKZ_ALT\").GKZ_NEU.to_dict()\n",
    "steiermark_gkz_neu_2020_replace = pd.read_csv(\"steiermark_gkz_neu_2020.tsv\", encoding=\"utf-8\", sep=\"\\t\",\n",
    "                                              usecols=[\"GKZ_NEU\", \"GKZ_ALT\"],\n",
    "                                              dtype={\"GKZ_ALT\": int, \"GKZ_NEU\": int}) \\\n",
    "    .set_index(\"GKZ_ALT\").GKZ_NEU.to_dict()\n",
    "# Auflösung des Bezirkes Wien Umgebung in NÖ\n",
    "noe_neu_replace = pd.read_csv(\"noe_umcodierung_lau2.csv\", sep=\";\", encoding=\"utf_8\",\n",
    "                      usecols=[\"LAU2_CODE_2016\", \"LAU2_CODE_2017\"],\n",
    "                      dtype={\"LAU2_CODE_2016\": int, \"LAU2_CODE_2017\": int})\n",
    "noe_neu_replace = noe_neu_replace[noe_neu_replace.LAU2_CODE_2016 != noe_neu_replace.LAU2_CODE_2017] \\\n",
    "    .set_index(\"LAU2_CODE_2016\", verify_integrity=True).LAU2_CODE_2017.to_dict()\n",
    "# Manuell eingepflegte Änderungen aus Gesetzesblättern, etc.\n",
    "gemeinden_neu_replace = pd.read_csv(\"gemeinden_aenderungen_manuell.tsv\", sep=\"\\t\", encoding=\"utf_8\",\n",
    "                            usecols=[\"GKZ_NEU\", \"GKZ_ALT\"],\n",
    "                            dtype={\"GKZ_ALT\": int, \"GKZ_NEU\": int}) \\\n",
    "    .set_index(\"GKZ_ALT\", verify_integrity=True).GKZ_NEU.to_dict()\n"
   ]
  },
  {
   "attachments": {},
   "cell_type": "markdown",
   "metadata": {},
   "source": [
    "### Lesen der Ergebnisse"
   ]
  },
  {
   "cell_type": "code",
   "execution_count": null,
   "metadata": {},
   "outputs": [],
   "source": [
    "files = {\"nrw1995.tsv\": 1995,\"nrw1999.tsv\": 1999,\"nrw2002.tsv\": 2002,\"nrw2006.tsv\": 2006,\n",
    "         \"nrw2008.tsv\": 2008,\"nrw2013.tsv\": 2013,\"nrw2017.tsv\": 2017,\"nrw2019.tsv\": 2019}"
   ]
  },
  {
   "cell_type": "code",
   "execution_count": null,
   "metadata": {},
   "outputs": [],
   "source": [
    "results = None\n",
    "for file, year in files.items():\n",
    "    nrw = pd.read_csv(file, encoding=\"utf-8\", sep=\"\\t\",\n",
    "                      dtype={\"GKZ\": \"string\", \"Gebiet\": \"string\", \"Wahlberechtigte\": \"Int64\",\n",
    "                             \"StimmenAbgegeben\": \"Int64\", \"StimmenGueltig\": \"Int64\", \"StimmenUngueltig\": \"Int64\"})\n",
    "    nrw[\"WKNR\"] = nrw.GKZ.str.extract(r\"^(\\d[A-Z])\\d\\d\\d$\")\n",
    "    nrw[\"BKZ\"] = nrw.GKZ.str.extract(r\"^(\\d\\d\\d)\\d\\d$\").astype(\"Int64\")\n",
    "    nrw[\"GKZ_BEV\"] = np.where(nrw.GKZ.str.match(r\"^[0-9]{5}$\") & ~nrw.GKZ.str.endswith(\"99\") & ~nrw.GKZ.str.endswith(\"00\"), nrw.GKZ, 0) \\\n",
    "        .astype(int)\n",
    "    nrw[\"GKZ_BEV\"] = nrw.GKZ_BEV.replace(steiermark_bez_neu_2013_replace)\n",
    "    nrw[\"GKZ_BEV\"] = nrw.GKZ_BEV.replace(steiermark_gkz_neu_2015_replace)\n",
    "    nrw[\"GKZ_BEV\"] = nrw.GKZ_BEV.replace(steiermark_gkz_neu_2020_replace)\n",
    "    nrw[\"GKZ_BEV\"] = nrw.GKZ_BEV.replace(noe_neu_replace)\n",
    "    nrw[\"GKZ_BEV\"] = nrw.GKZ_BEV.replace(gemeinden_neu_replace)\n",
    "    gemeinden_ungueltig = nrw[nrw.GKZ_BEV != 0].join(gemeinden, on=\"GKZ_BEV\") \\\n",
    "        .query(\"PG.isna()\")[[\"GKZ\", \"GKZ_BEV\", \"Gebiet\"]]\n",
    "    if (len(gemeinden_ungueltig) > 0):\n",
    "        print(f\"Gemeindekennzahlen in der Datei {file} wurde nicht gefunden:\")\n",
    "        print(gemeinden_ungueltig)\n",
    "    nrw[\"YEAR\"] = year\n",
    "    nrw = nrw.join(gemeinden, on=\"GKZ_BEV\").astype({\"BKZ_BEV\": \"Int64\", \"BLKZ\": \"Int64\"})\n",
    "    nrw = pd.melt(nrw.loc[:, ~nrw.columns.isin([\"Gebiet\"])],\n",
    "                  id_vars=[\"GKZ\", \"GKZ_BEV\", \"WKNR\", \"BKZ\", \"Wahlberechtigte\", \"StimmenAbgegeben\",\n",
    "                           \"StimmenGueltig\", \"StimmenUngueltig\", \"YEAR\", \"BKZ_BEV\", \"BLKZ\", \"PG\", \"PB\",\n",
    "                           \"BL\", \"WKNR_BEV\", \"WKNAME\", \"AREA\", \"CENTER_X\", \"CENTER_Y\"],\n",
    "                  var_name=\"Partei\", value_name=\"Stimmen\").astype({\"YEAR\": int, \"Partei\": \"string\", \"Stimmen\": int})\n",
    "    results = nrw if results is None else pd.concat([results, nrw])"
   ]
  },
  {
   "attachments": {},
   "cell_type": "markdown",
   "metadata": {},
   "source": [
    "#### Wahlkarten und Briefwahlkarten\n",
    "\n",
    "Wahlkarten werden auf Wahlkreisebene erfasst.\n",
    "Seit der NRW2008 gibt es die Möglichkeit der Briefwahl, sie wird bei den Bezirksergebnissen erfasst.\n",
    "Beide werden für die weitere Bearbeitung aliquot nach den Wahlberechtigten aufgeteilt."
   ]
  },
  {
   "cell_type": "code",
   "execution_count": null,
   "metadata": {},
   "outputs": [],
   "source": [
    "wahlberechtigte_aliquot = results[results.GKZ_BEV != 0].astype({\"GKZ\": int, \"BKZ\": int, \"Wahlberechtigte\": int})\\\n",
    "    .groupby([\"YEAR\", \"GKZ\"], as_index=False).first() \\\n",
    "    [[\"YEAR\", \"GKZ\", \"BKZ\", \"WKNR_BEV\", \"Wahlberechtigte\"]]\n",
    "# Bis 2006 aggergieren wir über Wahlkreise, danach wird auf Bezirksebene aliquotiert\n",
    "wahlberechtigte_aliquot[\"GemeindeanteilWahlkreis\"] = wahlberechtigte_aliquot.Wahlberechtigte / wahlberechtigte_aliquot.groupby([\"YEAR\", \"WKNR_BEV\"]).Wahlberechtigte.transform(np.sum)\n",
    "wahlberechtigte_aliquot[\"GemeindeanteilBezirk\"] = wahlberechtigte_aliquot.Wahlberechtigte / wahlberechtigte_aliquot.groupby([\"YEAR\", \"BKZ\"]).Wahlberechtigte.transform(np.sum)\n",
    "wahlberechtigte_aliquot = wahlberechtigte_aliquot.set_index([\"YEAR\", \"GKZ\"]) \\\n",
    "    [[\"GemeindeanteilWahlkreis\", \"GemeindeanteilBezirk\"]]"
   ]
  },
  {
   "cell_type": "code",
   "execution_count": null,
   "metadata": {},
   "outputs": [],
   "source": [
    "wahlkarten = results[results.GKZ.str.match(r\"[0-9][A-Z][0-9]99$\")] \\\n",
    "    [\"WKNR YEAR Partei StimmenAbgegeben\tStimmenGueltig\tStimmenUngueltig Stimmen\".split()] \\\n",
    "    .rename({\"StimmenAbgegeben\": \"StimmenAbgegebenWahlkarten\", \"StimmenGueltig\": \"StimmenGueltigWahlkarten\",\n",
    "             \"StimmenUngueltig\": \"StimmenUngueltigWahlkarten\", \"Stimmen\": \"StimmenWahlkarten\"}, axis=1)\n",
    "wahlkarten = wahlkarten.set_index([\"YEAR\", \"WKNR\", \"Partei\"])\n",
    "wahlkarten = wahlkarten.astype(int)\n",
    "briefwahl = results[results.GKZ.str.match(r\"[0-9]{3}99$\")].astype({\"BKZ\": int}) \\\n",
    "    [\"BKZ YEAR Partei StimmenAbgegeben\tStimmenGueltig\tStimmenUngueltig Stimmen\".split()] \\\n",
    "    .rename({\"StimmenAbgegeben\": \"StimmenAbgegebenBriefwahl\", \"StimmenGueltig\": \"StimmenGueltigBriefwahl\",\n",
    "             \"StimmenUngueltig\": \"StimmenUngueltigBriefwahl\", \"Stimmen\": \"StimmenBriefwahl\"}, axis=1)\n",
    "briefwahl = briefwahl.set_index([\"YEAR\", \"BKZ\", \"Partei\"]).astype(int)"
   ]
  },
  {
   "cell_type": "code",
   "execution_count": null,
   "metadata": {},
   "outputs": [],
   "source": [
    "results_mit_wk = results[results.GKZ_BEV != 0] \\\n",
    "    .astype({'GKZ': int, 'BKZ': int, 'BKZ_BEV': int, 'BLKZ': int, 'Wahlberechtigte': int, 'StimmenAbgegeben': int, 'StimmenGueltig': int, 'StimmenUngueltig': int}) \\\n",
    "    .join(wahlkarten, on=[\"YEAR\", \"WKNR_BEV\", \"Partei\"]) \\\n",
    "    .join(briefwahl, on=[\"YEAR\", \"BKZ\", \"Partei\"]) \\\n",
    "    .join(wahlberechtigte_aliquot, on=[\"YEAR\", \"GKZ\"])\n",
    "results_mit_wk[\"StimmenAbgegebenMitWk\"] = results_mit_wk.StimmenAbgegeben \\\n",
    "    + results_mit_wk.StimmenAbgegebenWahlkarten.fillna(0) * results_mit_wk.GemeindeanteilWahlkreis \\\n",
    "    + results_mit_wk.StimmenAbgegebenBriefwahl.fillna(0) * results_mit_wk.GemeindeanteilBezirk\n",
    "results_mit_wk[\"StimmenGueltigMitWk\"] = results_mit_wk.StimmenGueltig \\\n",
    "    + results_mit_wk.StimmenGueltigWahlkarten.fillna(0) * results_mit_wk.GemeindeanteilWahlkreis \\\n",
    "    + results_mit_wk.StimmenGueltigBriefwahl.fillna(0) * results_mit_wk.GemeindeanteilBezirk\n",
    "results_mit_wk[\"StimmenUngueltigMitWk\"] = results_mit_wk.StimmenUngueltig \\\n",
    "    + results_mit_wk.StimmenUngueltigWahlkarten.fillna(0) * results_mit_wk.GemeindeanteilWahlkreis \\\n",
    "    + results_mit_wk.StimmenUngueltigBriefwahl.fillna(0) * results_mit_wk.GemeindeanteilBezirk\n",
    "results_mit_wk[\"StimmenMitWk\"] = results_mit_wk.Stimmen \\\n",
    "    + results_mit_wk.StimmenWahlkarten.fillna(0) * results_mit_wk.GemeindeanteilWahlkreis \\\n",
    "    + results_mit_wk.StimmenBriefwahl.fillna(0) * results_mit_wk.GemeindeanteilBezirk\n",
    "# Durch Gemeindezusammenlegungen gibt es mehrere Gemeindedatensätze pro Partei und Jahr. Diese\n",
    "# werden zusammengefasst.\n",
    "results_mit_wk = results_mit_wk[['YEAR', 'GKZ_BEV', 'BKZ_BEV', 'BLKZ', 'PG', 'PB',\n",
    "    'BL', 'WKNR_BEV', 'WKNAME', 'AREA', 'CENTER_X', 'CENTER_Y',\n",
    "    'Wahlberechtigte', 'StimmenAbgegeben', 'StimmenGueltig', 'StimmenUngueltig',\n",
    "    'Partei', 'Stimmen', 'StimmenAbgegebenMitWk', 'StimmenGueltigMitWk', 'StimmenUngueltigMitWk',\n",
    "    'StimmenMitWk']] \\\n",
    "        .groupby(['YEAR', 'GKZ_BEV', 'Partei'], as_index=False) \\\n",
    "        .aggregate({'BKZ_BEV': \"first\", 'BLKZ': \"first\", 'PG': \"first\", 'PB': \"first\", 'BL': \"first\",\n",
    "                   'WKNR_BEV': \"first\", 'WKNAME': \"first\", 'AREA': \"first\", 'CENTER_X': \"first\", 'CENTER_Y': \"first\",\n",
    "                   'Wahlberechtigte': \"sum\", 'StimmenAbgegeben': \"sum\", 'StimmenGueltig': \"sum\", 'StimmenUngueltig': \"sum\",\n",
    "                   'Stimmen': \"sum\", 'StimmenAbgegebenMitWk': \"sum\", 'StimmenGueltigMitWk': \"sum\", 'StimmenUngueltigMitWk': \"sum\",\n",
    "                   'StimmenMitWk': \"sum\"})"
   ]
  },
  {
   "cell_type": "code",
   "execution_count": null,
   "metadata": {},
   "outputs": [],
   "source": [
    "results_mit_wk[results_mit_wk.YEAR == 1995].groupby([\"GKZ_BEV\"]).first().groupby([\"BL\"]) \\\n",
    "    .aggregate({'Wahlberechtigte': \"sum\", 'StimmenAbgegebenMitWk': \"sum\", 'StimmenGueltigMitWk': \"sum\", 'StimmenUngueltigMitWk': \"sum\"}) \\\n",
    "    .round(3)"
   ]
  },
  {
   "attachments": {},
   "cell_type": "markdown",
   "metadata": {},
   "source": [
    "### Schreiben der Ergebnisdatei"
   ]
  },
  {
   "cell_type": "code",
   "execution_count": null,
   "metadata": {},
   "outputs": [],
   "source": [
    "parteien = pd.read_csv(\"parteien.tsv\", encoding=\"utf-8\", sep=\"\\t\",\n",
    "                       dtype={\"Jahr\": int, \"Parteibezeichnung\": \"string\", \"Kurzbezeichnung\": \"string\"}) \\\n",
    "    .set_index([\"Jahr\", \"Kurzbezeichnung\"], verify_integrity=True)"
   ]
  },
  {
   "cell_type": "code",
   "execution_count": null,
   "metadata": {},
   "outputs": [],
   "source": [
    "results_export = results_mit_wk.join(parteien, on=[\"YEAR\", \"Partei\"])\n",
    "pd.io.clipboards.to_clipboard(results_export.sample(5).to_markdown(index=False), excel=False)    # pip install tabulate --upgrade\n",
    "results_export.to_csv(\"../nrw_ergebnisse.csv.bz2\", compression={'method': 'bz2', 'compresslevel': 9}, sep=\";\", encoding=\"utf-8\", index=False)\n",
    "results_export.to_csv(\"../nrw_ergebnisse_unicode.csv.bz2\", compression={'method': 'bz2', 'compresslevel': 9}, sep=\";\", encoding=\"utf-16\", index=False)\n",
    "results_export.to_parquet(\"../nrw_ergebnisse.parquet\", compression=\"brotli\")"
   ]
  },
  {
   "cell_type": "code",
   "execution_count": null,
   "metadata": {},
   "outputs": [],
   "source": [
    "results_export.dtypes"
   ]
  }
 ],
 "metadata": {
  "kernelspec": {
   "display_name": "Python 3",
   "language": "python",
   "name": "python3"
  },
  "language_info": {
   "codemirror_mode": {
    "name": "ipython",
    "version": 3
   },
   "file_extension": ".py",
   "mimetype": "text/x-python",
   "name": "python",
   "nbconvert_exporter": "python",
   "pygments_lexer": "ipython3",
   "version": "3.10.5"
  },
  "orig_nbformat": 4
 },
 "nbformat": 4,
 "nbformat_minor": 2
}
