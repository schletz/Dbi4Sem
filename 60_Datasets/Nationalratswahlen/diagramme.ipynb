{
 "cells": [
  {
   "attachments": {},
   "cell_type": "markdown",
   "metadata": {},
   "source": [
    "# Visualisierung der NR Wahlen"
   ]
  },
  {
   "cell_type": "code",
   "execution_count": null,
   "metadata": {},
   "outputs": [],
   "source": [
    "import pandas as pd, datetime as dt, numpy as np\n",
    "import matplotlib.pyplot as plt\n",
    "pd.set_option('display.max_rows', 128)"
   ]
  },
  {
   "cell_type": "code",
   "execution_count": null,
   "metadata": {},
   "outputs": [],
   "source": [
    "results_mit_wk = pd.read_parquet(\"wahlergebnisse.parquet\")\n",
    "jahre = results_mit_wk.YEAR.unique()"
   ]
  },
  {
   "attachments": {},
   "cell_type": "markdown",
   "metadata": {},
   "source": [
    "### Bundesergebnisse"
   ]
  },
  {
   "cell_type": "code",
   "execution_count": null,
   "metadata": {},
   "outputs": [],
   "source": [
    "x_ticks=jahre\n",
    "y_ticks=list(range(0, 55, 5))\n",
    "gemeindeergebnis = results_mit_wk[\"YEAR Partei StimmenMitWk StimmenGueltigMitWk\".split()] \\\n",
    "    .groupby([\"YEAR\", \"Partei\"]).aggregate({\"StimmenMitWk\": \"sum\", \"StimmenGueltigMitWk\": \"sum\"})\n",
    "gemeindeergebnis[\"Prozent\"] = round(100 * gemeindeergebnis.StimmenMitWk / gemeindeergebnis.StimmenGueltigMitWk, 2)\n",
    "gemeindeergebnis = gemeindeergebnis.Prozent.unstack()[\"SPÖ ÖVP FPÖ GRÜNE NEOS BZÖ\".split()]\n",
    "#gemeindeergebnis[\"FPÖVP\"] = gemeindeergebnis[\"ÖVP\"] + gemeindeergebnis[\"FPÖ\"]\n",
    "axis = gemeindeergebnis.plot.line(color={\"SPÖ\": \"#ff0000\", \"ÖVP\": \"#000000\", \"FPÖ\": \"#0000ff\", \"GRÜNE\": \"#2dd22d\",\n",
    "                                  \"NEOS\": \"#d22dca\", \"BZÖ\": \"#ff8000\",\n",
    "                                  \"Linksp\": \"#ff6666\", \"FPÖVP\": \"#001166\"},\n",
    "                           title=\"NR Wahlen in Österreich seit 1995\", xticks=x_ticks, yticks=y_ticks, grid=True, figsize=(10,5))\n",
    "axis.legend(loc='upper center', ncols=6)\n",
    "axis.figure.savefig(f\"../nr_wahlen_{dt.datetime.now():%H%M}.svg\")"
   ]
  },
  {
   "attachments": {},
   "cell_type": "markdown",
   "metadata": {},
   "source": [
    "### Gemeindeergebnisse"
   ]
  },
  {
   "cell_type": "code",
   "execution_count": null,
   "metadata": {},
   "outputs": [],
   "source": [
    "x_ticks=jahre\n",
    "y_ticks=list(range(0, 55, 5))\n",
    "gemeindeergebnis = results_mit_wk[results_mit_wk.GKZ_BEV == 30639][\"YEAR Partei StimmenMitWk StimmenGueltigMitWk\".split()].set_index([\"YEAR\", \"Partei\"])\n",
    "gemeindeergebnis[\"Prozent\"] = round(100 * gemeindeergebnis.StimmenMitWk / gemeindeergebnis.StimmenGueltigMitWk, 2)\n",
    "gemeindeergebnis = gemeindeergebnis.Prozent.unstack()[\"SPÖ ÖVP FPÖ GRÜNE NEOS\".split()]\n",
    "#gemeindeergebnis[\"FPÖVP\"] = gemeindeergebnis[\"ÖVP\"] + gemeindeergebnis[\"FPÖ\"]\n",
    "gemeindeergebnis.plot.line(color={\"SPÖ\": \"#ff0000\", \"ÖVP\": \"#000000\", \"FPÖ\": \"#0000ff\", \"GRÜNE\": \"#2dd22d\",\n",
    "                                  \"NEOS\": \"#d22dca\", \"BZÖ\": \"#ff8000\",\n",
    "                                  \"Linksp\": \"#ff6666\", \"FPÖVP\": \"#001166\"},\n",
    "               title=\"NR Wahlen in Traiskirchen seit 1995\", xticks=x_ticks, yticks=y_ticks, grid=True, figsize=(10,5));"
   ]
  },
  {
   "cell_type": "markdown",
   "metadata": {},
   "source": [
    "## Wahlberechtigte in Bezirken"
   ]
  },
  {
   "cell_type": "code",
   "execution_count": null,
   "metadata": {},
   "outputs": [],
   "source": [
    "import geopandas as gp  # https://geopandas.org/en/stable/docs/user_guide.html"
   ]
  },
  {
   "cell_type": "code",
   "execution_count": null,
   "metadata": {},
   "outputs": [],
   "source": [
    "bev_shapefile = \"VGD.shp\"    # Verwaltungsgrenzen aus dem BEV Katalog\n",
    "bezirke_shapefile = \"STATISTIK_AUSTRIA_POLBEZ_20230101.shp\"    # Bezirksgrenzen von Statistik Austria (für die Wiener Bezirke)\n",
    "# Aus dem prj File der Verwaltungsgrenzen.\n",
    "crs = 'PROJCS[\"MGI_Austria_Lambert\",GEOGCS[\"GCS_MGI\",DATUM[\"D_MGI\",SPHEROID[\"Bessel_1841\",6377397.155,299.1528128]],PRIMEM[\"Greenwich\",0.0],UNIT[\"Degree\",0.0174532925199433]],PROJECTION[\"Lambert_Conformal_Conic\"],PARAMETER[\"False_Easting\",400000.0],PARAMETER[\"False_Northing\",400000.0],PARAMETER[\"Central_Meridian\",13.33333333333333],PARAMETER[\"Standard_Parallel_1\",46.0],PARAMETER[\"Standard_Parallel_2\",49.0],PARAMETER[\"Latitude_Of_Origin\",47.5],UNIT[\"Meter\",1.0]]'"
   ]
  },
  {
   "cell_type": "code",
   "execution_count": null,
   "metadata": {},
   "outputs": [],
   "source": [
    "# Gemeinden ohne Wien lesen. Wien hat Gemeindebezirke, diese sind aber hier nicht enthalten.\n",
    "katastralgemeinden = gp.read_file(bev_shapefile, encoding=\"utf-8\") \\\n",
    "    [['KG_NR', 'GKZ', 'BKZ', 'BL_KZ', 'KG', 'PG', 'PB', 'BL', 'geometry']] \\\n",
    "    .rename({'BL_KZ': 'BLKZ'}, axis=1) \\\n",
    "    .astype({\"KG_NR\": int, \"GKZ\": int, \"BKZ\": int, \"BLKZ\": int, \"KG\": \"string\", \"PG\": \"string\", \"PB\": \"string\", \"BL\": \"string\"}) \\\n",
    "    .query(\"GKZ < 90000\") \\\n",
    "    .set_crs(crs, allow_override=True)\n",
    "katastralgemeinden[\"PB\"] = katastralgemeinden.PB.str.replace(\"(\", \" (\", regex=False)\n",
    "# Gemeindebezirke von Wien lesen. Wir bilden diese Bezirke als eigene Gemeinde ab.\n",
    "bezirke_wien = gp.read_file(bezirke_shapefile, encoding=\"utf-8\", crs=\"EPSG:31287\") \\\n",
    "    .rename({'g_id': \"BKZ\", \"g_name\": \"PG\"}, axis=1) \\\n",
    "    .astype({\"BKZ\": int, \"PG\": \"string\"}) \\\n",
    "    .query(\"BKZ >= 901\") \\\n",
    "    .set_crs(crs, allow_override=True)\n",
    "bezirke_wien[\"GKZ\"] = bezirke_wien.BKZ * 100 + 1\n",
    "bezirke_wien[\"PG\"] = bezirke_wien.PG.str.replace(\",\", \", \", regex=False)\n",
    "bezirke_wien[\"PG\"] = bezirke_wien.PG.str.replace(\"\\s+\", \" \", regex=True)\n",
    "bezirke_wien[\"PB\"] = bezirke_wien.PG\n",
    "bezirke_wien[\"BLKZ\"] = 9\n",
    "bezirke_wien[\"BL\"] = \"Wien\"\n",
    "bezirke_wien[\"BL\"] = bezirke_wien.BL.astype(\"string\")\n",
    "gemeinden_shp = katastralgemeinden.dissolve(by=\"GKZ\").drop([\"KG_NR\", \"KG\"], axis=1).reset_index()\n",
    "gemeinden_shp = pd.concat([gemeinden_shp, bezirke_wien])\n",
    "bezirke = gemeinden_shp.dissolve(by=\"BKZ\").drop([\"GKZ\", \"PG\"], axis=1).reset_index().set_index(\"BKZ\")\n"
   ]
  },
  {
   "cell_type": "code",
   "execution_count": null,
   "metadata": {},
   "outputs": [],
   "source": [
    "wahlberechtigte = results_mit_wk.groupby([\"YEAR\", \"GKZ_BEV\"], as_index=False).first() \\\n",
    "    .query(\"(YEAR == 1995) | (YEAR == 2019)\") \\\n",
    "    .groupby([\"BKZ_BEV\", \"YEAR\"]).aggregate(Wahlberechtigte=(\"Wahlberechtigte\", \"sum\")).Wahlberechtigte.unstack() \\\n",
    "    .join(bezirke).astype({1995: int, 2019: int}).rename({1995: \"YEAR1995\", 2019: \"YEAR2019\"}, axis=1)\n",
    "wahlberechtigte[\"DIFF\"] = round(100*(wahlberechtigte[\"YEAR2019\"] - wahlberechtigte[\"YEAR1995\"])/wahlberechtigte[\"YEAR1995\"], 2)\n",
    "wahlberechtigte_shp = gp.GeoDataFrame(wahlberechtigte.reset_index(), crs=crs)\n",
    "wahlberechtigte_shp.dtypes\n",
    "wahlberechtigte_shp.to_file(\"wahlberechtigte.shp\")"
   ]
  }
 ],
 "metadata": {
  "kernelspec": {
   "display_name": "Python 3",
   "language": "python",
   "name": "python3"
  },
  "language_info": {
   "codemirror_mode": {
    "name": "ipython",
    "version": 3
   },
   "file_extension": ".py",
   "mimetype": "text/x-python",
   "name": "python",
   "nbconvert_exporter": "python",
   "pygments_lexer": "ipython3",
   "version": "3.10.5"
  },
  "orig_nbformat": 4
 },
 "nbformat": 4,
 "nbformat_minor": 2
}
