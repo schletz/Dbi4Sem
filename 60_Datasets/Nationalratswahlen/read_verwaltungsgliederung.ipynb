{
 "cells": [
  {
   "attachments": {},
   "cell_type": "markdown",
   "metadata": {},
   "source": [
    "# Export der Gemeinden, Bezirke und Bundesländer\n",
    "\n",
    "Liest die Gemeindekennzahlen, Bezirke und Bundesländer aus den Shapefiles der Verwaltungsgrenzen.\n",
    "\n",
    "Quellen:\n",
    "- **BEV: Verwaltungsgrenzen - VGD**: https://www.bev.gv.at/Services/Downloads/Produktbezogene-Downloads/Unentgeltliche-Produkte/Kataster-Verzeichnisse.html\n",
    "- **Gliederung Österreichs in Politische Bezirke:** https://www.data.gv.at/katalog/dataset/stat_gliederung-osterreichs-in-politische-bezirke131e2\n",
    "- **Wahlkreiseinteilung:** https://www.bmi.gv.at/412/Nationalratswahlen/Wahlkreiseinteilung.aspx"
   ]
  },
  {
   "cell_type": "code",
   "execution_count": null,
   "metadata": {},
   "outputs": [],
   "source": [
    "import pandas as pd, datetime as dt, numpy as np\n",
    "import geopandas as gp  # https://geopandas.org/en/stable/docs/user_guide.html\n",
    "import matplotlib.pyplot as plt\n",
    "pd.set_option('display.max_rows', 128)"
   ]
  },
  {
   "cell_type": "code",
   "execution_count": null,
   "metadata": {},
   "outputs": [],
   "source": [
    "bev_shapefile = \"VGD.shp\"    # Verwaltungsgrenzen aus dem BEV Katalog\n",
    "bezirke_shapefile = \"STATISTIK_AUSTRIA_POLBEZ_20230101.shp\"    # Bezirksgrenzen von Statistik Austria (für die Wiener Bezirke)\n",
    "# Aus dem prj File der Verwaltungsgrenzen.\n",
    "crs = 'PROJCS[\"MGI_Austria_Lambert\",GEOGCS[\"GCS_MGI\",DATUM[\"D_MGI\",SPHEROID[\"Bessel_1841\",6377397.155,299.1528128]],PRIMEM[\"Greenwich\",0.0],UNIT[\"Degree\",0.0174532925199433]],PROJECTION[\"Lambert_Conformal_Conic\"],PARAMETER[\"False_Easting\",400000.0],PARAMETER[\"False_Northing\",400000.0],PARAMETER[\"Central_Meridian\",13.33333333333333],PARAMETER[\"Standard_Parallel_1\",46.0],PARAMETER[\"Standard_Parallel_2\",49.0],PARAMETER[\"Latitude_Of_Origin\",47.5],UNIT[\"Meter\",1.0]]'"
   ]
  },
  {
   "cell_type": "code",
   "execution_count": null,
   "metadata": {},
   "outputs": [],
   "source": [
    "# Gemeinden ohne Wien lesen. Wien hat Gemeindebezirke, diese sind aber hier nicht enthalten.\n",
    "katastralgemeinden = gp.read_file(bev_shapefile, encoding=\"utf-8\") \\\n",
    "    [['KG_NR', 'GKZ', 'BKZ', 'BL_KZ', 'KG', 'PG', 'PB', 'BL', 'geometry']] \\\n",
    "    .rename({'BL_KZ': 'BLKZ'}, axis=1) \\\n",
    "    .astype({\"KG_NR\": int, \"GKZ\": int, \"BKZ\": int, \"BLKZ\": int, \"KG\": \"string\", \"PG\": \"string\", \"PB\": \"string\", \"BL\": \"string\"}) \\\n",
    "    .query(\"GKZ < 90000\") \\\n",
    "    .set_crs(crs, allow_override=True)\n",
    "katastralgemeinden[\"PB\"] = katastralgemeinden.PB.str.replace(\"(\", \" (\", regex=False)\n",
    "# Gemeindebezirke von Wien lesen. Wir bilden diese Bezirke als eigene Gemeinde ab.\n",
    "bezirke_wien = gp.read_file(bezirke_shapefile, encoding=\"utf-8\", crs=\"EPSG:31287\") \\\n",
    "    .rename({'g_id': \"BKZ\", \"g_name\": \"PG\"}, axis=1) \\\n",
    "    .astype({\"BKZ\": int, \"PG\": \"string\"}) \\\n",
    "    .query(\"BKZ >= 901\") \\\n",
    "    .set_crs(crs, allow_override=True)\n",
    "bezirke_wien[\"GKZ\"] = bezirke_wien.BKZ * 100 + 1\n",
    "bezirke_wien[\"PG\"] = bezirke_wien.PG.str.replace(\",\", \", \", regex=False)\n",
    "bezirke_wien[\"PG\"] = bezirke_wien.PG.str.replace(\"\\s+\", \" \", regex=True)\n",
    "bezirke_wien[\"PB\"] = bezirke_wien.PG\n",
    "bezirke_wien[\"BLKZ\"] = 9\n",
    "bezirke_wien[\"BL\"] = \"Wien\"\n",
    "bezirke_wien[\"BL\"] = bezirke_wien.BL.astype(\"string\")"
   ]
  },
  {
   "cell_type": "code",
   "execution_count": null,
   "metadata": {},
   "outputs": [],
   "source": [
    "wahlkreise = pd.read_csv(\"wahlkreise.tsv\", encoding=\"utf-8\", sep=\"\\t\").convert_dtypes().set_index(\"BKZ\")\n",
    "gemeinden = katastralgemeinden.dissolve(by=\"GKZ\").drop([\"KG_NR\", \"KG\"], axis=1).reset_index()\n",
    "gemeinden = pd.concat([gemeinden, bezirke_wien]).join(wahlkreise, on=\"BKZ\")\n",
    "bezirke = gemeinden.dissolve(by=\"BKZ\").drop([\"GKZ\", \"PG\"], axis=1).reset_index()\n",
    "bundeslaender = gemeinden.dissolve(by=\"BLKZ\").drop([\"GKZ\", \"PG\", \"BKZ\", \"PB\", \"WKNR\", \"WKNAME\"], axis=1).reset_index()"
   ]
  },
  {
   "attachments": {},
   "cell_type": "markdown",
   "metadata": {},
   "source": [
    "Den Mittelpunkt der Objekte berechnen, nach WSG84 konvertieren und die Geoinformation löschen."
   ]
  },
  {
   "cell_type": "code",
   "execution_count": null,
   "metadata": {},
   "outputs": [],
   "source": [
    "for df in [gemeinden, bezirke, bundeslaender]:\n",
    "    df[\"CENTER\"] = df.centroid\n",
    "    df[\"AREA\"] = round(df.area / 1_000_000, 3)\n",
    "    df.set_geometry(\"CENTER\", inplace=True)\n",
    "    df.to_crs(\"WGS84\", inplace=True)\n",
    "    df[\"CENTER_X\"] = round(df.CENTER.x, 6)\n",
    "    df[\"CENTER_Y\"] = round(df.CENTER.y, 6)\n",
    "    df.drop([\"CENTER\", \"geometry\"], axis=1, inplace=True)\n"
   ]
  },
  {
   "cell_type": "code",
   "execution_count": null,
   "metadata": {},
   "outputs": [],
   "source": [
    "gemeinden.sort_values(\"GKZ\").to_csv(\"gemeinden.tsv\", sep=\"\\t\", encoding=\"utf-8\", index=False)\n",
    "bezirke.sort_values(\"BKZ\").to_csv(\"bezirke.tsv\", sep=\"\\t\", encoding=\"utf-8\", index=False)\n",
    "bundeslaender.sort_values(\"BLKZ\").to_csv(\"bundeslaender.tsv\", sep=\"\\t\", encoding=\"utf-8\", index=False)"
   ]
  }
 ],
 "metadata": {
  "kernelspec": {
   "display_name": "Python 3",
   "language": "python",
   "name": "python3"
  },
  "language_info": {
   "codemirror_mode": {
    "name": "ipython",
    "version": 3
   },
   "file_extension": ".py",
   "mimetype": "text/x-python",
   "name": "python",
   "nbconvert_exporter": "python",
   "pygments_lexer": "ipython3",
   "version": "3.10.5"
  },
  "orig_nbformat": 4
 },
 "nbformat": 4,
 "nbformat_minor": 2
}
