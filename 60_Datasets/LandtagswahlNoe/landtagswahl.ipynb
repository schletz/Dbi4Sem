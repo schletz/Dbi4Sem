{
 "cells": [
  {
   "attachments": {},
   "cell_type": "markdown",
   "metadata": {},
   "source": [
    "# NÖ Landtagswahlen seit 1998\n",
    "\n",
    "Quellen:\n",
    "\n",
    "- **Landtagswahlen seit 1998:** https://www.noel.gv.at/noe/Wahlen/Landtagswahlen.html\n",
    "- **Verwaltungsgrenzen:** https://www.bev.gv.at/Services/Downloads/Produktbezogene-Downloads/Unentgeltliche-Produkte/Kataster-Verzeichnisse.html\n",
    "- **Umcodierung der Gemeindekennziffern Niederösterreich:** https://www.data.gv.at/katalog/dataset/7f759371-bdb3-4f58-9dbd-835eb3c19efa"
   ]
  },
  {
   "cell_type": "code",
   "execution_count": null,
   "metadata": {},
   "outputs": [],
   "source": [
    "import pandas as pd, datetime as dt, numpy as np\n",
    "import matplotlib.pyplot as plt\n",
    "pd.set_option('display.max_rows', 128)"
   ]
  },
  {
   "cell_type": "code",
   "execution_count": null,
   "metadata": {},
   "outputs": [],
   "source": [
    "def parse_bmi_file(filename, year, parties):\n",
    "    type_list = []\n",
    "    year_list = []\n",
    "    gemeinde_list = []\n",
    "    date_created_list = []\n",
    "    wahlberechtigt_list = []\n",
    "    wahlberechtigt_male_list = []\n",
    "    wahlberechtigt_female_list = []\n",
    "    stimmen_list = []\n",
    "    stimmen_ungueltig_list = []\n",
    "    stimmen_gueltig_list = []\n",
    "    party_list = []\n",
    "    count_list = []\n",
    "    row = 0\n",
    "    type = \"\"\n",
    "    with open(filename, mode=\"r\") as file:\n",
    "        while True:\n",
    "            line = file.readline()\n",
    "            if not line: break\n",
    "            row += 1\n",
    "            if row == 1:\n",
    "                type = line[0:1]\n",
    "                continue\n",
    "            gemeinde = line[0:5]\n",
    "            date_created = line[5:19]\n",
    "            wahlberechtigt = line[19:26]\n",
    "            wahlberechtigt_male = line[26:33]\n",
    "            wahlberechtigt_female = line[33:40]\n",
    "            stimmen = line[40:47]\n",
    "            stimmen_ungueltig = line[47:54]\n",
    "            stimmen_gueltig = line[54:61]\n",
    "            start = 61\n",
    "            for party in parties:\n",
    "                count = line[start:start+7]\n",
    "                type_list.append(type)\n",
    "                year_list.append(year)\n",
    "                gemeinde_list.append(int(gemeinde))\n",
    "                date_created_list.append(pd.to_datetime(date_created, format=\"%Y%m%d%H%M%S\"))\n",
    "                wahlberechtigt_list.append(int(wahlberechtigt))\n",
    "                wahlberechtigt_male_list.append(int(wahlberechtigt_male))\n",
    "                wahlberechtigt_female_list.append(int(wahlberechtigt_female))\n",
    "                stimmen_list.append(int(stimmen))\n",
    "                stimmen_ungueltig_list.append(int(stimmen_ungueltig))\n",
    "                stimmen_gueltig_list.append(int(stimmen_gueltig))\n",
    "                party_list.append(party)\n",
    "                count_list.append(int(count))\n",
    "                start = start + 7\n",
    "    return pd.DataFrame({\n",
    "        \"Typ\": type_list, \"Jahr\": year_list,\n",
    "        \"GemeindeKennzahl\": gemeinde_list, \"Crated\": date_created_list, \"Wahlberechtigte\": wahlberechtigt_list,\n",
    "        \"WahlberechtigteMale\": wahlberechtigt_male_list, \"WahlberechtigtFemale\": wahlberechtigt_female_list,\n",
    "        \"StimmenGesamt\": stimmen_list, \"StimmenGesamtUngueltig\": stimmen_ungueltig_list,\n",
    "        \"StimmenGesamtGueltig\": stimmen_gueltig_list, \"Partei\": party_list,\n",
    "        \"Stimmen\": count_list})\n"
   ]
  },
  {
   "attachments": {},
   "cell_type": "markdown",
   "metadata": {},
   "source": [
    "Parteien laden. Sie bestimmem die Reihenfolge in der BMI Datei."
   ]
  },
  {
   "cell_type": "code",
   "execution_count": null,
   "metadata": {},
   "outputs": [],
   "source": [
    "parteien = pd.read_csv(\"parteien.txt\", sep=\"\\t\", encoding=\"utf_8\",\n",
    "                       dtype={\"Typ\": \"string\", \"Jahr\": int, \"Pos\": int, \"Partei\": \"string\",\n",
    "                              \"ParteiName\": \"string\"})"
   ]
  },
  {
   "attachments": {},
   "cell_type": "markdown",
   "metadata": {},
   "source": [
    "Gemeindeverzeichnis laden."
   ]
  },
  {
   "cell_type": "code",
   "execution_count": null,
   "metadata": {},
   "outputs": [],
   "source": [
    "gemeinden = pd.read_csv(\"gemeinden.csv.bz2\", sep=\";\", encoding=\"utf_8\",\n",
    "                        usecols=[\"GKZ\", \"PG\", \"PB\", \"BL\", \"area\"],\n",
    "                        dtype={\"GKZ\": int, \"PG\": \"string\", \"PB\": \"string\", \"BL\": \"string\", \"area\": float}) \\\n",
    "    .groupby(\"GKZ\") \\\n",
    "    .aggregate({\"PG\": \"first\",  \"PB\": \"first\", \"BL\": \"first\", \"area\": \"sum\"})\n",
    "gemeinden[\"area\"] = round(gemeinden.area / 1_000_000, 3)\n",
    "gemeinden_locations = pd.read_csv(\"gemeinden_locations.csv\", sep=\";\", encoding=\"utf_8\",\n",
    "                                  usecols=[\"GKZ\", \"X\", \"Y\"], dtype={\"X\": float, \"Y\": float, \"GKZ\": int}) \\\n",
    "    .set_index(\"GKZ\")\n",
    "gemeinden_locations[\"X\"] = gemeinden_locations.X.round(6)\n",
    "gemeinden_locations[\"Y\"] = gemeinden_locations.Y.round(6)\n",
    "gemeinden = gemeinden.join(gemeinden_locations)\n",
    "gemeinden = gemeinden.rename({\"area\": \"GemeindeArea\", \"PG\": \"GemeindeName\", \"PB\": \"GemeindeBezirk\",\n",
    "                              \"BL\": \"GemeindeBundesland\", \"X\": \"GemeindeLongitude\", \"Y\": \"GemeindeLatitude\"},axis=1)\n"
   ]
  },
  {
   "attachments": {},
   "cell_type": "markdown",
   "metadata": {},
   "source": [
    "Manche Gemeinden haben wegen der Auflösung des Politischen Bezirkes Wien-Umgebung per 31.12.2016 eine andere Kennziffer bekommen.\n",
    "Siehe https://www.data.gv.at/katalog/dataset/7f759371-bdb3-4f58-9dbd-835eb3c19efa"
   ]
  },
  {
   "cell_type": "code",
   "execution_count": null,
   "metadata": {},
   "outputs": [],
   "source": [
    "gkz_translate = pd.read_csv(\"noe_umcodierung_lau2.csv\", sep=\";\", encoding=\"utf_8\",\n",
    "                            usecols=[\"LAU2_CODE_2016\", \"LAU2_CODE_2017\"],\n",
    "                            dtype={\"LAU2_CODE_2016\": int, \"LAU2_CODE_2017\": int})\n",
    "gkz_translate_dict = gkz_translate[gkz_translate.LAU2_CODE_2016 != gkz_translate.LAU2_CODE_2017] \\\n",
    "    .set_index(\"LAU2_CODE_2016\").LAU2_CODE_2017.to_dict()"
   ]
  },
  {
   "attachments": {},
   "cell_type": "markdown",
   "metadata": {},
   "source": [
    "Die BMI Datendateien laden"
   ]
  },
  {
   "cell_type": "code",
   "execution_count": null,
   "metadata": {},
   "outputs": [],
   "source": [
    "ergebnisse = None\n",
    "for year, values in parteien.groupby(\"Jahr\"):\n",
    "    filename = f\"lw{year%100:02}.bmi\"\n",
    "    parteien_list = values.sort_values(\"Pos\").Partei\n",
    "    print(f\"Lese Ergebnisse aus {filename}\")\n",
    "    df = parse_bmi_file(f\"lw{year%100:02}.bmi\", year, parteien_list) \\\n",
    "        .astype({\"Typ\": \"string\", \"Partei\": \"string\"})\n",
    "    df = df[(df.GemeindeKennzahl % 100 > 0) & (df.GemeindeKennzahl % 100 < 99)]\n",
    "    df[\"GemeindeKennzahl\"] = df.GemeindeKennzahl.replace(gkz_translate_dict)\n",
    "    result = df.join(gemeinden, on=\"GemeindeKennzahl\")\n",
    "    ergebnisse = result if ergebnisse is None else pd.concat([ergebnisse, result])\n",
    "    if result.GemeindeName.isna().sum() > 0:\n",
    "        print(\"Nicht gefundene Gemeindekennzahlen:\")\n",
    "        print(result[result.GemeindeName.isna()].GemeindeKennzahl.unique())\n",
    "ergebnisse = ergebnisse.merge(parteien[[\"Partei\", \"ParteiName\"]], left_on=\"Partei\", right_on=\"Partei\")        "
   ]
  },
  {
   "cell_type": "code",
   "execution_count": null,
   "metadata": {},
   "outputs": [],
   "source": [
    "ergebnisse.dtypes"
   ]
  },
  {
   "cell_type": "code",
   "execution_count": null,
   "metadata": {},
   "outputs": [],
   "source": [
    "pd.io.clipboards.to_clipboard(ergebnisse.sample(5).to_markdown(index=False), excel=False)    # pip install tabulate --upgrade\n",
    "ergebnisse.to_csv(\"../ltw_noe.csv.bz2\", compression={'method': 'bz2', 'compresslevel': 9}, sep=\";\", encoding=\"utf-8\", index=False)\n",
    "ergebnisse.to_csv(\"../ltw_noe_unicode.csv.bz2\", compression={'method': 'bz2', 'compresslevel': 9}, sep=\";\", encoding=\"utf-16\", index=False)\n",
    "ergebnisse.to_parquet(\"../ltw_noe.parquet\", compression=\"brotli\")"
   ]
  }
 ],
 "metadata": {
  "kernelspec": {
   "display_name": "Python 3",
   "language": "python",
   "name": "python3"
  },
  "language_info": {
   "codemirror_mode": {
    "name": "ipython",
    "version": 3
   },
   "file_extension": ".py",
   "mimetype": "text/x-python",
   "name": "python",
   "nbconvert_exporter": "python",
   "pygments_lexer": "ipython3",
   "version": "3.10.5"
  },
  "orig_nbformat": 4
 },
 "nbformat": 4,
 "nbformat_minor": 2
}
