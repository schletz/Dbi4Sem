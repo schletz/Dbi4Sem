{
 "cells": [
  {
   "cell_type": "markdown",
   "metadata": {},
   "source": [
    "# Zugriff auf das Active Directory\n",
    "Mit Python können wir über das Paket *ldap3* auf das Active Directory der Schule zugreifen. Dabei\n",
    "wird das LDAP Protokoll verwendet.\n",
    "\n",
    "Zuerst schreiben wir eine Funktion *get_entries*, die einen Suchfilter bekommt und die entsprechenden\n",
    "Einträge als Dataframe liefert. Diesen können wir dann nach Belieben auswerten."
   ]
  },
  {
   "cell_type": "code",
   "execution_count": null,
   "metadata": {},
   "outputs": [],
   "source": [
    "import ldap3  # pip install ldap3\n",
    "import pandas as pd, datetime as dt, numpy as np\n",
    "from getpass import getpass\n",
    "from ad_client import create_client  # In Datei ad_client.py definiert"
   ]
  },
  {
   "cell_type": "markdown",
   "metadata": {},
   "source": [
    "## Lesen des AD"
   ]
  },
  {
   "cell_type": "markdown",
   "metadata": {},
   "source": [
    "Für die Verbindung brauchen wir Benutzername und Passwort. Das wollen wir natürlich nicht im\n",
    "Notebook speichern. Daher fordern wir es zur Laufzeit an und schreiben die Eingabe in eine\n",
    "Variable."
   ]
  },
  {
   "cell_type": "code",
   "execution_count": null,
   "metadata": {},
   "outputs": [],
   "source": [
    "username = input(\"Username\")\n",
    "password = getpass()\n",
    "client = create_client(username, password)"
   ]
  },
  {
   "cell_type": "markdown",
   "metadata": {},
   "source": [
    "Jetzt wird das ganze AD gelesen."
   ]
  },
  {
   "cell_type": "code",
   "execution_count": null,
   "metadata": {},
   "outputs": [],
   "source": [
    "ad_user = client.read_ad()\n",
    "ad_user.info()"
   ]
  },
  {
   "cell_type": "markdown",
   "metadata": {},
   "source": [
    "## Abfragebeispiele"
   ]
  },
  {
   "cell_type": "code",
   "execution_count": null,
   "metadata": {},
   "outputs": [],
   "source": [
    "# Welcher User hat den Accountnamen abc? Da der cn ein Index ist, können wir mit loc abfragen.\n",
    "ad_user.loc[\"abc\"]"
   ]
  },
  {
   "cell_type": "code",
   "execution_count": null,
   "metadata": {},
   "outputs": [],
   "source": [
    "# Welche User wurden nach dem 1.9.2021 angelegt?\n",
    "ad_user[ad_user.CREATED.dt.date > dt.date(2021,9,1)]"
   ]
  },
  {
   "cell_type": "code",
   "execution_count": null,
   "metadata": {},
   "outputs": [],
   "source": [
    "# Welche Schüler sind in der 2AHIF?\n",
    "ad_user[ad_user.apply(lambda p: any(m for m in p.MEMBER_OF if \"CN=2AHIF\" in m), axis=1)]"
   ]
  }
 ],
 "metadata": {
  "interpreter": {
   "hash": "3bd13bc16400e16874b7ce28af58a129343287e94248a182c1f06fbb6b76ef8e"
  },
  "kernelspec": {
   "display_name": "Python 3.10.1 64-bit",
   "language": "python",
   "name": "python3"
  },
  "language_info": {
   "codemirror_mode": {
    "name": "ipython",
    "version": 3
   },
   "file_extension": ".py",
   "mimetype": "text/x-python",
   "name": "python",
   "nbconvert_exporter": "python",
   "pygments_lexer": "ipython3",
   "version": "3.10.4"
  },
  "orig_nbformat": 4
 },
 "nbformat": 4,
 "nbformat_minor": 2
}
